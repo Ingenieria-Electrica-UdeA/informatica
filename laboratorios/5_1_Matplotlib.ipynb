{
  "cells": [
    {
      "cell_type": "markdown",
      "id": "Xn3Fc1nvEH20",
      "metadata": {
        "id": "Xn3Fc1nvEH20"
      },
      "source": [
        "<a href=\"https://colab.research.google.com/github/Ingenieria-Electrica-UdeA/informatica/blob/main/laboratorios/5_1_Matplotlib.ipynb\" target=\"_blank\">\n",
        "    <img src=\"https://colab.research.google.com/assets/colab-badge.svg\" alt=\"Open In Colab\"/>\n",
        "</a>"
      ]
    },
    {
      "cell_type": "markdown",
      "id": "5b2b36e9",
      "metadata": {},
      "source": [
        "<img src=\"https://raw.githubusercontent.com/Ingenieria-Electrica-UdeA/banco_imagenes/main/banners/banner-informatica.jpg\" alt=\"Banner Informática\">"
      ]
    },
    {
      "cell_type": "markdown",
      "id": "91c8f844",
      "metadata": {
        "id": "91c8f844"
      },
      "source": [
        "\n",
        "# <font color='056938'> **Introducción a la librería Matplotlib** </font>\n",
        "\n",
        "Se concibió para reproducir un ambiente de visualización similar al de MATLAB, en términos de los resultados gráficos y de la sintaxis.\n",
        "\n",
        "**http://matplotlib.org**\n",
        "\n",
        "Librería que permite gestionar elementos gráficos mediante programación: <br>\n",
        "$\\rightarrow \\ $ Se puede controlar completamente el resultado gráfico. <br>\n",
        "$\\rightarrow \\ $ Permite el manejo de datos con reproducibilidad en varios ambientes de trabajo.<br>\n",
        "$\\rightarrow \\ $ Permite conservar uniformidad en gráficos cuando se cambian los datos.\n",
        "\n",
        "**Ventajas:**\n",
        "\n",
        "- Uso fácil.\n",
        "- Desarrollo gradual y visualización interactiva.\n",
        "- Permite incorporar texto y ecuaciones de LaTeX.\n",
        "- Control avanzado sobre elementos gráficos.\n",
        "- Exportación en múltiples formatos: PNG, PDF, SVG, EPS."
      ]
    },
    {
      "cell_type": "markdown",
      "id": "70931db7",
      "metadata": {
        "id": "70931db7"
      },
      "source": [
        "# <font color='056938'> **Importación de librerías** </font>\n",
        "\n",
        "Siempre que se trabaje con cálculos numéricos es necesario importar `numpy`.\n",
        "\n",
        "De la librería `matplotlib` se importa la librería `pyplot`, comúnmente con el alias `plt`.\n",
        "\n",
        "Para que las gráficas aparezcan en la salida de la celda respectiva se debe añadir la línea de código siguiente: `%matplotlib notebook`.\n",
        "\n",
        "Adicionalmente, si se desea interactuar con la gráficas, por ejemplo, haciendo ampliaciones y desplazamientos en las curvas, se debe repetir el código anterior: `%matplotlib notebook`."
      ]
    },
    {
      "cell_type": "code",
      "execution_count": null,
      "id": "88acefed",
      "metadata": {
        "executionInfo": {
          "elapsed": 12,
          "status": "ok",
          "timestamp": 1690832303786,
          "user": {
            "displayName": "DANIEL FELIPE TOBON ESPINOSA",
            "userId": "09849518353050428095"
          },
          "user_tz": 300
        },
        "id": "88acefed"
      },
      "outputs": [],
      "source": [
        "import numpy as np\n",
        "import matplotlib.pyplot as plt\n",
        "\n",
        "# Se muestran las gráficas como salida de las celdas\n",
        "%matplotlib inline\n",
        "#%matplotlib notebook\n"
      ]
    },
    {
      "cell_type": "markdown",
      "id": "53251488",
      "metadata": {
        "id": "53251488"
      },
      "source": [
        "\n",
        "# <font color='056938'> **Partes de una figura en matplotlib** </font>\n",
        "\n",
        "La siguiente gráfica muestra las principales componentes de una figura en `matplotlib`\n",
        "![pic](https://drive.google.com/uc?id=1iJ_Aby1noDcq1M-uiOLme9ZMtKdPrbPu)\n",
        "\n",
        "\n",
        "\n",
        "\n",
        "\n"
      ]
    },
    {
      "cell_type": "markdown",
      "id": "5aLskDsKGsAQ",
      "metadata": {
        "id": "5aLskDsKGsAQ"
      },
      "source": [
        "\n",
        "##  <font color='8EC044'> **Figure** (Figura) </font>\n",
        "\n",
        "\n",
        "La figura completa. Comprende todos las gráficas, ejes y \"adornos\" (títulos, leyendas, etc.).\n",
        "\n",
        "La forma más sencilla de crear una figura es con pyplot (`plt`):\n",
        "\n",
        "| | | |\n",
        "| :--- | :---: | :--- |\n",
        "| `fig = plt.figure()` | $\\rightarrow$ | Figura vacía sin gráficas|\n",
        "| `fig, ax = plt.subplots()` | $\\rightarrow$ | Figura con una sola gráfica |\n",
        "| `fig, axs = plt.subplots(m, n)` | $\\rightarrow$ | Figura con un arreglo de `m` x `n` gráficas |\n"
      ]
    },
    {
      "cell_type": "markdown",
      "id": "Y-llU2ZRGyOv",
      "metadata": {
        "id": "Y-llU2ZRGyOv"
      },
      "source": [
        "\n",
        "##  <font color='8EC044'> **Axes** (Gráficas) </font>\n",
        "\n",
        "\n",
        "\n",
        "Son la región de la imagen que contiene los datos. Una figura puede tener varias gráficas, pero una gráfica puede pertenecer sólo a una figura. Una gráfica puede contener dos o tres **ejes**, los cuales controlan los límites de los datos en la gráfica.\n"
      ]
    },
    {
      "cell_type": "markdown",
      "id": "dm8pRFZyG6_l",
      "metadata": {
        "id": "dm8pRFZyG6_l"
      },
      "source": [
        "\n",
        "##  <font color='8EC044'> **Axis** (Ejes) </font>\n",
        "\n",
        "\n",
        "Son las líneas con datos numéricos que nos son familiares. Con éstos se especifican los límites y las marcas de datos.\n"
      ]
    },
    {
      "cell_type": "markdown",
      "id": "z33YNLATG87w",
      "metadata": {
        "id": "z33YNLATG87w"
      },
      "source": [
        "\n",
        "##  <font color='8EC044'> **Artist** (Adornos) </font>\n",
        "\n",
        "\n",
        "Todo lo demás que se puede ver en una figura, que no sea la gráfica o los ejes. Incluye objetos de texto, de líneas, etc. (flechas, leyendas, títulos, cuadros de texto, etc.).\n",
        "\n",
        "\n",
        "\n",
        "![pic](https://drive.google.com/uc?id=1j8Dg5hEOuJ6S3qp2Dc0snnWq1l3rFjOD)"
      ]
    },
    {
      "cell_type": "markdown",
      "id": "ecfd8e3e",
      "metadata": {
        "id": "ecfd8e3e"
      },
      "source": [
        "\n",
        "# <font color='056938'> **Generación de figuras con matplotlib** </font>\n",
        "\n",
        "Las figuras pueden crearse de diferentes formas, dependiendo de la complejidad de la figura deseada un método puede ser más conveniente que otro.\n",
        "\n",
        "\n",
        "\n",
        "\n"
      ]
    },
    {
      "cell_type": "markdown",
      "id": "36j3a8emJzPX",
      "metadata": {
        "id": "36j3a8emJzPX"
      },
      "source": [
        "##  <font color='8EC044'> **Usando pyplot directamente** </font>\n",
        "\n",
        "Se usa pyplot (`plt`) para generar la figura con su gráfica de forma automática. Se usa frecuentemente cuando se desea sólo unos ejes con una o varias curvas.\n",
        "\n",
        "- Creación de la figura: `plt.figure()`\n",
        "- Creación de una gráfica dentro de la figura: `plt.plot(x, y, atributos)`\n",
        "- Adornos:  nombres de ejes (`plt.xlabel()`, `plt.ylabel()`), título (`plt.title()`), leyenda (`plt.legend()`), cuadrícula (`plt.grid()`) , etc.\n",
        "\n",
        "<br>"
      ]
    },
    {
      "cell_type": "code",
      "execution_count": null,
      "id": "iIANZFQGIr4x",
      "metadata": {
        "colab": {
          "base_uri": "https://localhost:8080/",
          "height": 472
        },
        "executionInfo": {
          "elapsed": 609,
          "status": "ok",
          "timestamp": 1690832304384,
          "user": {
            "displayName": "DANIEL FELIPE TOBON ESPINOSA",
            "userId": "09849518353050428095"
          },
          "user_tz": 300
        },
        "id": "iIANZFQGIr4x",
        "outputId": "a70e77dd-d3f7-4382-bc99-f1a956aca024"
      },
      "outputs": [],
      "source": [
        "import matplotlib.pyplot as plt\n",
        "\n",
        "# Datos para los ejes x e y\n",
        "x = [1, 2, 3, 4, 5]\n",
        "y = [2, 4, 6, 8, 10]\n",
        "\n",
        "# Crear un gráfico de línea\n",
        "plt.plot(x, y)\n",
        "\n",
        "# Etiquetar los ejes x e y y agregar un título\n",
        "plt.xlabel('Eje x')\n",
        "plt.ylabel('Eje y')\n",
        "plt.title('Mi primer gráfico de línea')\n",
        "\n",
        "# Mostrar el gráfico\n",
        "plt.show()"
      ]
    },
    {
      "cell_type": "markdown",
      "id": "r2TTF_i-Jk8n",
      "metadata": {
        "id": "r2TTF_i-Jk8n"
      },
      "source": [
        "##  <font color='8EC044'> **Usando pyplot para crear los componentes** </font>\n",
        "\n",
        "Se crean explícitamente la figura y la gŕafica, y se modifican mediante métodos.\n",
        "\n",
        "- Creación de la figura: `fig, ax = plt.subplots()`\n",
        "- Creación de una gráfica dentro de la figura:  `ax.plot(x, y, atributos)`\n",
        "- Adornos: nombres de ejes (`ax.set_xlabel()`, `ax.set_ylabel()`), título (`ax.set_title()`), leyenda (`ax.legend()`), cuadrícula (`ax.grid()`) , etc.\n",
        "\n"
      ]
    },
    {
      "cell_type": "code",
      "execution_count": null,
      "id": "D9gdAqHPKjj2",
      "metadata": {
        "colab": {
          "base_uri": "https://localhost:8080/",
          "height": 472
        },
        "executionInfo": {
          "elapsed": 1742,
          "status": "ok",
          "timestamp": 1690832310899,
          "user": {
            "displayName": "DANIEL FELIPE TOBON ESPINOSA",
            "userId": "09849518353050428095"
          },
          "user_tz": 300
        },
        "id": "D9gdAqHPKjj2",
        "outputId": "dfd58c4d-4b6f-41b6-f35b-25e1ea8a807e"
      },
      "outputs": [],
      "source": [
        "import matplotlib.pyplot as plt\n",
        "\n",
        "# Datos para los ejes x e y\n",
        "x = [1, 2, 3, 4, 5]\n",
        "y = [2, 4, 6, 8, 10]\n",
        "\n",
        "# Crear una figura y un eje\n",
        "fig, ax = plt.subplots()\n",
        "\n",
        "# Crear un gráfico de línea en el eje\n",
        "ax.plot(x, y)\n",
        "\n",
        "# Etiquetar los ejes x e y y agregar un título\n",
        "ax.set_xlabel('Eje x')\n",
        "ax.set_ylabel('Eje y')\n",
        "ax.set_title('Mi primer gráfico de línea')\n",
        "\n",
        "# Mostrar el gráfico\n",
        "plt.show()\n"
      ]
    },
    {
      "cell_type": "markdown",
      "id": "X0hpCfocKeBY",
      "metadata": {
        "id": "X0hpCfocKeBY"
      },
      "source": [
        "Este última forma es particuarmente útil para generar figuras con múltiples gráficos. En el son importantes los parámetros `nrows` y `ncols` que definen el número de filas y el gráficos en cada fila respectivamente.\n",
        "\n"
      ]
    },
    {
      "cell_type": "code",
      "execution_count": null,
      "id": "CMqI-oSLK80W",
      "metadata": {
        "colab": {
          "base_uri": "https://localhost:8080/",
          "height": 407
        },
        "executionInfo": {
          "elapsed": 3646,
          "status": "ok",
          "timestamp": 1690832318258,
          "user": {
            "displayName": "DANIEL FELIPE TOBON ESPINOSA",
            "userId": "09849518353050428095"
          },
          "user_tz": 300
        },
        "id": "CMqI-oSLK80W",
        "outputId": "5a8b1a75-ba3c-437d-f5f8-c22c9ab54da3"
      },
      "outputs": [],
      "source": [
        "import matplotlib.pyplot as plt\n",
        "\n",
        "# Datos para los ejes x e y\n",
        "x = [1, 2, 3, 4, 5]\n",
        "y1 = [2, 4, 6, 8, 10]\n",
        "y2 = [1, 5, 6, 7, 9]\n",
        "\n",
        "# Crear una figura y dos ejes\n",
        "fig, (ax1, ax2) = plt.subplots(nrows=1, ncols=2, figsize=(8, 4))\n",
        "\n",
        "# Crear un gráfico de línea en el primer eje\n",
        "ax1.plot(x, y1, color='blue')\n",
        "ax1.set_xlabel('Eje x')\n",
        "ax1.set_ylabel('Eje y')\n",
        "ax1.set_title('Gráfico 1')\n",
        "\n",
        "# Crear un gráfico de dispersión en el segundo eje\n",
        "ax2.plot(x, y2, color='red')\n",
        "ax2.set_xlabel('Eje x')\n",
        "ax2.set_ylabel('Eje y')\n",
        "ax2.set_title('Gráfico 2')\n",
        "\n",
        "# Ajustar los espacios entre los subplots\n",
        "fig.tight_layout()\n",
        "\n",
        "# Mostrar la figura\n",
        "plt.show()\n"
      ]
    },
    {
      "cell_type": "markdown",
      "id": "r9YTjB4uLPpF",
      "metadata": {
        "id": "r9YTjB4uLPpF"
      },
      "source": [
        "\n",
        "En ambas formas de generar gráficos con matplotlib, en la función `plot`, `x` se refiere a los datos de la variable independiente, representada en el eje de las abscisas, y `y` se refiere a los datos de la variable dependiente, representada en el eje de las ordenadas.\n",
        "\n",
        "Los atributos se refieren a las opciones de la curva: color, tipo de línea, espesor de línea, nombre, tipo de marcador (cuadrado, círculo, etc.), propiedades del marcador (color, tamaño, etc.), entre otras.\n",
        "\n",
        "La información completa sobre las opciones para crear y modificar las curvas, se puede obtener mediante la ayuda: $\\quad$ `help(plt.plot)`.\n",
        "\n",
        "Siempre se debe comenzar por crear la figura (`plt.figure()`)</font>, de lo contrario, la gráfica se mostrará en la figura activa más reciente, la cual puede estar en una celda diferente."
      ]
    },
    {
      "cell_type": "markdown",
      "id": "b2d0d451",
      "metadata": {
        "id": "b2d0d451"
      },
      "source": [
        "\n",
        "##  <font color='8EC044'> **Crear gráficos desde dataframes** </font>\n",
        "Cuando los datos se tienen como parte de series o dataframes de Pandas, se pueden crear gráficas usando métodos que palican directamente sobre estos objetos, de forma rápida y sencilla."
      ]
    },
    {
      "cell_type": "markdown",
      "id": "1rxoe114rGnp",
      "metadata": {
        "id": "1rxoe114rGnp"
      },
      "source": [
        "Considere el siguiente dataframe"
      ]
    },
    {
      "cell_type": "code",
      "execution_count": null,
      "id": "b56c418f",
      "metadata": {
        "colab": {
          "base_uri": "https://localhost:8080/",
          "height": 206
        },
        "executionInfo": {
          "elapsed": 1281,
          "status": "ok",
          "timestamp": 1690832323610,
          "user": {
            "displayName": "DANIEL FELIPE TOBON ESPINOSA",
            "userId": "09849518353050428095"
          },
          "user_tz": 300
        },
        "id": "b56c418f",
        "outputId": "8ca7e049-c540-4a24-ecf8-c2f1b785b171"
      },
      "outputs": [],
      "source": [
        "import pandas as pd\n",
        "datos = {'Serie 1':[1,3,4,3,5],'Serie 2':[2,4,5,2,4],'Serie 3':[3,2,3,1,3]}\n",
        "df = pd.DataFrame(datos)\n",
        "df"
      ]
    },
    {
      "cell_type": "markdown",
      "id": "e8c08fa3",
      "metadata": {
        "id": "e8c08fa3"
      },
      "source": [
        "Se Crea la figura especificando como argumento de entrada el dataframe"
      ]
    },
    {
      "cell_type": "code",
      "execution_count": null,
      "id": "4f40ecf7",
      "metadata": {
        "colab": {
          "base_uri": "https://localhost:8080/",
          "height": 447
        },
        "executionInfo": {
          "elapsed": 1836,
          "status": "ok",
          "timestamp": 1690832328218,
          "user": {
            "displayName": "DANIEL FELIPE TOBON ESPINOSA",
            "userId": "09849518353050428095"
          },
          "user_tz": 300
        },
        "id": "4f40ecf7",
        "outputId": "1bb3af30-3747-4d6d-9f8f-59707d1cead5"
      },
      "outputs": [],
      "source": [
        "plt.figure()\n",
        "plt.plot(df)\n",
        "plt.legend(datos,loc='best')"
      ]
    },
    {
      "cell_type": "markdown",
      "id": "TXWAQX-ysSFs",
      "metadata": {
        "id": "TXWAQX-ysSFs"
      },
      "source": [
        "Es posible obtener el mismo resultado, usando únicamente el método `plot()` aplicado a un dataframe. De este modo se crea la figura automáticamente, se crea la leyenda de datos, y se ubica en la mejor posición."
      ]
    },
    {
      "cell_type": "code",
      "execution_count": null,
      "id": "a673144a",
      "metadata": {
        "colab": {
          "base_uri": "https://localhost:8080/",
          "height": 430
        },
        "executionInfo": {
          "elapsed": 1011,
          "status": "ok",
          "timestamp": 1690832333666,
          "user": {
            "displayName": "DANIEL FELIPE TOBON ESPINOSA",
            "userId": "09849518353050428095"
          },
          "user_tz": 300
        },
        "id": "a673144a",
        "outputId": "ec49cac8-5f40-47ef-85c6-15af43bf953c"
      },
      "outputs": [],
      "source": [
        "fig = df.plot()"
      ]
    },
    {
      "cell_type": "markdown",
      "id": "v2nxK5ecsiRy",
      "metadata": {
        "id": "v2nxK5ecsiRy"
      },
      "source": [
        "Tambien podria generarse el grafico con solo algunas de las columnas"
      ]
    },
    {
      "cell_type": "code",
      "execution_count": null,
      "id": "ERypnKb2swSC",
      "metadata": {
        "colab": {
          "base_uri": "https://localhost:8080/",
          "height": 447
        },
        "executionInfo": {
          "elapsed": 650,
          "status": "ok",
          "timestamp": 1690832340492,
          "user": {
            "displayName": "DANIEL FELIPE TOBON ESPINOSA",
            "userId": "09849518353050428095"
          },
          "user_tz": 300
        },
        "id": "ERypnKb2swSC",
        "outputId": "5adc046c-bade-43f4-fa80-20fbd115eaef"
      },
      "outputs": [],
      "source": [
        "plt.figure()\n",
        "plt.plot(df.index, df['Serie 1'])\n",
        "plt.legend(datos,loc='best')"
      ]
    },
    {
      "cell_type": "markdown",
      "id": "cb01674f",
      "metadata": {
        "id": "cb01674f"
      },
      "source": [
        "\n",
        "##  <font color='8EC044'> **Varias curvas en una misma gráfica (axes)** </font>\n",
        "\n",
        "\n",
        "Esto se puede hacer de dos formas:\n",
        "\n",
        "Usar sólo una vez la función `plot`, y dar tantos grupos de datos (x, y, atributos) como curvas se desen. Por ejemplo, para dos gráficas: `plt.plot(x1,y1,'b',x2,y2,'ks',x3,y3,'g-.')`. En este caso, si se desea tener una etiqueta que permita identificar las curvas, hace falta especificarlo en la función `legend`:  `plt.legend('Y_1','Y_2','Y_3')`. El orden del nombre de las curvas debe corresponder con el orden en que escriben en la función `plot`.\n",
        "\n",
        "\n"
      ]
    },
    {
      "cell_type": "code",
      "execution_count": null,
      "id": "01dce105",
      "metadata": {
        "colab": {
          "base_uri": "https://localhost:8080/",
          "height": 466
        },
        "executionInfo": {
          "elapsed": 359,
          "status": "ok",
          "timestamp": 1690832344951,
          "user": {
            "displayName": "DANIEL FELIPE TOBON ESPINOSA",
            "userId": "09849518353050428095"
          },
          "user_tz": 300
        },
        "id": "01dce105",
        "outputId": "658ac75e-543e-4fbf-8b7d-1070400997f6"
      },
      "outputs": [],
      "source": [
        "import numpy as np\n",
        "t = np.arange(0,2.5,0.05)\n",
        "pi = np.pi\n",
        "y1 = np.sin(pi * t)\n",
        "y2 = np.sin(pi * t - pi / 2)\n",
        "y3 = np.sin(pi * t + pi / 2)\n",
        "\n",
        "plt.figure()\n",
        "plt.plot(t,y1,'b*',t,y2,'g^',t,y3,'y-.')\n",
        "plt.legend(['y_1','y_2','y_3'])    # El orden de la leyenda debe ser el mismo de las gráficas\n",
        "plt.xlabel('x')\n",
        "plt.ylabel('y')"
      ]
    },
    {
      "cell_type": "markdown",
      "id": "S2ljA0hDN0zP",
      "metadata": {
        "id": "S2ljA0hDN0zP"
      },
      "source": [
        "Usar una invocación de la función `plot` por cada curva nueva. De esta forma se puede identificar cada curva (label), para crear etiquetas de forma automática (legend). Usando el código siguiente, se obtiene una etiqueta identificando las curvas, sólo con el código `plt.legend()`, sin necesidad de dar argumetos a la función.\n",
        "\n",
        "$\\qquad$ `plt.plot(x1,y1,'b',label='Y_1')` <br>\n",
        "$\\qquad$ `plt.plot(x2,y2,'ks',label='Y_2')` <br>\n",
        "$\\qquad$ `plt.plot(x3,y3,'g-.',label='Y_3')`\n"
      ]
    },
    {
      "cell_type": "code",
      "execution_count": null,
      "id": "IWfkJlUlOCU2",
      "metadata": {
        "colab": {
          "base_uri": "https://localhost:8080/",
          "height": 474
        },
        "executionInfo": {
          "elapsed": 679,
          "status": "ok",
          "timestamp": 1690832349475,
          "user": {
            "displayName": "DANIEL FELIPE TOBON ESPINOSA",
            "userId": "09849518353050428095"
          },
          "user_tz": 300
        },
        "id": "IWfkJlUlOCU2",
        "outputId": "0943359c-21b4-4ff8-b416-c6a05230e2c9"
      },
      "outputs": [],
      "source": [
        "import numpy as np\n",
        "x = np.linspace(0,2,100)\n",
        "plt.figure()\n",
        "\n",
        "plt.plot(x,x,label='Lineal')\n",
        "plt.plot(x,x**2,label='Cuadrado')\n",
        "plt.plot(x,x**3,label='Cubo')\n",
        "\n",
        "plt.xlabel('x')\n",
        "plt.ylabel('Potencias de x')\n",
        "plt.title('Gráfica de potencias de x',fontsize=14)\n",
        "plt.legend()\n",
        "plt.grid()"
      ]
    },
    {
      "cell_type": "markdown",
      "id": "PqlQ_kN15IrQ",
      "metadata": {
        "id": "PqlQ_kN15IrQ"
      },
      "source": [
        "### <font color='157699'> **Ejercicio 1** </font>\n",
        "\n",
        "Construya una figura que dado el rango de valores de $x$ entre $-10$ y $10$, **superponga** las gráficas asociadas a las siguientes dos funciones:\n",
        "\n",
        "> $f(x) = x^2$\n",
        "\n",
        "> $f(x) = x^3$\n"
      ]
    },
    {
      "cell_type": "code",
      "execution_count": null,
      "id": "x81HKeRo6RT5",
      "metadata": {
        "executionInfo": {
          "elapsed": 231,
          "status": "ok",
          "timestamp": 1690832360460,
          "user": {
            "displayName": "DANIEL FELIPE TOBON ESPINOSA",
            "userId": "09849518353050428095"
          },
          "user_tz": 300
        },
        "id": "x81HKeRo6RT5"
      },
      "outputs": [],
      "source": [
        "# inserte su respusta aquí\n",
        "x = np.arange(-10, 11, 2)\n"
      ]
    },
    {
      "cell_type": "markdown",
      "id": "bgoHzSKi6q4T",
      "metadata": {
        "id": "bgoHzSKi6q4T"
      },
      "source": [
        "Construya la figura para las dos funciones anteriores pero de modo que sean dos gráficas una a lado de la otra en lugar de estar superpuestas. Consere para ello el uso de `subplots()`"
      ]
    },
    {
      "cell_type": "code",
      "execution_count": null,
      "id": "8XiyxS137FiX",
      "metadata": {
        "executionInfo": {
          "elapsed": 248,
          "status": "ok",
          "timestamp": 1690832363824,
          "user": {
            "displayName": "DANIEL FELIPE TOBON ESPINOSA",
            "userId": "09849518353050428095"
          },
          "user_tz": 300
        },
        "id": "8XiyxS137FiX"
      },
      "outputs": [],
      "source": [
        "# inserte su respusta aquí\n",
        "x = np.arange(-10, 11, 2)"
      ]
    },
    {
      "cell_type": "markdown",
      "id": "juSnLQFxOSlu",
      "metadata": {
        "id": "juSnLQFxOSlu"
      },
      "source": [
        "# <font color='056938'> **Edición de una figura** </font>"
      ]
    },
    {
      "cell_type": "markdown",
      "id": "07303544",
      "metadata": {
        "id": "07303544"
      },
      "source": [
        "##  <font color='8EC044'> **Modificación de una gráfica con kwargs: *key word arguments*** </font>\n",
        "\n",
        "El aspecto de una figura puede cambiarse a través de la especificación de sus argumento. Algunos de los argumentos más comunes son:\n",
        "\n",
        "| Argumento | Descripción |\n",
        "| --- | --- |\n",
        "| `color` | Color de la línea o marcador |\n",
        "| `marker` | Tipo de marcador utilizado para los puntos en un gráfico de dispersión |\n",
        "| `linestyle` | Estilo de la línea (por ejemplo, `-` para una línea sólida, `--` para una línea discontinua) |\n",
        "| `linewidth` | Ancho de la línea |\n",
        "| `alpha` | Opacidad de la línea o marcador (un valor entre 0 y 1) |\n",
        "| `label` | Etiqueta para la serie de datos (utilizada en la leyenda) |\n",
        "| `xlabel` | Etiqueta del eje x |\n",
        "| `ylabel` | Etiqueta del eje y |\n",
        "| `title` | Título de la gráfica |\n",
        "| `xlim` | Límites del eje x |\n",
        "| `ylim` | Límites del eje y |\n",
        "| `xticks` | Posiciones de las marcas en el eje x |\n",
        "| `yticks` | Posiciones de las marcas en el eje y |\n",
        "| `grid` | Si se debe mostrar o no una cuadrícula en la gráfica |\n",
        "| `legend` | Si se debe mostrar o no la leyenda en la gráfica |\n",
        "\n"
      ]
    },
    {
      "cell_type": "code",
      "execution_count": null,
      "id": "8f16fe70",
      "metadata": {
        "colab": {
          "base_uri": "https://localhost:8080/",
          "height": 466
        },
        "executionInfo": {
          "elapsed": 649,
          "status": "ok",
          "timestamp": 1690832370898,
          "user": {
            "displayName": "DANIEL FELIPE TOBON ESPINOSA",
            "userId": "09849518353050428095"
          },
          "user_tz": 300
        },
        "id": "8f16fe70",
        "outputId": "ce4bb2db-2c4a-4fc8-e449-eb9aa8de9800"
      },
      "outputs": [],
      "source": [
        "plt.figure()\n",
        "x = np.linspace(0,100,10)\n",
        "plt.plot(x,x**2, linewidth=3, color='green', marker='s',markerfacecolor='black',\n",
        "            markeredgecolor='red')\n",
        "plt.xlabel('Nombre eje x')\n",
        "plt.ylabel('Nombre eje y')"
      ]
    },
    {
      "cell_type": "markdown",
      "id": "23e79bee",
      "metadata": {
        "id": "23e79bee"
      },
      "source": [
        "\n",
        "###  <font color='46B8A9'> **Ubicación de la leyenda** </font>\n",
        "\n",
        "La ubicación de la leyenda se determina mediante la función `legend()` a través del parámetro `loc`\n",
        "\n",
        "| Código | Ubicación |\n",
        "| :---: | :--- |\n",
        "| 0 | mejor (*best*)|\n",
        "| 1 | sup. der. |\n",
        "| 2 | sup. izq |\n",
        "| 3 | inf. der. |\n",
        "| 4 | inf. izq. |\n",
        "| **5** | **derecha (centro)** |\n",
        "| 6 | centro izq. |\n",
        "| **7** | **centro der.** |\n",
        "| 8 | centro abajo |\n",
        "| 9 | centro arriba |\n",
        "| 10 | centro |"
      ]
    },
    {
      "cell_type": "code",
      "execution_count": null,
      "id": "3d99a20a",
      "metadata": {
        "colab": {
          "base_uri": "https://localhost:8080/",
          "height": 474
        },
        "executionInfo": {
          "elapsed": 675,
          "status": "ok",
          "timestamp": 1690832375382,
          "user": {
            "displayName": "DANIEL FELIPE TOBON ESPINOSA",
            "userId": "09849518353050428095"
          },
          "user_tz": 300
        },
        "id": "3d99a20a",
        "outputId": "b08924db-5d7d-4478-cb81-0f5f5ef25ec5"
      },
      "outputs": [],
      "source": [
        "plt.figure()\n",
        "\n",
        "plt.plot(x,x,label='Lineal')\n",
        "plt.plot(x,x**2,label='Cuadrado')\n",
        "plt.plot(x,x**3,label='Cubo')\n",
        "\n",
        "plt.xlabel('x')\n",
        "plt.ylabel('Potencias de x')\n",
        "plt.title('Gráfica de potencias de x',fontsize=14)\n",
        "plt.legend(loc=10)\n",
        "plt.grid()"
      ]
    },
    {
      "cell_type": "markdown",
      "id": "aaf99d97",
      "metadata": {
        "id": "aaf99d97"
      },
      "source": [
        "**Adornos**\n",
        "\n",
        "Para insertar texto con el método `text()` se debe usar la siguiente sintaxis:\n",
        "\n",
        "`plt.text(posicion_x, posicion_y, 'Texto a insertar')`\n",
        "\n",
        "Las posiciones en ambos ejes están relacionadas con la escala de éstos en la gráfica.\n",
        "\n",
        "Es posible incluir ecuaciones de *LaTeX* en las leyendas, y en general en el texto de ejes, títulos, etc., anteponiendo el carácter `r` a las comas simples que circunscriben el texto. Hace falta usar el carácter `$` para iniciar y terminar una ecuación de latex:\n",
        "\n",
        "`plt.title(r'Ecuación: $ 3x^{(2j-3)} - \\dfrac{2\\pi}{3} $')` $\\qquad$ resulta en: $\\qquad$ Ecuación: $3x^{(2j-3)} - \\dfrac{2\\pi}{3} $"
      ]
    },
    {
      "cell_type": "code",
      "execution_count": null,
      "id": "fcd5cac3",
      "metadata": {
        "colab": {
          "base_uri": "https://localhost:8080/",
          "height": 606
        },
        "executionInfo": {
          "elapsed": 3669,
          "status": "ok",
          "timestamp": 1690832721210,
          "user": {
            "displayName": "DANIEL FELIPE TOBON ESPINOSA",
            "userId": "09849518353050428095"
          },
          "user_tz": 300
        },
        "id": "fcd5cac3",
        "outputId": "e3a4edfd-798b-476e-a01e-84b1efdee855"
      },
      "outputs": [],
      "source": [
        "plt.figure()\n",
        "x = [1,2,3,4]\n",
        "y = [1,4,9,16]\n",
        "plt.plot(x,y,'ro', markerfacecolor='white', label='Cuadrados')\n",
        "plt.title('Valores al cuadrado', fontsize=18, fontname='Times New Roman')\n",
        "plt.xlabel('Contadores', color='gray')\n",
        "plt.ylabel('Cuadrados', color='green')\n",
        "\n",
        "# Límites de valores de los ejes\n",
        "# plt.xlim(0,5)\n",
        "# plt.ylim(0,20)\n",
        "# plt.axis([0,5,0,20])\n",
        "\n",
        "# Etiquetas de datos\n",
        "for i in range(len(x)):\n",
        "    plt.text(x[i],y[i]+0.5,'(' + str(x[i]) + ', ' + str(y[i]) + ')')\n",
        "\n",
        "# Texto informativo adicional\n",
        "_ = plt.text(0.5,18,r'$ y = x^2 $', fontsize=18, bbox={'facecolor':'yellow','alpha':0.3,'edgecolor':'red'})"
      ]
    },
    {
      "cell_type": "markdown",
      "id": "189e8bdc",
      "metadata": {
        "id": "189e8bdc"
      },
      "source": [
        "\n",
        "##  <font color='8EC044'> **Connfiguración de los ejes** </font>\n",
        "\n",
        "El argumento `figsize` permite determinar el tamaño de la figura. La sintaxis implica dar los valores de ancho y alto en valor de puntos, como una tupla:  `figsize=(8,4)`."
      ]
    },
    {
      "cell_type": "code",
      "execution_count": null,
      "id": "dc9cea4c",
      "metadata": {
        "colab": {
          "base_uri": "https://localhost:8080/",
          "height": 462
        },
        "executionInfo": {
          "elapsed": 1031,
          "status": "ok",
          "timestamp": 1690832734269,
          "user": {
            "displayName": "DANIEL FELIPE TOBON ESPINOSA",
            "userId": "09849518353050428095"
          },
          "user_tz": 300
        },
        "id": "dc9cea4c",
        "outputId": "3dc187fd-b91a-4a08-8ce0-cd36135abd7f"
      },
      "outputs": [],
      "source": [
        "x = np.arange(-2*np.pi, 2*np.pi + 0.001, 0.001)\n",
        "y1 = np.sin(3*x) / x\n",
        "y2 = np.sin(2*x) / x\n",
        "y3 = np.sin(x) / x\n",
        "\n",
        "fig, ax = plt.subplots(figsize=(9,5))\n",
        "ax.plot(x,y1,x,y2,x,y3)\n",
        "plt.legend([r'$ y_1 = \\dfrac{sen(3x)}{x} $', r'$ y_2 = \\dfrac{sen(2x)}{x} $', r'$ y_3 = \\dfrac{sen(x)}{x} $'])"
      ]
    },
    {
      "cell_type": "markdown",
      "id": "83bbe30e",
      "metadata": {
        "id": "83bbe30e"
      },
      "source": [
        "Adicionalmente, se puede determinar en cuáles valores aparecen las marcas de los ejes (*ticks*) con los métodos `xticks()` y `yticks()`, a los cuales se les debe dar como argumento dos listas separadas por coma: la primera debe terner los valores numéricos en los cuales aparecerán las marcas, y la segunda lista debe tener el texto que irá en cada marca. Ambas listas deben tener la misma cantidad de elementos:\n",
        "\n",
        "`plt.xticks([np.pi/2, np.pi, 3*np.pi/2], [r'$\\dfrac{\\pi}{2}$', r'$\\pi$', r'$3\\dfrac{\\pi}{2}$'])`\n",
        "\n",
        "Normalmente los ejes se posicionan en el mínimo valor del eje perpendicular, y se cierra un cuadrado con líneas paralelas a éstos en sus valores máximos. Sin embargo, su posición también se puede cambiar mediante el método `spines`."
      ]
    },
    {
      "cell_type": "code",
      "execution_count": null,
      "id": "b56accd3",
      "metadata": {
        "colab": {
          "base_uri": "https://localhost:8080/",
          "height": 385
        },
        "id": "b56accd3",
        "outputId": "34af23c4-3b8d-42ae-b6b0-8edd169c94cd"
      },
      "outputs": [],
      "source": [
        "x = np.arange(-2*np.pi, 2*np.pi + 0.001, 0.001)\n",
        "y1 = np.sin(3*x) / x\n",
        "y2 = np.sin(2*x) / x\n",
        "y3 = np.sin(x) / x\n",
        "\n",
        "fig, ax = plt.subplots(figsize=(8,4))\n",
        "ax.plot(x,y1,x,y2,x,y3)\n",
        "plt.legend([r'$ y_1 = \\dfrac{sen(3x)}{x} $', r'$ y_2 = \\dfrac{sen(2x)}{x} $', r'$ y_3 = \\dfrac{sen(x)}{x} $'])\n",
        "\n",
        "# _ = plt.xticks([-2*np.pi, -np.pi, 0, np.pi, 2*np.pi], [r'$-2\\pi$',r'$-\\pi$', r'$0$', r'$\\pi$', r'$2\\pi$'])\n",
        "# _ = plt.yticks([-1, 0, 1, 2, 3],[r'$-1$', r'$0$', r'$1$', r'$2$', r'$3$'])\n",
        "\n",
        "# # Control de posición de los ejes\n",
        "# ax.spines['right'].set_color('none')\n",
        "# ax.spines['top'].set_color('none')\n",
        "# ax.spines['bottom'].set_position(('data',0))\n",
        "# ax.spines['left'].set_position(('data',0))"
      ]
    },
    {
      "cell_type": "markdown",
      "id": "097fb599",
      "metadata": {
        "id": "097fb599"
      },
      "source": [
        "###  <font color='46B8A9'> **Ejemplo: Corazón** </font>"
      ]
    },
    {
      "cell_type": "code",
      "execution_count": null,
      "id": "ddf7490d",
      "metadata": {
        "colab": {
          "base_uri": "https://localhost:8080/",
          "height": 480
        },
        "id": "ddf7490d",
        "outputId": "5fe202cc-2f96-446d-d7f1-10808c155961"
      },
      "outputs": [],
      "source": [
        "x = np.linspace(-2, 2, 500)\n",
        "y_1 = np.sqrt(1 - (np.abs(x) - 1)**2)\n",
        "y_2 = -2.5*np.sqrt(1 - np.sqrt(np.abs(x)/2))\n",
        "\n",
        "fig, ax = plt.subplots(figsize=(5, 5))\n",
        "ax.plot(x, y_1, 'r', x, y_2, 'r', linewidth=3)\n",
        "\n",
        "# ax.set_axis_off()"
      ]
    },
    {
      "cell_type": "markdown",
      "id": "b9ab99d6",
      "metadata": {
        "id": "b9ab99d6"
      },
      "source": [
        "###  <font color='46B8A9'> **Ejemplo: Símbolo de Batman** </font>\n",
        "\n"
      ]
    },
    {
      "cell_type": "code",
      "execution_count": null,
      "id": "c6ed7df3",
      "metadata": {
        "colab": {
          "base_uri": "https://localhost:8080/",
          "height": 345
        },
        "id": "c6ed7df3",
        "outputId": "fdcb03aa-dccc-4e03-eeb8-ad6d29d3870e"
      },
      "outputs": [],
      "source": [
        "x1dp = np.linspace(3, 7, 200)\n",
        "y1dp = 3*np.sqrt((1 - (x1dp/7)**2))\n",
        "x1dn = np.linspace(4, 7, 200)\n",
        "y1dn = -3*np.sqrt((1 - (x1dn/7)**2))\n",
        "\n",
        "fig, ax = plt.subplots(figsize=(int(4*1.7), 4))\n",
        "ax.plot(x1dp, y1dp, 'r', x1dn, y1dn, 'r')\n",
        "\n",
        "x1ip = np.linspace(-7, -3, 200)\n",
        "y1ip = 3*np.sqrt((1 - (x1ip/7)**2))\n",
        "x1in = np.linspace(-7, -4, 200)\n",
        "y1in = -3*np.sqrt((1 - (x1in/7)**2))\n",
        "\n",
        "ax.plot(x1ip, y1ip, 'r', x1in, y1in, 'r')\n",
        "\n",
        "x2 = np.linspace(-4, 4, 400)\n",
        "y2 = (np.abs(x2/2) - ((3*np.sqrt(33) - 7) / 112)*x2**2 - 3) + np.sqrt(1 - (np.abs(np.abs(x2) - 2) - 1)**2)\n",
        "\n",
        "ax.plot(x2, y2, 'g')\n",
        "\n",
        "x3d = np.linspace(1, 3, 200)\n",
        "y3d = ((6*np.sqrt(10))/7 + ((3 - np.abs(x3d))/2)) - ((6*np.sqrt(10))/14)  * np.sqrt(4 - (np.abs(x3d) - 1)**2)\n",
        "x3i = np.linspace(-3, -1, 200)\n",
        "y3i = ((6*np.sqrt(10))/7 + ((3 - np.abs(x3i))/2)) - ((6*np.sqrt(10))/14)  * np.sqrt(4 - (np.abs(x3i) - 1)**2)\n",
        "\n",
        "ax.plot(x3d, y3d, 'm', x3i, y3i, 'm')\n",
        "\n",
        "x4d = np.linspace(6/8, 1, 100)\n",
        "y4d = 9 - 8*np.abs(x4d)\n",
        "\n",
        "x4i = np.linspace(-1, -6/8, 100)\n",
        "y4i = 9 - 8*np.abs(x4i)\n",
        "\n",
        "ax.plot(x4d, y4d, 'k', x4i, y4i, 'k')\n",
        "\n",
        "x5d = np.linspace(1/2, 6/8, 50)\n",
        "y5d = 3*np.abs(x5d) + 3/4\n",
        "\n",
        "x5i = np.linspace(-6/8, -1/2, 50)\n",
        "y5i = 3*np.abs(x5i) + 3/4\n",
        "\n",
        "ax.plot(x5d, y5d, 'c', x5i, y5i, 'c')\n",
        "\n",
        "x6 = np.linspace(-1/2, 1/2, 50)\n",
        "y6 = (9/4)*np.ones(len(x6))\n",
        "\n",
        "ax.plot(x6, y6, 'b')\n",
        "\n",
        "ax.set_axis_off()\n",
        "\n",
        "# plt.show()"
      ]
    },
    {
      "cell_type": "markdown",
      "id": "kQo0n4TY7fx9",
      "metadata": {
        "id": "kQo0n4TY7fx9"
      },
      "source": [
        "### <font color='157699'> **Ejercicio 2** </font>"
      ]
    },
    {
      "cell_type": "markdown",
      "id": "1YC12Qql70An",
      "metadata": {
        "id": "1YC12Qql70An"
      },
      "source": [
        "Considere la siguiente figura"
      ]
    },
    {
      "cell_type": "code",
      "execution_count": null,
      "id": "cPKg5ZkH7gIP",
      "metadata": {
        "colab": {
          "base_uri": "https://localhost:8080/",
          "height": 430
        },
        "id": "cPKg5ZkH7gIP",
        "outputId": "ad4eea45-33fb-4c10-8d63-9cc69175d6f4"
      },
      "outputs": [],
      "source": [
        "import matplotlib.pyplot as plt\n",
        "import numpy as np\n",
        "\n",
        "# Datos para las gráficas\n",
        "x = np.linspace(0, 10, 100)\n",
        "y1 = np.sin(x)\n",
        "y2 = np.cos(x)\n",
        "y3 = np.tan(x)\n",
        "\n",
        "# Crear la figura y los ejes\n",
        "fig, ax = plt.subplots()\n",
        "\n",
        "# Agregar las gráficas a los ejes\n",
        "ax.plot(x, y1)\n",
        "ax.plot(x, y2)\n",
        "ax.plot(x, y3)\n",
        "\n",
        "# Mostrar la figura\n",
        "plt.show()\n"
      ]
    },
    {
      "cell_type": "markdown",
      "id": "f4PiuGtM73FD",
      "metadata": {
        "id": "f4PiuGtM73FD"
      },
      "source": [
        "Modifique el código anterior de modo que agrege a la figura las leyendas de cada gráfico, la etiqueta de los ejes y el titulo"
      ]
    },
    {
      "cell_type": "code",
      "execution_count": null,
      "id": "lpP-bOnm8ZX4",
      "metadata": {
        "id": "lpP-bOnm8ZX4"
      },
      "outputs": [],
      "source": [
        "# Ingrese aquí su respuesta\n"
      ]
    },
    {
      "cell_type": "markdown",
      "id": "tlKyd0aSLpyY",
      "metadata": {
        "id": "tlKyd0aSLpyY"
      },
      "source": [
        "\n",
        "# <font color='056938'> **Almacenamiento de gráficas** </font>\n",
        "\n",
        "\n",
        "Después de crear la figura, se puede guardar el archivo con la función `savefig()`:\n",
        "\n",
        "`plt.savefig('nombre_archivo.formato', dpi=calidad, box_inches='tight')`\n",
        "\n",
        "El formato puede ser de varios tipos: .png, .jpg, .eps, .pdf, etc. Se recomienda usar .png (*portable network graphics*), ya que proporciona la mejor relación tamaño de archivo a calidad de imagen.\n",
        "\n",
        "La calidad se da en dpi (*dots per inch*). Se recomienda que sea superior a 200. Valores de 300 a 500 resultan en gráficas de muy buena calidad, que se pueden ampliar sin observar pérdida de calidad. Entre mayor sea este valor, mayor será el tamaño del archivo, independientemente del formato que se use.\n",
        "\n",
        "Finalmente, se recomienta añadir la opción `box_inches='tight'` cuando se guarden las figuras, con el fin de reducir el área blanca que se crea alrededor de los ejes, y de este modo optimizar el área gráfica y el tamaño del archivo."
      ]
    },
    {
      "cell_type": "code",
      "execution_count": null,
      "id": "W8ybzu-VMWmI",
      "metadata": {
        "colab": {
          "base_uri": "https://localhost:8080/",
          "height": 453
        },
        "id": "W8ybzu-VMWmI",
        "outputId": "907c47f8-f548-455c-8dae-76c9c0f5cfa3"
      },
      "outputs": [],
      "source": [
        "# Método básico:\n",
        "plt.figure()\n",
        "plt.plot([1,2,3,4], [1,4,9,16], 'g-.')\n",
        "plt.title('Primera gráfica en Python')\n",
        "plt.grid()"
      ]
    },
    {
      "cell_type": "markdown",
      "id": "L564yPH8MgpH",
      "metadata": {
        "id": "L564yPH8MgpH"
      },
      "source": [
        "Almacenamiento de la gráfica como archivo:"
      ]
    },
    {
      "cell_type": "code",
      "execution_count": null,
      "id": "qIbQ5vbeMYoX",
      "metadata": {
        "id": "qIbQ5vbeMYoX"
      },
      "outputs": [],
      "source": [
        "plt.savefig('Primera_figura_python.png', dpi=300, bbox_inches='tight')"
      ]
    },
    {
      "cell_type": "markdown",
      "id": "gnFG2p1WMqBP",
      "metadata": {
        "id": "gnFG2p1WMqBP"
      },
      "source": [
        "# <font color='056938'> **Tipos de gráficos** </font>\n",
        "\n",
        "Hasta ahora la mayoria de los ejemplos en este notebook han hecho uso del gráfico de lineas. Sin embargo, `matplotlib` ofrece una variedad de gráficos connfigurados de forma predeterminada. Esta es una lista de algunos de ellos"
      ]
    },
    {
      "cell_type": "markdown",
      "id": "OREcdHx223ee",
      "metadata": {
        "id": "OREcdHx223ee"
      },
      "source": [
        "| Tipo de gráfico | Función en Matplotlib | Descripción |\n",
        "| --- | --- | --- |\n",
        "| Gráfico de línea | `plot` | Visualiza la relación entre dos variables continuas a través de una línea que conecta los puntos. |\n",
        "| Gráfico de dispersión | `scatter` | Visualiza la relación entre dos variables continuas a través de puntos en un plano cartesiano. |\n",
        "| Gráfico de barras | `bar` | Visualiza la comparación de diferentes categorías a través de barras rectangulares verticales u horizontales. |\n",
        "| Gráfico de histograma | `hist` | Visualiza la distribución de una variable continua a través de un conjunto de barras rectangulares. |\n",
        "| Gráfico de torta | `pie` | Visualiza la proporción de cada categoría dentro de un conjunto a través de una \"torta\" dividida en sectores. |\n",
        "| Gráfico de caja | `boxplot` | Visualiza la distribución de una variable continua a través de un cuadro con líneas que representan los cuartiles y los valores atípicos. |\n",
        "| Gráfico de violín | `violinplot` | Visualiza la distribución de una variable continua a través de un violín que muestra la densidad de probabilidad. |\n",
        "| Gráfico de área | `fill_between` | Visualiza el cambio en la magnitud de una variable a través del tiempo o de otra variable. |\n",
        "| Gráfico de calor | `imshow` | Visualiza una matriz de datos numéricos como un mapa de calor en colores. |\n"
      ]
    },
    {
      "cell_type": "markdown",
      "id": "f3484654",
      "metadata": {
        "id": "f3484654"
      },
      "source": [
        "##  <font color='8EC044'> **Curvas o gráficas de líneas y puntos de datos** </font>\n",
        "\n",
        "Este tipo de gráficas es el más común, ya que permite ver la relación entre dos variables en una representación bidimensional."
      ]
    },
    {
      "cell_type": "code",
      "execution_count": null,
      "id": "43f1969e",
      "metadata": {
        "id": "43f1969e"
      },
      "outputs": [],
      "source": [
        "plt.figure()\n",
        "\n",
        "plt.plot(x,x,label='Lineal')\n",
        "plt.plot(x,x**2,label='Cuadrado')\n",
        "plt.plot(x,x**3,label='Cubo')\n",
        "\n",
        "plt.xlabel('x')\n",
        "plt.ylabel('Potencias de x')\n",
        "plt.title('Gráfica de potencias de x',fontsize=14)\n",
        "plt.legend()\n",
        "plt.grid()"
      ]
    },
    {
      "cell_type": "markdown",
      "id": "69a708f3",
      "metadata": {
        "id": "69a708f3"
      },
      "source": [
        "\n",
        "##  <font color='8EC044'> **Histogramas** </font>\n",
        "\n",
        "Este tipo de gráficas se usa frecuentemente para representar una gran cantidad de datos de forma compacta. Éstos representan rangos o intervalos de datos (conocidos como *bins*), y el conteo o frecuencia de los datos que están en dicho intervalo."
      ]
    },
    {
      "cell_type": "code",
      "execution_count": null,
      "id": "7d09fbd9",
      "metadata": {
        "colab": {
          "base_uri": "https://localhost:8080/"
        },
        "id": "7d09fbd9",
        "outputId": "28831231-569a-4cc1-f760-b952c4d45b21"
      },
      "outputs": [],
      "source": [
        "dat_a = np.random.randint(0,21,200)    # vector de 100 números aleatorios enteros entre 0 y 20\n",
        "dat_a"
      ]
    },
    {
      "cell_type": "markdown",
      "id": "0ee14dd5",
      "metadata": {
        "id": "0ee14dd5"
      },
      "source": [
        "La función `hist()` permite crear histogramas a partir de datos como los mostrados en la celda anterior. Cuando se da como argumento únicamente la variable con los datos, se crean 10 intervalos o bins de forma predeterminada.\n",
        "\n",
        "Los detalles sobre como usar esta función se encuentran en la ayuda: `help(plt.hist)`"
      ]
    },
    {
      "cell_type": "code",
      "execution_count": null,
      "id": "09f3f476",
      "metadata": {
        "colab": {
          "base_uri": "https://localhost:8080/",
          "height": 482
        },
        "id": "09f3f476",
        "outputId": "cf3adb99-143e-45d5-f8a5-e90286442398"
      },
      "outputs": [],
      "source": [
        "import numpy as np\n",
        "import matplotlib.pyplot as plt\n",
        "\n",
        "plt.figure()\n",
        "plt.hist(dat_a)"
      ]
    },
    {
      "cell_type": "markdown",
      "id": "185360c2",
      "metadata": {
        "id": "185360c2"
      },
      "source": [
        "Por ejemplo, se puede determinar cuántos intervalos se desean con el parámetro `bins`, así como el ancho relativo de las barras (para que no se traslapen y sea más fácil la interpretación de la gráfica), con el parámetro `rwidth`.\n",
        "\n",
        "Dado el número de intervalos o *bins*, es conveniente fijar la ubicación de las marcas en el eje de las abscisas, mediante la función `xticks`."
      ]
    },
    {
      "cell_type": "code",
      "execution_count": null,
      "id": "94787d61",
      "metadata": {
        "colab": {
          "base_uri": "https://localhost:8080/",
          "height": 368
        },
        "id": "94787d61",
        "outputId": "5455df56-53a3-4417-9152-f4fb2c0c3178"
      },
      "outputs": [],
      "source": [
        "plt.figure(figsize=(8,4))\n",
        "plt.hist(dat_a, bins=20, rwidth=0.8)\n",
        "plt.xticks(np.arange(0,21))\n",
        "plt.grid(axis='y')\n"
      ]
    },
    {
      "cell_type": "markdown",
      "id": "7053b708",
      "metadata": {
        "id": "7053b708"
      },
      "source": [
        "\n",
        "##  <font color='8EC044'> **Gráficas de barras** </font>\n",
        "\n",
        "Se construyen con la función `bar()` (barras verticales), a la cual se le deben dar como argumentos los valores de x (vector con la ubicación de cada barra), los valores de y (altura de cada barra), y otros parámetros opcionales, como barras de error y opciones artísticas.\n",
        "\n",
        "Son similares visualmente a los histogramas, pero difieren en algo fundamental. Con las gráficas de barras se determina previamente la altura de cada barra, según lo que se desee representar.\n",
        "\n",
        "Este tipo de gráficas son útiles para representar resultados de variables cualitativas, por ejemplo: género (masculino y femenino), o tipo de vehículo (automóvil, pickup, camión, etc).\n",
        "\n",
        "Con barras también se puede representar de forma controlada rangos de datos de variables numéricas, por ejemplo: rangos de edad (<18, 18-25, 25-35, 35-50, etc.), rangos de temperatura (<0, 0-25, 25-100, 100-180, etc.).\n",
        "\n",
        "Para cada barra se puede representar el error en los datos (normalmente medido como la desviación estándar de los datos)."
      ]
    },
    {
      "cell_type": "code",
      "execution_count": null,
      "id": "0c8667d7",
      "metadata": {
        "colab": {
          "base_uri": "https://localhost:8080/",
          "height": 405
        },
        "id": "0c8667d7",
        "outputId": "73a82b76-d101-4b82-ee8e-eab9bfa2ddaa"
      },
      "outputs": [],
      "source": [
        "indice = [0,1,2,3,4]\n",
        "valores = [5,7,3,4,6]\n",
        "error = [0.8, 1, 0.4, 0.9, 1.3]\n",
        "\n",
        "plt.figure(figsize=(8,4))\n",
        "plt.bar(indice,valores,yerr=error, error_kw={'ecolor':'0.1','capsize':8},label='Datos', alpha=0.7)\n",
        "plt.xticks(indice,['A', 'B', 'C', 'D', 'E'])\n",
        "plt.legend(loc=9)\n",
        "plt.xlabel('Tipo de material')\n",
        "plt.ylabel('Precio local [1000$/kg]')\n",
        "\n",
        "# Control del área blanca bajo la figura\n",
        "# plt.subplots_adjust(bottom=0.15)"
      ]
    },
    {
      "cell_type": "markdown",
      "id": "3b85f0bd",
      "metadata": {
        "id": "3b85f0bd"
      },
      "source": [
        "Es posible costruir gráficas de barras horizontales usando la función `barh()` en vez de bar. Todos los parámetros son los mimos, excepto el error, el cual se debe dar con el parámetro `xerr`, en vez de `yerr`.\n",
        "\n",
        "También se deben invertir los nombres de los ejes."
      ]
    },
    {
      "cell_type": "code",
      "execution_count": null,
      "id": "6edc5b91",
      "metadata": {
        "colab": {
          "base_uri": "https://localhost:8080/",
          "height": 405
        },
        "id": "6edc5b91",
        "outputId": "4182ee5e-b2c7-4dd5-915f-a9f025118f39"
      },
      "outputs": [],
      "source": [
        "plt.figure(figsize=(8,4))\n",
        "plt.barh(indice,valores,xerr=error, error_kw={'ecolor':'0.1','capsize':8},label='Datos', alpha=0.7)\n",
        "plt.yticks(indice,['A', 'B', 'C', 'D', 'E'])\n",
        "plt.legend(loc=7)\n",
        "plt.ylabel('Tipo de material')\n",
        "plt.xlabel('Precio local [1000$/kg]')"
      ]
    },
    {
      "cell_type": "markdown",
      "id": "b0118e2e",
      "metadata": {
        "id": "b0118e2e"
      },
      "source": [
        "**Gráficas de barras con varias series o conjuntos de datos**\n",
        "\n",
        "Se pueden construir usando una vez la función `bar()` (o `barh()`) por cada serie de datos.\n",
        "\n",
        "En este caso se debe cuidar que la posición en la cual se graficará cada barra sea diferente, para que no se traslapen y quede información oculta. Esto se puede conseguir fijando unos índice únicos, y restando/sumando a estos valores una fracción según el número de series de datos."
      ]
    },
    {
      "cell_type": "code",
      "execution_count": null,
      "id": "339a159a",
      "metadata": {
        "colab": {
          "base_uri": "https://localhost:8080/",
          "height": 405
        },
        "id": "339a159a",
        "outputId": "43eed184-5763-4c3d-94c6-dc7b9650d5b1"
      },
      "outputs": [],
      "source": [
        "indice = np.arange(5)\n",
        "val_1 = [5,7,3,4,6]\n",
        "val_2 = [6,6,4,5,7]\n",
        "val_3 = [5,6,5,4,6]\n",
        "ab = 0.3\n",
        "\n",
        "plt.figure(figsize=(8,4))\n",
        "plt.bar(indice - ab, val_1, ab, color='b', label = 'Ciudad 1')\n",
        "plt.bar(indice, val_2, ab, color='g', label = 'Ciudad 2')\n",
        "plt.bar(indice + ab, val_3, ab, color='r', label = 'Ciudad 3')\n",
        "\n",
        "plt.xticks(indice,['A', 'B', 'C', 'D', 'E'])\n",
        "plt.legend(loc=9)\n",
        "plt.xlabel('Tipo de material')\n",
        "plt.ylabel('Precio local [1000$/kg]')"
      ]
    },
    {
      "cell_type": "markdown",
      "id": "55450248",
      "metadata": {
        "id": "55450248"
      },
      "source": [
        "**Gráficas de barras apiladas (*stacked*)**\n",
        "\n",
        "Se consiguen incluyendo un nuevo parámetro: `bottom`, el cual indica a partir de que valor de graficarán la barras de una serie:"
      ]
    },
    {
      "cell_type": "code",
      "execution_count": null,
      "id": "460bc4e3",
      "metadata": {
        "colab": {
          "base_uri": "https://localhost:8080/",
          "height": 373
        },
        "id": "460bc4e3",
        "outputId": "dc25a930-44cb-4766-c472-1b1774f27700"
      },
      "outputs": [],
      "source": [
        "plt.figure(figsize=(8,4))\n",
        "\n",
        "i_p = [1,2, 3]    # Ínidice para ambos géneros\n",
        "p_h = np.array([598,467,89])\n",
        "p_m = np.array([45, 356, 345])\n",
        "p_T = p_h + p_m\n",
        "\n",
        "plt.bar(i_p , p_h, color='b', label = 'Hombres')\n",
        "plt.bar(i_p, p_m, color='g', label = 'Mujeres', bottom = p_h)\n",
        "\n",
        "# plt.bar(i_p , p_h/p_T, color='b', label = 'Hombres')\n",
        "# plt.bar(i_p, p_m/p_T, color='g', label = 'Mujeres', bottom = p_h/p_T)\n",
        "\n",
        "plt.xticks(i_p,['Ing. Mecánica', 'Derecho', 'Lic. Educación'])\n",
        "plt.legend(loc=9)\n",
        "plt.xlabel('Programa académico', fontweight='bold')\n",
        "plt.ylabel('Proporción de estudiantes matriculados')\n",
        "plt.subplots_adjust(bottom=0.15)"
      ]
    },
    {
      "cell_type": "markdown",
      "id": "bcd34e29",
      "metadata": {
        "id": "bcd34e29"
      },
      "source": [
        "Es posible ubicar la leyenda por fuera del área de los ejes:\n",
        "\n",
        "`plt.legend(bbox_to_anchor=(pos_x,pos_y,ancho,alto), loc=ubicación, mode=\"expand\", borderaxespad=0, ncol=num_series)`\n",
        "\n",
        "Donde `pos_x`, `pos_y` es la posición en dirección x o y, expresada con relación al valor mínimo de x o y (tomado como 0) y al máximo (tomado como 1).\n",
        "\n",
        "El parámetro `ubicación` se puede dar con los códigos numéricos mostrados antes, o mediante texto: 'lower left '.\n",
        "\n",
        "`num_series` es un número entero que especifica cuántas columnas habrá en la leyenda (una por cada serie), para mostrarlas una al lado de la otra, y no de la forma convencional, que es una bajo la otra."
      ]
    },
    {
      "cell_type": "code",
      "execution_count": null,
      "id": "866f1792",
      "metadata": {
        "colab": {
          "base_uri": "https://localhost:8080/",
          "height": 404
        },
        "id": "866f1792",
        "outputId": "5316030f-6c1c-4cc0-f179-c3942dd1588c"
      },
      "outputs": [],
      "source": [
        "plt.figure(figsize=(8,4))\n",
        "\n",
        "i_p = [1,2, 3]    # Ínidice para ambos géneros\n",
        "p_h = np.array([598,467,89])\n",
        "p_m = np.array([45, 356, 345])\n",
        "p_T = p_h + p_m\n",
        "\n",
        "plt.bar(i_p , p_h/p_T, color='b', label = 'Hombres')\n",
        "plt.bar(i_p, p_m/p_T, color='g', label = 'Mujeres', bottom = p_h/p_T)\n",
        "\n",
        "plt.xticks(i_p,['Ing. Mecánica', 'Derecho', 'Lic. Educación'])\n",
        "plt.legend(bbox_to_anchor=(0.3,1.02,0.4,0.2), loc=\"lower left\",\n",
        "                mode=\"expand\", borderaxespad=0, ncol=2)\n",
        "plt.xlabel('Programa académico', fontweight='bold')\n",
        "plt.ylabel('Proporción de estudiantes matriculados')\n",
        "plt.subplots_adjust(bottom=0.15)"
      ]
    },
    {
      "cell_type": "markdown",
      "id": "4b73f674",
      "metadata": {
        "id": "4b73f674"
      },
      "source": [
        "Es posible obtener gráficas equivalentes con barras horizontales.\n",
        "\n",
        "Para barras apiladas, se debe usar `left` en vez de `bottom` para determinar dónde comienza la nueva serie, y se debe invertir el nombre de los ejes."
      ]
    },
    {
      "cell_type": "code",
      "execution_count": null,
      "id": "5169fe87",
      "metadata": {
        "colab": {
          "base_uri": "https://localhost:8080/",
          "height": 465
        },
        "id": "5169fe87",
        "outputId": "2e10d96d-497e-4d36-e623-d517c39e4c67"
      },
      "outputs": [],
      "source": [
        "plt.figure(figsize=(8,5))\n",
        "\n",
        "i_p = [1,2, 3]    # Ínidice para ambos géneros\n",
        "p_h = np.array([598,467,89])\n",
        "p_m = np.array([45, 356, 345])\n",
        "p_T = p_h + p_m\n",
        "\n",
        "plt.barh(i_p , p_h/p_T, color='b', label = 'Hombres')\n",
        "plt.barh(i_p, p_m/p_T, color='g', label = 'Mujeres', left = p_h/p_T)\n",
        "\n",
        "plt.yticks(i_p,['Ing. Mecánica', 'Derecho', 'Lic. Educación'], rotation=45)\n",
        "plt.legend(bbox_to_anchor=(0.96,0.28,0.3,0.3))\n",
        "plt.ylabel('Programa académico', fontweight='bold')\n",
        "plt.xlabel('Proporción de estudiantes matriculados')\n",
        "plt.subplots_adjust(left=0.15, right=0.8)"
      ]
    },
    {
      "cell_type": "markdown",
      "id": "433886af",
      "metadata": {
        "id": "433886af"
      },
      "source": [
        "**Gráficas de barras a partir de DataFrames**"
      ]
    },
    {
      "cell_type": "code",
      "execution_count": null,
      "id": "8d41e1e4",
      "metadata": {
        "id": "8d41e1e4"
      },
      "outputs": [],
      "source": [
        "import pandas as pd\n",
        "data=[12, 13, 15, 16, 6]\n",
        "df = pd.DataFrame(data, columns = ['values'])"
      ]
    },
    {
      "cell_type": "code",
      "execution_count": null,
      "id": "a9d22ada",
      "metadata": {
        "colab": {
          "base_uri": "https://localhost:8080/",
          "height": 206
        },
        "id": "a9d22ada",
        "outputId": "d14a568f-2800-4752-f445-18b32dad908d"
      },
      "outputs": [],
      "source": [
        "df.index = ['A','B','C','D','E']\n",
        "df"
      ]
    },
    {
      "cell_type": "code",
      "execution_count": null,
      "id": "39e47667",
      "metadata": {
        "colab": {
          "base_uri": "https://localhost:8080/",
          "height": 444
        },
        "id": "39e47667",
        "outputId": "3818c843-2798-4f60-de67-f55195e2cc5b"
      },
      "outputs": [],
      "source": [
        "df.plot(kind='bar')"
      ]
    },
    {
      "cell_type": "code",
      "execution_count": null,
      "id": "89f1598a",
      "metadata": {
        "colab": {
          "base_uri": "https://localhost:8080/",
          "height": 447
        },
        "id": "89f1598a",
        "outputId": "9bea789c-7f6a-4b27-cd0f-86ee12ce2aef"
      },
      "outputs": [],
      "source": [
        "df.plot(kind='barh', stacked=True)"
      ]
    },
    {
      "cell_type": "markdown",
      "id": "71ed74ee",
      "metadata": {
        "id": "71ed74ee"
      },
      "source": [
        "##  <font color='8EC044'> **Gráficos de torta (*pie charts*)** </font>"
      ]
    },
    {
      "cell_type": "code",
      "execution_count": null,
      "id": "8bcf96ec",
      "metadata": {
        "colab": {
          "base_uri": "https://localhost:8080/",
          "height": 481
        },
        "id": "8bcf96ec",
        "outputId": "395c827d-3f13-4f3d-8b90-2a5ce27fc3cd"
      },
      "outputs": [],
      "source": [
        "valores = [10, 30, 45, 15]\n",
        "etiquetas = ['Nokia', 'Samsung', 'Apple','Huawei']\n",
        "colores = ['yellow','green','red','blue']\n",
        "explo = [0,0,0.2,0]    # Separación de un segmento (Apple en este caso)\n",
        "\n",
        "plt.figure()\n",
        "plt.pie(valores,labels=etiquetas, colors=colores, explode = explo, autopct='%1.1f%%', shadow=True, startangle=180)\n",
        "plt.axis('equal')    # De este modo la figura tendrá forma circular"
      ]
    },
    {
      "cell_type": "markdown",
      "id": "Npcmn9l_8y7O",
      "metadata": {
        "id": "Npcmn9l_8y7O"
      },
      "source": [
        "### <font color='157699'> **Ejercicio 3** </font>\n",
        "\n",
        "Considere la matriz de correlación entre un conjunto de diez variables (en nuestro caso hemos creado los valores aleatoriamente)"
      ]
    },
    {
      "cell_type": "code",
      "execution_count": null,
      "id": "bZSIJHUv_DiS",
      "metadata": {
        "colab": {
          "base_uri": "https://localhost:8080/"
        },
        "id": "bZSIJHUv_DiS",
        "outputId": "9808d6ce-a9fa-4490-9fb4-078c92bac7b5"
      },
      "outputs": [],
      "source": [
        "import matplotlib.pyplot as plt\n",
        "import numpy as np\n",
        "\n",
        "# Generar datos aleatorios\n",
        "datos = np.random.rand(10, 10)\n",
        "datos"
      ]
    },
    {
      "cell_type": "markdown",
      "id": "LbtDt4z8_WtM",
      "metadata": {
        "id": "LbtDt4z8_WtM"
      },
      "source": [
        "Elabore un mapa de calor que permita visualizar la intensidad de las correlaciones entre las variables"
      ]
    },
    {
      "cell_type": "code",
      "execution_count": null,
      "id": "KoUQkBaj8zTw",
      "metadata": {
        "id": "KoUQkBaj8zTw"
      },
      "outputs": [],
      "source": [
        "import matplotlib.pyplot as plt\n",
        "# Inserte su respuesta aquií\n",
        "\n"
      ]
    },
    {
      "cell_type": "markdown",
      "id": "346820bd",
      "metadata": {
        "id": "346820bd"
      },
      "source": [
        "##  <font color='8EC044'> **Gráficas 3D** </font>\n",
        "\n",
        "1. Se discretiza el eje $ x $ $ \\quad \\rightarrow \\quad $ arreglo de longitud $n$\n",
        "2. Se discretiza el eje $ y $ $ \\quad \\rightarrow \\quad $ arreglo de longitud $n$\n",
        "3. Se crea el conjunto de puntos en el plano $ xy $ $ \\quad \\rightarrow \\quad $ matriz de tamaño $n\\ \\times\\ n$\n",
        "4. Se calcula el valor de $ z $ para cada punto $ (x,\\; y) $\n",
        "\n",
        "\n",
        "![pic](https://drive.google.com/uc?id=1qTBISY8r-Aow_Gxy0WBvAGyrhMRSaggl)"
      ]
    },
    {
      "cell_type": "markdown",
      "id": "cc102150",
      "metadata": {
        "id": "cc102150"
      },
      "source": [
        "###  <font color='46B8A9'> **Gráficos de contorno (curvas de nivel)** </font>\n",
        "\n",
        "Permiten visualizar datos tridimensionales en dos dimensiones, mostrando valores de la superficie que están en el mismo nivel (igual valor de Z)\n",
        "\n",
        "**Ejemplo:** Curvas de nivel de la función $ \\qquad z = \\left( 1 - y^5 + x^5 \\right)e^{\\left(-x^2 - y^2\\right)}  $  en el rango [-2, 2], tanto en $x$ como en $y$."
      ]
    },
    {
      "cell_type": "code",
      "execution_count": null,
      "id": "0579248b",
      "metadata": {
        "id": "0579248b"
      },
      "outputs": [],
      "source": [
        "import numpy as np\n",
        "\n",
        "dx = 0.01; dy = 0.1\n",
        "# Discretización del eje x\n",
        "x = np.arange(-2.0, 2.0 + dx, dx)\n",
        "# Discretización del eje x\n",
        "y = np.arange(-2.0, 2.0 + dy, dy)\n",
        "# Matriz con el conjunto de puntos en el plano x-y\n",
        "X, Y = np.meshgrid(x, y)\n",
        "# Cálculo de la función de interés en todos los puntos (x, y)\n",
        "Z = (1 - Y**5 + X**5) * np.exp(-X**2 - Y**2)\n"
      ]
    },
    {
      "cell_type": "markdown",
      "id": "AfbGF_lAsW_G",
      "metadata": {
        "id": "AfbGF_lAsW_G"
      },
      "source": [
        "Creamos el gráfico con 8 curvas de nivel"
      ]
    },
    {
      "cell_type": "code",
      "execution_count": null,
      "id": "U7lt9yZnqj9k",
      "metadata": {
        "colab": {
          "base_uri": "https://localhost:8080/",
          "height": 472
        },
        "id": "U7lt9yZnqj9k",
        "outputId": "c480183d-cbac-4faa-ec88-d8389e1c1a28"
      },
      "outputs": [],
      "source": [
        "import matplotlib.pyplot as plt\n",
        "\n",
        "plt.figure()\n",
        "C = plt.contour(X,Y,Z,8,colors='black') # En este caso se usan 8 curvas de nivel\n",
        "plt.contour(X,Y,Z,8)\n",
        "plt.clabel(C, inline=1, fontsize=10)\n",
        "plt.xlabel('x')\n",
        "plt.ylabel('y')"
      ]
    },
    {
      "cell_type": "markdown",
      "id": "qXnYt6TZsSxb",
      "metadata": {
        "id": "qXnYt6TZsSxb"
      },
      "source": [
        "Creamos el gráfico con 12 curvas de nivel"
      ]
    },
    {
      "cell_type": "code",
      "execution_count": null,
      "id": "005c1d58",
      "metadata": {
        "colab": {
          "base_uri": "https://localhost:8080/",
          "height": 496
        },
        "id": "005c1d58",
        "outputId": "7048cbcf-7e0e-428b-8e07-cb83deb45c34"
      },
      "outputs": [],
      "source": [
        "plt.figure()\n",
        "C = plt.contour(X,Y,Z,12,colors='black')    # En este caso se usan 12 curvas de nivel\n",
        "plt.contourf(X,Y,Z,12,cmap=plt.cm.hot)      # Con contourf se colorea el área entre curvas de nivel\n",
        "plt.clabel(C, inline=1, fontsize=10)\n",
        "plt.title(r'$z = \\left( 1 - y^5 + x^5 \\right)e^{\\left(-x^2 - y^2\\right)}$')\n",
        "plt.xlabel('x')\n",
        "plt.ylabel('y')\n",
        "plt.colorbar()"
      ]
    },
    {
      "cell_type": "markdown",
      "id": "e0f989f9",
      "metadata": {
        "id": "e0f989f9"
      },
      "source": [
        "###  <font color='46B8A9'> **Figuras con tres ejes** </font>"
      ]
    },
    {
      "cell_type": "code",
      "execution_count": null,
      "id": "6642593b",
      "metadata": {
        "id": "6642593b"
      },
      "outputs": [],
      "source": [
        "# Es necesario importar la siguiente función\n",
        "from mpl_toolkits.mplot3d import Axes3D"
      ]
    },
    {
      "cell_type": "markdown",
      "id": "4cebd5d0",
      "metadata": {
        "id": "4cebd5d0"
      },
      "source": [
        "**Curvas parámetricas**"
      ]
    },
    {
      "cell_type": "code",
      "execution_count": null,
      "id": "b2df3728",
      "metadata": {
        "colab": {
          "base_uri": "https://localhost:8080/",
          "height": 358
        },
        "id": "b2df3728",
        "outputId": "6961db03-031d-47dc-ae6a-8e605ee95cf9"
      },
      "outputs": [],
      "source": [
        "fig = plt.figure(figsize=(7,4))\n",
        "ax = plt.subplot(projection='3d')\n",
        "teta = np.linspace(-4 * np.pi, 4 * np.pi, 100)\n",
        "z = np.linspace(-2, 2, 100)\n",
        "r1 = z**2 + 1\n",
        "r = 2\n",
        "x = r * np.sin(teta)\n",
        "y = r * np.cos(teta)\n",
        "ax.plot(x, y, z, label='Curva paramétrica 1')\n",
        "x1 = r1 * np.sin(teta)\n",
        "y1 = r1 * np.cos(teta)\n",
        "ax.plot(x1, y1, z, label='Curva paramétrica 2')\n",
        "ax.legend()\n",
        "ax.set_xlabel('x')\n",
        "ax.set_ylabel('y')\n",
        "ax.set_zlabel('z')\n",
        "plt.show()\n",
        "# Movimiento de la figura con el ratón"
      ]
    },
    {
      "cell_type": "markdown",
      "id": "7271351c",
      "metadata": {
        "id": "7271351c"
      },
      "source": [
        "**Superficies**"
      ]
    },
    {
      "cell_type": "markdown",
      "id": "c6b85ade",
      "metadata": {
        "id": "c6b85ade"
      },
      "source": [
        "Superficie con mapa de color y barra de color"
      ]
    },
    {
      "cell_type": "code",
      "execution_count": null,
      "id": "25541841",
      "metadata": {
        "colab": {
          "base_uri": "https://localhost:8080/",
          "height": 443
        },
        "id": "25541841",
        "outputId": "09af6842-2f4a-4c4b-fea9-eaf15f5417e0"
      },
      "outputs": [],
      "source": [
        "fig = plt.figure(figsize=(7,4))\n",
        "ax = Axes3D(fig, auto_add_to_figure=False)\n",
        "fig.add_axes(ax)\n",
        "\n",
        "superficie = ax.plot_surface(X,Y,Z, rstride=10, cstride=10, cmap='hot')\n",
        "ax.set_xlabel('x')\n",
        "ax.set_ylabel('y')\n",
        "ax.set_zlabel('z')\n",
        "\n",
        "fig.colorbar(superficie,shrink=0.5)\n",
        "plt.show()"
      ]
    },
    {
      "cell_type": "code",
      "execution_count": null,
      "id": "e129a08f",
      "metadata": {
        "id": "e129a08f"
      },
      "outputs": [],
      "source": [
        "help(ax.plot_surface)"
      ]
    },
    {
      "cell_type": "markdown",
      "id": "0e9c67d1",
      "metadata": {
        "id": "0e9c67d1"
      },
      "source": [
        "Proyección de contornos en los planos respectivos"
      ]
    },
    {
      "cell_type": "code",
      "execution_count": null,
      "id": "bdffecb0",
      "metadata": {
        "colab": {
          "base_uri": "https://localhost:8080/",
          "height": 413
        },
        "id": "bdffecb0",
        "outputId": "6e326b6a-3485-4bb7-bc28-10211faff514"
      },
      "outputs": [],
      "source": [
        "from matplotlib import cm\n",
        "fig = plt.figure()\n",
        "ax = plt.subplot(projection='3d')\n",
        "sup = ax.plot_surface(X,Y,Z, rstride=10,cstride=10, alpha=0.3)\n",
        "ax.set_xlabel('x')\n",
        "ax.set_ylabel('y')\n",
        "ax.set_zlabel('z')\n",
        "ax.set_xlim(-4, 2.5)\n",
        "ax.set_ylim(-2.5, 4)\n",
        "ax.set_zlim(-1.5, 1.1)\n",
        "cset = ax.contour(X, Y, Z, zdir='z', offset=-1.5, cmap=cm.coolwarm)\n",
        "cset = ax.contour(X, Y, Z, zdir='x', offset=-4, cmap=cm.coolwarm)\n",
        "cset = ax.contour(X, Y, Z, zdir='y', offset=4, cmap=cm.coolwarm)"
      ]
    },
    {
      "cell_type": "markdown",
      "id": "2216fca6",
      "metadata": {
        "id": "2216fca6"
      },
      "source": [
        "**Dispersión de datos en tres dimensiones**"
      ]
    },
    {
      "cell_type": "code",
      "execution_count": null,
      "id": "d23d2746",
      "metadata": {
        "colab": {
          "base_uri": "https://localhost:8080/",
          "height": 536
        },
        "id": "d23d2746",
        "outputId": "8a124e0e-817a-4bf1-84d5-7150a54f3364"
      },
      "outputs": [],
      "source": [
        "from mpl_toolkits.mplot3d import Axes3D\n",
        "\n",
        "# Creación de los datos a graficar (también se pueden importar desde un archivo)\n",
        "\n",
        "x1 = np.random.randint(30,40,100)\n",
        "y1 = np.random.randint(20,30,100)\n",
        "z1 = np.random.randint(10,20,100)\n",
        "x2 = np.random.randint(50,60,100)\n",
        "y2 = np.random.randint(30,40,100)\n",
        "z2 = np.random.randint(50,70,100)\n",
        "x3 = np.random.randint(10,30,100)\n",
        "y3 = np.random.randint(40,50,100)\n",
        "z3 = np.random.randint(40,50,100)\n",
        "\n",
        "fig = plt.figure()\n",
        "# ax = Axes3D(fig)\n",
        "ax = Axes3D(fig, auto_add_to_figure=False)\n",
        "fig.add_axes(ax)\n",
        "ax.scatter(x1,y1,z1, c='b',marker='o', label='Datos 1')\n",
        "ax.scatter(x2,y2,z2, c='r',marker='^', label='Datos 1')\n",
        "ax.scatter(x3,y3,z3, c='g',marker='*', label='Datos 1')\n",
        "ax.set_xlabel('x')\n",
        "ax.set_ylabel('y')\n",
        "ax.set_zlabel('z')\n",
        "ax.legend()"
      ]
    },
    {
      "cell_type": "markdown",
      "id": "e016f77b",
      "metadata": {
        "id": "e016f77b"
      },
      "source": [
        "##  <font color='8EC044'> **Arreglos de gráficas** </font>\n",
        "\n",
        "Permiten organizar figuras en una distribución bidimensional al estilo de una matriz. Esto podría hacerse a través de `subplots()` según lo vimos al inicio del notebook\n",
        "\n"
      ]
    },
    {
      "cell_type": "code",
      "execution_count": null,
      "id": "r-NdXxMUt62n",
      "metadata": {
        "colab": {
          "base_uri": "https://localhost:8080/",
          "height": 642
        },
        "id": "r-NdXxMUt62n",
        "outputId": "ff0f5536-e75c-4a4c-c2e5-c420323ac575"
      },
      "outputs": [],
      "source": [
        "import matplotlib.pyplot as plt\n",
        "import numpy as np\n",
        "\n",
        "# Crear datos para los gráficos\n",
        "x = np.linspace(0, 10, 100)\n",
        "y1 = np.sin(x)\n",
        "y2 = np.cos(x)\n",
        "y3 = np.exp(x)\n",
        "y4 = np.log(x)\n",
        "\n",
        "# Crear la figura y los subplots\n",
        "fig, axs = plt.subplots(nrows=2, ncols=2, figsize=(8, 6))\n",
        "\n",
        "# Graficar en el primer subplot\n",
        "axs[0, 0].plot(x, y1)\n",
        "axs[0, 0].set_title('Seno')\n",
        "\n",
        "# Graficar en el segundo subplot\n",
        "axs[0, 1].plot(x, y2)\n",
        "axs[0, 1].set_title('Coseno')\n",
        "\n",
        "# Graficar en el tercer subplot\n",
        "axs[1, 0].plot(x, y3)\n",
        "axs[1, 0].set_title('Exponencial')\n",
        "\n",
        "# Graficar en el cuarto subplot\n",
        "axs[1, 1].plot(x, y4)\n",
        "axs[1, 1].set_title('Logaritmo')\n",
        "\n",
        "# Ajustar los subplots\n",
        "plt.tight_layout()\n",
        "\n",
        "# Mostrar la figura\n",
        "plt.show()\n"
      ]
    },
    {
      "cell_type": "markdown",
      "id": "P5alNOkexAfs",
      "metadata": {
        "id": "P5alNOkexAfs"
      },
      "source": [
        "Puede hacerse también usando `gridspec()`. Esta forma tiene como ventaja que es posible organizar en la grilla graficos de diferente tamaño o que ocupen más de una posición en la grilla. Por ejemplo, la instrucción\n",
        "\n",
        "\n",
        "\n",
        "```python\n",
        "ax3 = fig.add_subplot(gs[1, :])\n",
        "```\n",
        "Indica que el terecr gáfico se tomara todas las columnas de la segunda fila\n"
      ]
    },
    {
      "cell_type": "code",
      "execution_count": null,
      "id": "DkviKx-5uvZs",
      "metadata": {
        "colab": {
          "base_uri": "https://localhost:8080/",
          "height": 642
        },
        "id": "DkviKx-5uvZs",
        "outputId": "9d82dd2c-5765-4102-b012-6b4778f82e74"
      },
      "outputs": [],
      "source": [
        "import matplotlib.pyplot as plt\n",
        "import matplotlib.gridspec as gridspec\n",
        "import numpy as np\n",
        "\n",
        "# Crear datos para los gráficos\n",
        "x1 = np.linspace(0, 10, 100)\n",
        "x2 = np.linspace(0, 10, 100)\n",
        "x3 = np.linspace(0, 10, 200)\n",
        "y1 = np.sin(x1)\n",
        "y2 = np.cos(x2)\n",
        "y3 = np.log(x3)\n",
        "\n",
        "# Crear la figura y los subplots\n",
        "fig = plt.figure(figsize=(8, 6))\n",
        "gs = gridspec.GridSpec(2, 2, figure=fig)\n",
        "\n",
        "# Crear los subplots usando los objetos GridSpec\n",
        "ax1 = fig.add_subplot(gs[0, 0])\n",
        "ax2 = fig.add_subplot(gs[0, 1])\n",
        "ax3 = fig.add_subplot(gs[1, :])\n",
        "\n",
        "# Graficar en el primer subplot\n",
        "ax1.plot(x, y1)\n",
        "ax1.set_title('Seno')\n",
        "\n",
        "# Graficar en el segundo subplot\n",
        "ax2.plot(x2, y2)\n",
        "ax2.set_title('Coseno')\n",
        "\n",
        "# Graficar en el cuarto subplot\n",
        "ax3.plot(x3, y3)\n",
        "ax3.set_title('Logaritmo')\n",
        "\n",
        "# Ajustar los subplots\n",
        "fig.tight_layout()\n",
        "\n",
        "# Mostrar la figura\n",
        "plt.show()\n"
      ]
    },
    {
      "cell_type": "markdown",
      "id": "5ae5e64a",
      "metadata": {
        "id": "5ae5e64a"
      },
      "source": [
        "##  <font color='8EC044'> **Gráfica dentro de otra gráfica** </font>\n",
        "\n",
        "\n",
        "\n",
        "Esto es útil cuando se requiere realizar una ampliación de una zona de una gráfica"
      ]
    },
    {
      "cell_type": "code",
      "execution_count": null,
      "id": "IIk8rc8r1p9t",
      "metadata": {
        "colab": {
          "base_uri": "https://localhost:8080/",
          "height": 542
        },
        "id": "IIk8rc8r1p9t",
        "outputId": "09143570-f137-4f91-dd89-30d5ccebb82f"
      },
      "outputs": [],
      "source": [
        "import matplotlib.pyplot as plt\n",
        "import numpy as np\n",
        "\n",
        "# Crear los datos\n",
        "x = np.linspace(0, 10, 100)\n",
        "y1 = np.sin(x)\n",
        "y2 = np.cos(x)\n",
        "\n",
        "# Crear la figura principal\n",
        "fig, ax1 = plt.subplots()\n",
        "\n",
        "# Graficar la función seno en el eje x y en el primer eje y\n",
        "ax1.plot(x, y1, 'b-')\n",
        "ax1.set_xlabel('x')\n",
        "ax1.set_ylabel('Seno', color='b')\n",
        "\n",
        "# Agregar un segundo eje y en la figura principal\n",
        "ax2 = ax1.twinx()\n",
        "\n",
        "# Graficar la función coseno en el segundo eje y\n",
        "ax2.plot(x, y2, 'r-')\n",
        "ax2.set_ylabel('Coseno', color='r')\n",
        "\n",
        "# Agregar un gráfico anidado en la figura principal\n",
        "ax3 = fig.add_axes([0.6, 0.2, 0.25, 0.25])  # [left, bottom, width, height]\n",
        "\n",
        "# Graficar la función seno al cuadrado en el gráfico anidado\n",
        "ax3.plot(x, np.power(y1, 2), 'g-')\n",
        "ax3.set_xlabel('x')\n",
        "ax3.set_ylabel('Seno al cuadrado', color='g')\n",
        "\n",
        "# Ajustar el diseño de la figura\n",
        "fig.tight_layout()\n",
        "\n",
        "# Mostrar la figura\n",
        "plt.show()\n"
      ]
    },
    {
      "cell_type": "code",
      "execution_count": null,
      "id": "5a13d0af",
      "metadata": {
        "colab": {
          "base_uri": "https://localhost:8080/",
          "height": 443
        },
        "id": "5a13d0af",
        "outputId": "2ee827ca-877e-472c-aa35-ad84cdc116bf"
      },
      "outputs": [],
      "source": [
        "pi = np.pi\n",
        "fig = plt.figure(figsize=(9,4))\n",
        "\n",
        "# Se deben crear las dos gráficas (conjuntos de ejes) como elementos independientes\n",
        "gr_orig = fig.add_axes([0.1,0.1,0.8,0.8])\n",
        "gr_int = fig.add_axes([0.2,0.6,0.25,0.25])\n",
        "\n",
        "# Datos a graficar\n",
        "x = np.arange(-np.pi, np.pi, 0.01)\n",
        "y = np.sin(x) + 0.1 * np.cos(40*x)\n",
        "\n",
        "# Gráfica completa\n",
        "gr_orig.plot(x,y)\n",
        "gr_orig.set_xticks([-pi,-3*pi/4,-pi/2,-pi/4, 0, pi/4,pi/2,3*pi/4,pi])\n",
        "gr_orig.set_xticklabels([r'$-\\pi$',r'$-\\frac{3\\pi}{4}$',r'$-\\frac{\\pi}{2}$',r'$-\\frac{\\pi}{4}$',\n",
        "                        r'$0$',r'$\\frac{\\pi}{4}$',r'$\\frac{\\pi}{2}$',r'$\\frac{3\\pi}{4}$',r'$\\pi$'])\n",
        "# Grafica anidada\n",
        "gr_int.plot(x,y)\n",
        "gr_int.set_xlim([0.24*pi,0.51*pi])\n",
        "gr_int.set_ylim([0.6,1.15])\n",
        "gr_int.set_xticks([np.pi/4,3*np.pi/8, np.pi/2])\n",
        "gr_int.set_xticklabels([r'$\\frac{\\pi}{4}$', r'$\\frac{3\\pi}{8}$',r'$\\frac{\\pi}{2}$'])"
      ]
    },
    {
      "cell_type": "markdown",
      "id": "IANeOzbFCCRy",
      "metadata": {
        "id": "IANeOzbFCCRy"
      },
      "source": [
        "### <font color='157699'> **Ejercicio 4** </font>"
      ]
    },
    {
      "cell_type": "markdown",
      "id": "xE7FlIvyBYhw",
      "metadata": {
        "id": "xE7FlIvyBYhw"
      },
      "source": [
        "Considere la función\n",
        "> $f(x) = (x-2)^2$\n",
        "\n",
        "El siguiente código genera una figura de matplotlib que grafica la función"
      ]
    },
    {
      "cell_type": "code",
      "execution_count": null,
      "id": "QymhEuqoBLOc",
      "metadata": {
        "colab": {
          "base_uri": "https://localhost:8080/",
          "height": 452
        },
        "id": "QymhEuqoBLOc",
        "outputId": "646c4f8a-ae13-44de-8d91-4433f3a6d45f"
      },
      "outputs": [],
      "source": [
        "import matplotlib.pyplot as plt\n",
        "import numpy as np\n",
        "\n",
        "# Definir la función f(x)\n",
        "def f(x):\n",
        "    return (x-2)**2\n",
        "\n",
        "# Crear el gráfico principal\n",
        "fig, ax = plt.subplots()\n",
        "x = np.linspace(-10, 10, 500)\n",
        "y = f(x)\n",
        "ax.plot(x, y)\n",
        "ax.set_title(\"Gráfico de f(x) = (x-2)^2\")\n",
        "\n",
        "\n",
        "\n",
        "# Mostrar el gráfico\n",
        "plt.show()\n"
      ]
    },
    {
      "cell_type": "markdown",
      "id": "AnxVPyDdCSoi",
      "metadata": {
        "id": "AnxVPyDdCSoi"
      },
      "source": [
        "Modifique la figura de modo que incluya un gráfico anidado en dónde se haga zoom ubicación del mínimo"
      ]
    },
    {
      "cell_type": "code",
      "execution_count": null,
      "id": "LaHvBKC-BY-f",
      "metadata": {
        "id": "LaHvBKC-BY-f"
      },
      "outputs": [],
      "source": [
        "# Ingrese aquí su respuesta\n"
      ]
    }
  ],
  "metadata": {
    "colab": {
      "provenance": [],
      "toc_visible": true
    },
    "kernelspec": {
      "display_name": "Python (Pyodide)",
      "language": "python",
      "name": "python"
    },
    "language_info": {
      "codemirror_mode": {
        "name": "ipython",
        "version": 3
      },
      "file_extension": ".py",
      "mimetype": "text/x-python",
      "name": "python",
      "nbconvert_exporter": "python",
      "pygments_lexer": "ipython3",
      "version": "3.9.7"
    }
  },
  "nbformat": 4,
  "nbformat_minor": 5
}
