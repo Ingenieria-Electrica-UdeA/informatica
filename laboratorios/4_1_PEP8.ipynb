{
  "cells": [
    {
      "cell_type": "markdown",
      "metadata": {
        "id": "gqfewufTi9un"
      },
      "source": [
        "<a href=\"https://colab.research.google.com/github/Ingenieria-Electrica-UdeA/informatica/blob/main/laboratorios/4_1_PEP8.ipynb\" target=\"_blank\">\n",
        "    <img src=\"https://colab.research.google.com/assets/colab-badge.svg\" alt=\"Open In Colab\"/>\n",
        "</a>"
      ]
    },
    {
      "cell_type": "markdown",
      "metadata": {},
      "source": [
        "<img src=\"https://raw.githubusercontent.com/Ingenieria-Electrica-UdeA/banco_imagenes/main/banners/banner-informatica.jpg\" alt=\"Banner Informática\">"
      ]
    },
    {
      "cell_type": "markdown",
      "metadata": {
        "id": "oxJnzpTs-pkI"
      },
      "source": [
        "# <font color='056938'> **Cómo escribir código legible y elegante en Python** </font> <font color='8EC044'> **según el PEP 8** </font>\n",
        "\n",
        "\n",
        "---\n",
        "\n",
        "\n",
        "\n",
        "Este documento se basa en el articulo publicado en  https://realpython.com/python-pep8/.\n",
        "\n",
        "\n",
        "El [PEP 8](https://peps.python.org/pep-0008/), es un documento que da pautas y buenas prácticas sobre cómo escribir código en Python. Escrito originalmente en 2001 por Guido van Rossum, Barry Varsovia y Nick Coghlan. El enfoque principal de PEP 8 es mejorar la legibilidad y la consistencia del código de Python.\n",
        "\n",
        "\n",
        "PEP significa en inglés *Python Enhancement Proposal*. Un PEP es un documento que describe nuevas características o propuestas para Python y documenta estos aspectos, como diseño y estilo, para la comunidad. Hay varios documentos tipo [PEP](https://peps.python.org/) en el sitio oficial de Python.\n",
        "\n",
        "Este notebook describe algunas de las las pautas clave establecidas en [PEP 8](https://peps.python.org/pep-0008/).\n",
        "\n",
        "## Material Adicional para consulta\n",
        "\n",
        "Si desea obtener más información sobre PEP 8, puede leer la [documentación completa](https://peps.python.org/pep-0008/) o visitar [pep8.org](https://pep8.org/), que contiene la misma información pero tiene un formato más agradable."
      ]
    },
    {
      "cell_type": "markdown",
      "metadata": {
        "id": "NPtVOFBVCgf8"
      },
      "source": [
        "## <font color='157699'> **Por qué necesitamos el [PEP 8](https://peps.python.org/pep-0008/):** </font>\n",
        "\n",
        "    \"La legibilidad es importante.\", El Zen de Python\n",
        "\n",
        "Python es un lenguaje de programación de alto nivel interpretado cuya filosofía hace hincapié en la legibilidad de su código."
      ]
    },
    {
      "cell_type": "code",
      "execution_count": null,
      "metadata": {
        "colab": {
          "base_uri": "https://localhost:8080/"
        },
        "executionInfo": {
          "elapsed": 3,
          "status": "ok",
          "timestamp": 1690563631962,
          "user": {
            "displayName": "SANTIAGO BENAVIDES CORDOBA",
            "userId": "06364017328628808297"
          },
          "user_tz": 300
        },
        "id": "f9_z6xviBx1g",
        "outputId": "152fd2ba-31f5-4498-ee04-ea9787400223"
      },
      "outputs": [],
      "source": [
        "# El Zen de Python - PEP 20\n",
        "# También se incluye como un huevo de pascua en el intérprete de Python\n",
        "import this"
      ]
    },
    {
      "cell_type": "markdown",
      "metadata": {
        "id": "pyyy7NScDGo_"
      },
      "source": [
        "Traducción al español https://es.wikipedia.org/wiki/Zen_de_Python"
      ]
    },
    {
      "cell_type": "markdown",
      "metadata": {
        "id": "pmPpyn1ZICSp"
      },
      "source": [
        "Como dijo Guido van Rossum, “El código se lee mucho más a menudo de lo que se escribe”. Un persona puede dedicar algunos minutos o un días enteros escribiendo un código. Sin embargo, una vez escrito, nunca lo volverá a escribir. Pero definitivamente será necesario leerlo de nuevo a medida que el proyecto avanza. Cada vez que regrese a trabajar en el proyecto, deberá recordar qué hace el código y por qué lo escribió, por lo que la legibilidad es importante.\n",
        "\n",
        "<font color='157699'> **Seguir las pautas del PEP 8 puede hacer que aprender Python sea una tarea mucho más agradable.** </font>\n",
        "\n",
        "Seguir PEP 8 es particularmente importante si está buscando un trabajo de programador. Escribir un código claro y legible muestra profesionalismo. Será  parte de su carta de presentación ante un nuevo empleo.\n",
        "\n",
        "Cuando emplee Python en una organización, es posible que deba colaborar con otros. En ese contexto, escribir código legible será imprescindible. Otras personas, que quizás nunca antes lo hayan conocido o hayan visto su estilo de codificación, tendrán que leer y comprender su código. Tener pautas que sigan y reconozca, facilitará que otros lean su código y lo puedan entender. Sobretodo su profesor, que calificará los trabajos para el curso.\n"
      ]
    },
    {
      "cell_type": "markdown",
      "metadata": {
        "id": "w9IYARyLMSX_"
      },
      "source": [
        "## <font color='157699'> **Convenciones de nombres** </font>\n",
        "    \"Explícito es mejor que implícito.\", El Zen de Python\n",
        "\n",
        "\n",
        "Cuando escribe código Python (o cualquier otro lenguaje), tiene que nombrar muchas cosas: variables, funciones, clases, paquetes, etc. Elegir nombres adecuados, le ahorrará tiempo y energía más adelante. Podrá averiguar, a partir del nombre, qué representa una determinada variable, función o clase. También evitará el uso de nombres inapropiados que podrían generar errores difíciles de depurar.\n",
        "\n",
        "Evite usar nombres de una sola letra; por ejemplo: l (ele minúscula), O (o mayúscula) o I (i mayúscula), ya que pueden confundirse con 1 y 0, según el tipo de fuente en el texto:\n"
      ]
    },
    {
      "cell_type": "code",
      "execution_count": null,
      "metadata": {
        "id": "QjFLNtkkM8f_"
      },
      "outputs": [],
      "source": [
        "O = 5 # Esto puede parecer que estás tratando de reasignar 5 a cero"
      ]
    },
    {
      "cell_type": "markdown",
      "metadata": {
        "id": "YhbaOauWud2y"
      },
      "source": [
        "### <font color='46B8A9'> **Estilo en los nombres** </font>\n",
        "\n",
        "\n",
        "Variables: Use una sola letra, palabra o palabras en minúsculas. Separe las palabras con guiones bajos para mejorar la legibilidad.\n",
        "\n",
        "```python\n",
        "x, var, mi_variable\n",
        "```\n",
        "    \n",
        "\n",
        "Constantes: Use una sola letra, palabra o palabras en mayúsculas. Separe las palabras con guiones bajos para mejorar la legibilidad.\n",
        "\n",
        "    CONSTANTE, MI_CONSTANTE, MI_VALOR_CONSTANTE\n",
        "\n",
        "Funciones: Use una palabra o palabras en minúsculas. Separe las palabras con guiones bajos para mejorar la legibilidad.\n",
        "\n",
        "    funcion, mi_funcion\n",
        "\n",
        "Módulos: Use una palabra o palabras cortas en minúsculas. Separe las palabras con guiones bajos para mejorar la legibilidad.\n",
        "\n",
        "    modulo.py, mi_modulo.py\n",
        "\n",
        "Clases: Comienza cada palabra con una letra mayúscula. No separe las palabras con guiones bajos. Este estilo se llama *Camel Case* o *Pascal Case*.\n",
        "\n",
        "    Modelo, MiClase\n",
        "\n",
        "Métodos: Use una palabra o palabras en minúsculas. Separe las palabras con guiones bajos para mejorar la legibilidad.\n",
        "\n",
        "    metodo_clase, metodo\n",
        "\n",
        "Paquetes: Use una palabra o palabras cortas en minúsculas. No separe las palabras con guiones bajos.\n",
        "\n",
        "    paquete, mipaquete"
      ]
    },
    {
      "cell_type": "markdown",
      "metadata": {
        "id": "dbvP9fHY4caR"
      },
      "source": [
        "### <font color='46B8A9'> **Cómo elegir nombres** </font>\n",
        "\n",
        "\n",
        "Elegir nombres para sus variables, funciones, clases, etc. puede ser un desafío. Debe pensar bastante en sus opciones de nombres al escribir código, ya que hará que su código sea más legible. La mejor manera de nombrar sus objetos en Python es usar nombres descriptivos para dejar claro lo que representa el objeto.\n",
        "\n",
        "Al nombrar variables, puede sentirse tentado a elegir nombres simples de una sola letra en minúsculas, como x. Pero, a menos que esté usando x como argumento de una función matemática, no está claro qué representa x. Imagine que está almacenando el nombre de una persona como una cadena y desea usar el corte de cadenas para formatear su nombre de manera diferente. Podrías terminar con algo como esto:"
      ]
    },
    {
      "cell_type": "code",
      "execution_count": null,
      "metadata": {
        "colab": {
          "base_uri": "https://localhost:8080/"
        },
        "executionInfo": {
          "elapsed": 184,
          "status": "ok",
          "timestamp": 1675806914290,
          "user": {
            "displayName": "Alvaro Jaramillo Duque",
            "userId": "02339151237714721239"
          },
          "user_tz": 300
        },
        "id": "sOR7JdFp4rxT",
        "outputId": "df13e882-a54e-4840-eb94-d01cf66f5a7e"
      },
      "outputs": [],
      "source": [
        "# No recomendado\n",
        "x = 'Andrés Moreno'\n",
        "y, z = x.split()\n",
        "print(z, y, sep=', ')"
      ]
    },
    {
      "cell_type": "markdown",
      "metadata": {
        "id": "Xo1OtiVv5WGg"
      },
      "source": [
        "Esto funcionará, pero tendrá que realizar un seguimiento de lo que representan x, y y z. También puede ser confuso para los colaboradores. Una elección de nombres mucho más clara sería algo como esto:"
      ]
    },
    {
      "cell_type": "code",
      "execution_count": null,
      "metadata": {
        "colab": {
          "base_uri": "https://localhost:8080/"
        },
        "executionInfo": {
          "elapsed": 175,
          "status": "ok",
          "timestamp": 1675806941772,
          "user": {
            "displayName": "Alvaro Jaramillo Duque",
            "userId": "02339151237714721239"
          },
          "user_tz": 300
        },
        "id": "NfnhCtCv4uDK",
        "outputId": "bb9a4961-aa23-4e0d-ebf5-fed401dfc7cf"
      },
      "outputs": [],
      "source": [
        "# Recomendado\n",
        "nombre_completo = 'Andrés Moreno'\n",
        "nombre, apellido = nombre_completo.split()\n",
        "print(apellido, nombre, sep=', ')"
      ]
    },
    {
      "cell_type": "markdown",
      "metadata": {
        "id": "EyESmBTG5U_U"
      },
      "source": [
        "## <font color='157699'> **Estilo en el código** </font>\n",
        "\n",
        "    \"Bello es mejor que feo.\", El Zen de Python\n",
        "\n",
        "La forma como escribe y organiza su código, impacta la legibilidad del mismo."
      ]
    },
    {
      "cell_type": "markdown",
      "metadata": {
        "id": "MWkWjrvw8dYs"
      },
      "source": [
        "### <font color='46B8A9'> **Líneas en blanco** </font>\n",
        "\n",
        "\n",
        "\n",
        "Los espacios en blanco verticales, o líneas en blanco, pueden mejorar en gran medida la legibilidad de su código. El código que está agrupado puede ser abrumador y difícil de leer. Del mismo modo, demasiadas líneas en blanco en su código lo hacen parecer muy escaso, y es posible que el lector deba desplazarse más de lo necesario.\n",
        "\n",
        "Use líneas en blanco con moderación dentro de un segmento de código para mostrar los pasos de una forma clara. A veces, una proceso complicado tiene que completarse en varios pasos. Para ayudar al lector a comprender la lógica dentro del proceso, puede ser útil dejar una línea en blanco entre cada paso."
      ]
    },
    {
      "cell_type": "markdown",
      "metadata": {
        "id": "g-IbJjGR9eRF"
      },
      "source": [
        "### <font color='46B8A9'> **Longitud máxima de línea y salto de línea** </font>\n",
        "\n",
        "PEP 8 sugiere que las líneas deben limitarse a 79 caracteres. Esto se debe a que le permite tener varios archivos abiertos, uno al lado del otro, al tiempo que evita el ajuste de línea.\n",
        "\n",
        "Por supuesto, no siempre es posible mantener una sentencia de código en 79 caracteres o menos. PEP 8 describe formas de permitir que las sentencia de código se ejecuten en varias líneas.\n",
        "\n",
        "El interprete de Python asumirá la continuación de la línea si el código está contenido entre paréntesis, corchetes o llaves:"
      ]
    },
    {
      "cell_type": "code",
      "execution_count": null,
      "metadata": {
        "id": "V3G1sYwE_pQr"
      },
      "outputs": [],
      "source": [
        "# Ejemplo\n",
        "def funcion(arg_uno, arg_dos,\n",
        "             arg_tres, arg_cuatro):\n",
        "    return arg_uno"
      ]
    },
    {
      "cell_type": "code",
      "execution_count": null,
      "metadata": {
        "id": "Oe4Iub0U_z11"
      },
      "outputs": [],
      "source": [
        "# Ejemplo\n",
        "from mipkg import ejemplo1, \\\n",
        "    ejemplo2, ejemplo3"
      ]
    },
    {
      "cell_type": "markdown",
      "metadata": {
        "id": "ZPicGzvrATSf"
      },
      "source": [
        "A continuación se muestra un ejemplo de salto de línea con operadores:"
      ]
    },
    {
      "cell_type": "code",
      "execution_count": null,
      "metadata": {
        "id": "JKHyMvXRAB37"
      },
      "outputs": [],
      "source": [
        "# Recomendado\n",
        "total = (primera_variable\n",
        "         + segunda_variable\n",
        "         - tercera_variable)"
      ]
    },
    {
      "cell_type": "code",
      "execution_count": null,
      "metadata": {
        "id": "QPS_l8ocAj3L"
      },
      "outputs": [],
      "source": [
        "# No recomendado\n",
        "total = (primera_variable +\n",
        "         segunda_variable -\n",
        "         tercera_variable)"
      ]
    },
    {
      "cell_type": "markdown",
      "metadata": {
        "id": "EFdK8G33AzLV"
      },
      "source": [
        "## <font color='157699'> **Sangría** </font>\n",
        "\n",
        "    \"Debería haber una, y preferiblemente solo una, manera obvia de hacerlo.\", El Zen de Python\n",
        "\n",
        "La sangría, o espacio en blanco al inicio, es extremadamente importante en Python. El nivel de sangría de las líneas de código en Python determina cómo se agrupan las sentencias.\n",
        "\n",
        "Considere el siguiente ejemplo:\n",
        "\n"
      ]
    },
    {
      "cell_type": "code",
      "execution_count": null,
      "metadata": {
        "id": "VeCkAclPyhwb"
      },
      "outputs": [],
      "source": [
        "x = 3\n",
        "if x > 5:\n",
        "    print('x es mayor que 5')"
      ]
    },
    {
      "cell_type": "markdown",
      "metadata": {
        "id": "TFI9qRjFyp78"
      },
      "source": [
        "La sentencia de impresión sangrada, le permite a Python saber que solo debe ejecutarse si la senteincia \"if\" devuelve \"True\". La misma sangría se aplica para decirle a Python, qué código ejecutar cuando se llama a una función o qué código pertenece a una clase determinada.\n",
        "\n",
        "Las reglas de sangría establecidas por PEP 8 son las siguientes:\n",
        "\n",
        "* Actualmente se recomienda usar 4 espacios en blaco consecutivos para indicar sangría.\n",
        "* Es preferible usar los espacios en blanco que el tabulador."
      ]
    },
    {
      "cell_type": "markdown",
      "metadata": {
        "id": "t1XPpjqSQhjJ"
      },
      "source": [
        "### <font color='46B8A9'> **Tabulador vs. Espacios en blanco** </font>\n",
        "\n",
        "Se recomienda usar espacios en blanco en lugar de tabulaciones al sangrar el código. Es posible ajustar la configuración en su editor de texto para generar 4 espacios en lugar de un carácter de tabulación, cuando presiona la tecla Tabulador.\n",
        "\n",
        "Si está usando Python 2 y ha usado una combinación de tabuladores y espacios para sangrar su código, no verá errores cuando intente ejecutar el código.\n",
        "\n",
        "Python 3 no permite mezclar tabulaciones y espacios. Por lo tanto, se mostrará un error si el caso.\n",
        "\n"
      ]
    },
    {
      "cell_type": "markdown",
      "metadata": {
        "id": "DbHVzWzXStQS"
      },
      "source": [
        "### <font color='46B8A9'> **Sangría después de saltos de línea** </font>\n",
        "\n",
        "\n",
        "Cuando hay un salto de línea para mantener el ancho de menos de 79 caracteres, es útil usar sangría para mejorar la legibilidad. Permite al lector distinguir entre dos sentencias de código y una sola que abarca dos líneas. A continuación se presentan algunos ejemplos:"
      ]
    },
    {
      "cell_type": "code",
      "execution_count": null,
      "metadata": {
        "id": "F8PIQxegTJgq"
      },
      "outputs": [],
      "source": [
        "# No recomendado\n",
        "def function(\n",
        "    arg_uno, arg_dos,\n",
        "    arg_tres, arg_cuatro):\n",
        "    return arg_uno\n",
        "\n",
        "# Recomendado\n",
        "def function(arg_uno, arg_dos,\n",
        "             arg_tres, arg_cuatro):\n",
        "    return arg_uno\n",
        "\n",
        "# Recomendado\n",
        "def function(\n",
        "        arg_uno, arg_dos,\n",
        "        arg_tres, arg_cuatro):\n",
        "    return arg_uno"
      ]
    },
    {
      "cell_type": "code",
      "execution_count": null,
      "metadata": {
        "id": "6CcO90eIFRG7"
      },
      "outputs": [],
      "source": [
        "# No recomendado\n",
        "var = funcion(arg_uno, arg_dos,\n",
        "    arg_tres, arg_cuatro)\n",
        "\n",
        "# Recomendado\n",
        "var = function(\n",
        "    arg_uno, arg_dos,\n",
        "    arg_tres, arg_cuatro)"
      ]
    },
    {
      "cell_type": "markdown",
      "metadata": {
        "id": "AyLLoKlxU1HI"
      },
      "source": [
        "### <font color='46B8A9'> **Dónde poner el símbolo de cierre** </font>\n",
        "\n",
        "\n",
        "Es posible colocar un salto de línea dentro de paréntesis, corchetes o llaves. Sin embargo, es importante poner los paréntesis, corchetes o llaves en un lugar sensato. De lo contrario, puede confundir al lector. PEP 8 proporciona dos opciones para la posición del símbolo de cierre.\n",
        "\n",
        "Alinee el símbolo de cierre con el primer carácter que no sea un espacio en blanco de la línea anterior:"
      ]
    },
    {
      "cell_type": "code",
      "execution_count": null,
      "metadata": {
        "id": "wNgnVDCzXQfF"
      },
      "outputs": [],
      "source": [
        "lista_de_numeros = [\n",
        "    1, 2, 3,\n",
        "    4, 5, 6,\n",
        "    7, 8, 9\n",
        "    ]"
      ]
    },
    {
      "cell_type": "markdown",
      "metadata": {
        "id": "rN2etBMiXX2-"
      },
      "source": [
        "Alinee el símbolo de cierre con el primer carácter de la línea que inicia la declaración:"
      ]
    },
    {
      "cell_type": "code",
      "execution_count": null,
      "metadata": {
        "id": "TE_KkIXgXkIl"
      },
      "outputs": [],
      "source": [
        "lista_de_numeros = [\n",
        "    1, 2, 3,\n",
        "    4, 5, 6,\n",
        "    7, 8, 9\n",
        "]"
      ]
    },
    {
      "cell_type": "markdown",
      "metadata": {
        "id": "OpDuEMdwD12-"
      },
      "source": [
        "## <font color='157699'> **Comentarios** </font>\n",
        "\n",
        "    \"Si la implementación es difícil de explicar, es una mala idea.\", El Zen de Python\n",
        "\n",
        "\n",
        "Se deben usar comentarios para explicar el código tal como está escrito. Es importante comentar el código para que usted y sus colaboradores puedan entenderlo. Cuando usted u otra persona lea un comentario, deberían poder comprender fácilmente el código al que se aplica el comentario y cómo encaja con el resto de su código.\n",
        "\n",
        "Algunos puntos que se deben tener en cuenta al momento de agregar comentarios a su código:\n",
        "\n",
        "*   Los comentarios y las cadenas de documentación no deben superar los 72 caracteres por línea.\n",
        "*   Usa oraciones completas, comenzando con una letra mayúscula.\n",
        "*   Asegúrate de actualizar los comentarios si cambias tu código.\n",
        "\n",
        "\n"
      ]
    },
    {
      "cell_type": "markdown",
      "metadata": {
        "id": "oB9Y-KC7a3rV"
      },
      "source": [
        "### <font color='46B8A9'> **Bloques de comentarios** </font>\n",
        "\n",
        "\n",
        "Use bloques de comentarios para documentar una pequeña sección de código. Son útiles cuando tiene que escribir varias líneas de código para realizar una sola acción, como importar datos de un archivo o actualizar una entrada de la base de datos. Son importantes porque ayudan a otros a comprender el propósito y la funcionalidad de un bloque de código determinado.\n",
        "\n",
        "PEP 8 proporciona las siguientes reglas para escribir comentarios en bloque:\n",
        "\n",
        "*    Aplique sangría a los comentarios del bloque al mismo nivel que el código que describen.\n",
        "*    Comience cada línea con un # seguido de un solo espacio.\n",
        "*    Separe los párrafos por una línea que contenga un solo #.\n",
        "\n",
        "Aquí hay un comentario de bloque que explica la función de un ciclo Para (for). Tenga en cuenta que la oración se ajusta a una nueva línea para preservar el límite de línea de 79 caracteres:"
      ]
    },
    {
      "cell_type": "code",
      "execution_count": null,
      "metadata": {
        "id": "cwcLs9GJbaTY"
      },
      "outputs": [],
      "source": [
        "# Ejemplo de Bloques de Comentarios\n",
        "\n",
        "for i in range(0, 10):\n",
        "    # Repita diez veces e imprima el valor de i a medida que aumenta, seguido\n",
        "    # de un carácter de salto de línea\n",
        "    print(i, '\\n')"
      ]
    },
    {
      "cell_type": "markdown",
      "metadata": {
        "id": "vlwy0kdLbuKk"
      },
      "source": [
        "A veces, si el código es muy técnico, entonces es necesario usar más de un párrafo en un comentario de bloque:"
      ]
    },
    {
      "cell_type": "code",
      "execution_count": null,
      "metadata": {
        "id": "USUoIDmmbt5U"
      },
      "outputs": [],
      "source": [
        "def cuadratica(a, b, c, x):\n",
        "    # Calcular la solución a una ecuación cuadrática usando la formula estandar\n",
        "    #\n",
        "    # Siempre hay dos soluciones para una ecuación cuadrática, x_1 y x_2.\n",
        "    x_1 = (- b+(b**2-4*a*c)**(1/2)) / (2*a)\n",
        "    x_2 = (- b-(b**2-4*a*c)**(1/2)) / (2*a)\n",
        "    return x_1, x_2"
      ]
    },
    {
      "cell_type": "markdown",
      "metadata": {
        "id": "RJE-cS4wb03M"
      },
      "source": [
        "Si tiene dudas sobre qué tipo de comentario debe usar, entonces un bloque de  comentario suele ser la mejor opción. Úselos tanto como sea posible en su código, ¡pero asegúrese de actualizarlos si realiza cambios en el mismo!\n",
        "\n",
        "### <font color='46B8A9'> **Comentarios en línea** </font>\n",
        "\n",
        "\n",
        "Los comentarios en línea explican una sola sentencia de código. Son útiles para recordarle, o explicar a otros, por qué es necesaria cierta línea de código.\n",
        "\n",
        "Esto es lo que PEP 8 tiene que decir sobre comentarios en línea:\n",
        "\n",
        "*   Utilice los comentarios en línea con moderación.\n",
        "*   Escriba comentarios en línea, en la misma línea que la sentencia a la que se refieren.\n",
        "*   Separe los comentarios en línea con dos o más espacios de la declaración.\n",
        "*   Comience los comentarios en línea con un # y un solo espacio, como comentarios de bloque.\n",
        "*   No los uses para explicar lo obvio.\n",
        "\n",
        "A continuación se muestra un ejemplo de un comentario en línea:"
      ]
    },
    {
      "cell_type": "code",
      "execution_count": null,
      "metadata": {
        "id": "Jasre0GjdqVr"
      },
      "outputs": [],
      "source": [
        "x = 5  # Este es un comentario en línea"
      ]
    },
    {
      "cell_type": "markdown",
      "metadata": {
        "id": "1xvfAiZIfAjj"
      },
      "source": [
        "A veces, los comentarios en línea pueden parecer necesarios, pero en su lugar puede usar mejores convenciones de nomenclatura. Aquí hay un ejemplo:"
      ]
    },
    {
      "cell_type": "code",
      "execution_count": null,
      "metadata": {
        "id": "xr47vmUkds37"
      },
      "outputs": [],
      "source": [
        "x = 'Andrés Moreno'  # Nombre del estudiante"
      ]
    },
    {
      "cell_type": "markdown",
      "metadata": {
        "id": "iU20lK0kdpx7"
      },
      "source": [
        "En el código anterior, el comentario en línea proporciona información adicional. Sin embargo, usar x como nombre de variable para el nombre de una persona es una mala práctica. No es necesario el comentario en línea si cambia el nombre de su variable:"
      ]
    },
    {
      "cell_type": "code",
      "execution_count": null,
      "metadata": {
        "id": "xnI34jMHgJXd"
      },
      "outputs": [],
      "source": [
        "nombre_estudiante = 'Andrés Moreno'"
      ]
    },
    {
      "cell_type": "markdown",
      "metadata": {
        "id": "M2LunofZfuz0"
      },
      "source": [
        "Finalmente, los comentarios en línea, como los del siguiente ejemplo, son una mala práctica, ya que indican aspectos obvios y pueden verse desorganizados:"
      ]
    },
    {
      "cell_type": "code",
      "execution_count": null,
      "metadata": {
        "id": "TGxKF7gghrWJ"
      },
      "outputs": [],
      "source": [
        "lista_vacia = []  # Inicializar lista vacía\n",
        "\n",
        "x = 5\n",
        "x = x * 5  # Multiplica x por 5"
      ]
    },
    {
      "cell_type": "markdown",
      "metadata": {
        "id": "BlUrRJtMfmd9"
      },
      "source": [
        "### <font color='46B8A9'> **Texto de documentación** </font>\n",
        "\n",
        "\n",
        "\n",
        "El texto de documentación, en inglés docstrings, son cadenas de caracteres entre comillas dobles (\"\"\") o simples (''') que aparecen en la primera línea de cualquier función, clase, método o módulo. Puede usarlas para explicar y documentar un bloque específico de código Hay un PEP completo, el PEP 257, que cubre los textos de documentación.\n",
        "\n",
        "Las reglas más importantes que se aplican a los textos de documentación son las siguientes:\n",
        "\n",
        "*    Rodee los textos de documentación con tres comillas dobles a cada lado, como en \"\"\"Este es un textos de documentación\"\"\".\n",
        "\n",
        "*    Escríbalos para todos los módulos, funciones, clases y métodos públicos.\n",
        "\n",
        "*    Ponga el \"\"\" que finaliza un  texto de documentación multilínea en una sola línea."
      ]
    },
    {
      "cell_type": "code",
      "execution_count": null,
      "metadata": {
        "id": "TcmlzDHbiAYa"
      },
      "outputs": [],
      "source": [
        "def cuadratica(a, b, c, x):\n",
        "    \"\"\"Resuelve la ecuación cuadrática.\n",
        "\n",
        "    Una ecuación cuadrática tiene la siguiente forma:\n",
        "    ax**2 + bx + c = 0\n",
        "\n",
        "    Siempre hay dos soluciones para una ecuación cuadrática: x_1 y x_2.\n",
        "    \"\"\"\n",
        "    x_1 = (- b+(b**2-4*a*c)**(1/2)) / (2*a)\n",
        "    x_2 = (- b-(b**2-4*a*c)**(1/2)) / (2*a)\n",
        "\n",
        "    return x_1, x_2"
      ]
    },
    {
      "cell_type": "markdown",
      "metadata": {
        "id": "0eJ1_bvmjti-"
      },
      "source": [
        "Para texto de documentación de una línea, mantenga el \"\"\" en la misma línea:"
      ]
    },
    {
      "cell_type": "code",
      "execution_count": null,
      "metadata": {
        "id": "eWia8rUUjqEy"
      },
      "outputs": [],
      "source": [
        "def cuadratica(a, b, c, x):\n",
        "    \"\"\"Usar la fórmula estandar para la ecuación cuadrática\"\"\"\n",
        "    x_1 = (- b+(b**2-4*a*c)**(1/2)) / (2*a)\n",
        "    x_2 = (- b-(b**2-4*a*c)**(1/2)) / (2*a)\n",
        "\n",
        "    return x_1, x_2"
      ]
    },
    {
      "cell_type": "markdown",
      "metadata": {
        "id": "rRDgGYTkldw2"
      },
      "source": [
        "## <font color='157699'> **Espacios en blanco en sentencias** </font>\n",
        "\n",
        "     \"Espaciado es mejor que denso.\", Zen de Python\n",
        "\n",
        "Los espacios en blanco pueden ser muy útiles en expresiones y declaraciones cuando se usan correctamente. Si no hay suficientes espacios en blanco, el código puede ser difícil de leer, ya que está todo agrupado. Si hay demasiados espacios en blanco, puede ser difícil combinar visualmente términos relacionados en una declaración.\n",
        "\n",
        "### <font color='46B8A9'> **Espacios en blanco alrededor de los operadores** </font>\n",
        "\n",
        "Rodee los siguientes operadores con un solo espacio a cada lado:\n",
        "\n",
        "*    Operadores de asignación (=, +=, -=, etc.)\n",
        "*    Comparaciones (==, !=, >, <. >=, <=) y (is, is not, in, not in)\n",
        "*    Booleanos (and, not, or)\n",
        "\n",
        "Cuando \"=\" se usa para asignar un valor por defecto a un argumento de una función, no lo rodee de espacios."
      ]
    },
    {
      "cell_type": "code",
      "execution_count": null,
      "metadata": {
        "id": "l3yEoeqao9xQ"
      },
      "outputs": [],
      "source": [
        "# Recomendado\n",
        "def funcion(parametro_predeterminado=5):\n",
        "    return parametro_predeterminado\n",
        "\n",
        "\n",
        "# No recomendado\n",
        "def funcion(parametro_predeterminado = 5):\n",
        "    return parametro_predeterminado"
      ]
    },
    {
      "cell_type": "markdown",
      "metadata": {
        "id": "XGaQ6ddypln-"
      },
      "source": [
        "Cuando hay más de un operador en una sentencia, agregar un solo espacio antes y después de cada operador puede parecer confuso. En cambio, es mejor agregar solo espacios en blanco alrededor de los operadores con la prioridad más baja, especialmente cuando se realizan manipulaciones matemáticas."
      ]
    },
    {
      "cell_type": "code",
      "execution_count": null,
      "metadata": {
        "id": "XcIvDb7WqA_I"
      },
      "outputs": [],
      "source": [
        "# No recomendado\n",
        "y = x ** 2 + 5\n",
        "z = (x + y) * (x - y)\n",
        "\n",
        "# Recomendado\n",
        "y = x**2 + 5\n",
        "z = (x+y) * (x-y)"
      ]
    },
    {
      "cell_type": "code",
      "execution_count": null,
      "metadata": {
        "id": "CXUKTcnWqKs4"
      },
      "outputs": [],
      "source": [
        "# No recomendado\n",
        "if x > 5 and x % 2 == 0:\n",
        "    print('x es mayor que 5 y divisible por 2!')\n",
        "\n",
        "# ¡Definitivamente no hagas esto!\n",
        "if x >5 and x% 2== 0:\n",
        "     print('x es mayor que 5 y divisible por 2!')\n",
        "\n",
        "\n",
        "# Recomendado\n",
        "if x>5 and x%2==0:\n",
        "     print('x es mayor que 5 y divisible por 2!')"
      ]
    },
    {
      "cell_type": "markdown",
      "metadata": {
        "id": "gIeN5piMqKYU"
      },
      "source": [
        "En estructuras de datos, los dos puntos actúan como operadores. Por lo tanto, se aplican las mismas reglas y debe haber la misma cantidad de espacios en blanco a cada lado."
      ]
    },
    {
      "cell_type": "code",
      "execution_count": null,
      "metadata": {
        "id": "6V_sayy4rG7s"
      },
      "outputs": [],
      "source": [
        "lista = [i for i in 10]\n",
        "\n",
        "lista[3:4]\n",
        "\n",
        "# Tratar los dos puntos como el operador con la prioridad más baja\n",
        "lista[x+1 : x+2]\n",
        "\n",
        "# En una segmentación, los dos puntos deben ser\n",
        "# rodeado por la misma cantidad de espacios en blanco\n",
        "lista[3:4:5]\n",
        "lista[x+1 : x+2 : x+3]\n",
        "\n",
        "# El espacio se omite si se omite un parámetro de corte\n",
        "lista[x+1 : x+2 :]"
      ]
    },
    {
      "cell_type": "markdown",
      "metadata": {
        "id": "ksB1wX8ds68z"
      },
      "source": [
        "### <font color='46B8A9'> **Cuándo evitar los espacios en blanco** </font>\n",
        "\n",
        "En algunos casos, agregar espacios en blanco puede dificultar la lectura del código. Demasiados espacios en blanco pueden hacer que el código sea demasiado escaso y difícil de seguir. PEP 8 describe ejemplos muy claros donde los espacios en blanco son inapropiados.\n",
        "\n",
        "El lugar más importante para evitar agregar espacios en blanco es al final de una línea. Esto se conoce como espacio en blanco final. Es invisible y puede producir errores que son difíciles de rastrear.\n",
        "\n",
        "Inmediatamente después de un paréntesis, corchetes o llaves:"
      ]
    },
    {
      "cell_type": "code",
      "execution_count": null,
      "metadata": {
        "id": "dyftE9hptXuj"
      },
      "outputs": [],
      "source": [
        "# Recomendado\n",
        "mi_lista = [1, 2, 3]\n",
        "\n",
        "# No recomendado\n",
        "mi_lista = [ 1, 2, 3, ]"
      ]
    },
    {
      "cell_type": "markdown",
      "metadata": {
        "id": "fxEq-WTIthWb"
      },
      "source": [
        "Antes de una coma, punto y coma o dos puntos:"
      ]
    },
    {
      "cell_type": "code",
      "execution_count": null,
      "metadata": {
        "id": "V2UcJsQAtoMj"
      },
      "outputs": [],
      "source": [
        "x = 5\n",
        "y = 6\n",
        "\n",
        "# Recomendado\n",
        "print(x, y)\n",
        "\n",
        "# No recomendado\n",
        "print(x , y)"
      ]
    },
    {
      "cell_type": "markdown",
      "metadata": {
        "id": "nWDxJF6yt6Dk"
      },
      "source": [
        "Antes del paréntesis que inicia la lista de argumentos de una función, al llamarla:"
      ]
    },
    {
      "cell_type": "code",
      "execution_count": null,
      "metadata": {
        "id": "STTv85rsuuNd"
      },
      "outputs": [],
      "source": [
        "def doble(x):\n",
        "    return x * 2\n",
        "\n",
        "# Recomendado\n",
        "doble(3)\n",
        "\n",
        "# No recomendado\n",
        "doble (3)"
      ]
    },
    {
      "cell_type": "markdown",
      "metadata": {
        "id": "CsXm5Y8fu4b8"
      },
      "source": [
        "Antes del corchete que inicia un índice o segmento:"
      ]
    },
    {
      "cell_type": "code",
      "execution_count": null,
      "metadata": {
        "id": "2RXzInZIvAQi"
      },
      "outputs": [],
      "source": [
        "# Recomendado\n",
        "lista[3]\n",
        "\n",
        "# No recomendado\n",
        "lista [3]\n"
      ]
    },
    {
      "cell_type": "markdown",
      "metadata": {
        "id": "OjQb_RVlvJED"
      },
      "source": [
        "Entre una coma final y un paréntesis de cierre:"
      ]
    },
    {
      "cell_type": "code",
      "execution_count": null,
      "metadata": {
        "id": "ykBU9XFOvL7J"
      },
      "outputs": [],
      "source": [
        "# Recomendado\n",
        "tupla = (1,)\n",
        "\n",
        "# No recomendado\n",
        "tupla = (1, )"
      ]
    },
    {
      "cell_type": "markdown",
      "metadata": {
        "id": "iU04BbQcvYlT"
      },
      "source": [
        "Para alinear operadores de asignación:"
      ]
    },
    {
      "cell_type": "code",
      "execution_count": null,
      "metadata": {
        "id": "f1ED0zYvvZy8"
      },
      "outputs": [],
      "source": [
        "# Recomendado\n",
        "var1 = 5\n",
        "var2 = 6\n",
        "alguna_var_larga = 7\n",
        "\n",
        "# No recomendado\n",
        "var1             = 5\n",
        "var2             = 6\n",
        "alguna_var_larga = 7"
      ]
    },
    {
      "cell_type": "markdown",
      "metadata": {
        "id": "iI8VpuyYC7pC"
      },
      "source": [
        "## <font color='157699'> **Recomendaciones de programación** </font>\n",
        "    \"Simple es mejor que complejo.\", El Zen de Python\n",
        "\n",
        "A menudo encontrará que hay varias formas de realizar una acción similar en Python (y cualquier otro lenguaje de programación). Hay alguna sugerencias que proporciona PEP 8 para eliminar esa ambigüedad y preservar la coherencia.\n",
        "\n",
        "No compare valores booleanos con verdadero o falso usando el operador de equivalencia. A menudo deberá comprobar si un valor booleano es verdadero o falso. Al hacerlo, es intuitivo hacerlo con una declaración como la siguiente:"
      ]
    },
    {
      "cell_type": "code",
      "execution_count": null,
      "metadata": {
        "id": "aCaDoT00xYWa"
      },
      "outputs": [],
      "source": [
        "# No recommendado\n",
        "es_verdad = 6 > 5\n",
        "if es_verdad == True:\n",
        "    print('6 es mayor que 5')"
      ]
    },
    {
      "cell_type": "markdown",
      "metadata": {
        "id": "I7an-erpxo-v"
      },
      "source": [
        "El uso del operador de equivalencia, ==, es innecesario aquí. Las variables boleanas solo puede tomar valores \"True\" o \"False\". Basta con escribir lo siguiente:"
      ]
    },
    {
      "cell_type": "code",
      "execution_count": null,
      "metadata": {
        "id": "IORy9YjCx1t4"
      },
      "outputs": [],
      "source": [
        "# Recommendado\n",
        "es_verdad = 6 > 5\n",
        "if es_verdad:\n",
        "    print('6 es mayor que 5')"
      ]
    },
    {
      "cell_type": "markdown",
      "metadata": {
        "id": "TzWwesjKx1XO"
      },
      "source": [
        "Si está tratando de verificar si una variable tiene un valor definido:"
      ]
    },
    {
      "cell_type": "code",
      "execution_count": null,
      "metadata": {
        "id": "KR3ICw51166t"
      },
      "outputs": [],
      "source": [
        "# Recomendado\n",
        "if x is not None:\n",
        "    print('¡x tiene un valor!')\n",
        "\n",
        "# No recomendado\n",
        "if not x is None:\n",
        "    print('¡x tiene un valor!')\n"
      ]
    },
    {
      "cell_type": "code",
      "execution_count": null,
      "metadata": {
        "id": "2VzjgSMn21q5"
      },
      "outputs": [],
      "source": [
        "# Recomendado\n",
        "if palabra.startswith('gato'):\n",
        "    print('La palabra comienza con \"gato\"')\n",
        "\n",
        "\n",
        "# No recomendado\n",
        "if palabra[:3] == 'gato':\n",
        "    print('La palabra comienza con \"gato\"')"
      ]
    },
    {
      "cell_type": "code",
      "execution_count": null,
      "metadata": {
        "id": "ZiYDxUXM3N73"
      },
      "outputs": [],
      "source": [
        "# Recomendado\n",
        "if nombre_de_archivo.endswith('jpg'):\n",
        "    print('El archivo es un JPEG')\n",
        "\n",
        "\n",
        "# No recomendado\n",
        "if nombre_archivo[-3:] == 'jpg':\n",
        "    print('El archivo es un JPEG')"
      ]
    },
    {
      "cell_type": "markdown",
      "metadata": {
        "id": "fLrx4bexC8nz"
      },
      "source": [
        "## <font color='157699'> **Cuándo ignorar PEP 8** </font>\n",
        "\n",
        "La respuesta corta a esta pregunta es nunca. Si sigue PEP 8 al pie de la letra, puede garantizar que tendrá un código limpio, profesional y legible. Esto lo beneficiará tanto a usted como a sus colaboradores y posibles empleadores.\n",
        "\n",
        "Sin embargo, algunas pautas en PEP 8 son inconvenientes en los siguientes casos:\n",
        "\n",
        "*    Si cumplir con PEP 8 rompería la compatibilidad con el software existente.\n",
        "*    Si el código que está trabajando es inconsistente con PEP 8.\n",
        "*    Si el código debe seguir siendo compatible con versiones anteriores de Python."
      ]
    },
    {
      "cell_type": "markdown",
      "metadata": {
        "id": "8gkXXDiYC9yC"
      },
      "source": [
        "## <font color='157699'> **Sugerencias y trucos para garantizar que su código siga PEP 8** </font>\n",
        "\n",
        "Hay mucho que recordar para asegurarse de que su código sea compatible con PEP 8. Puede ser una tarea difícil recordar todas estas reglas cuando estás escribiendo código. Lleva mucho tiempo actualizar proyectos anteriores para que cumplan con PEP 8. Afortunadamente, existen herramientas que pueden ayudar a acelerar este proceso. Hay dos clases de herramientas que puede usar para hacer cumplir el PEP 8: *linters* y autoformateadores."
      ]
    },
    {
      "cell_type": "markdown",
      "metadata": {
        "id": "oDLFruM6IBRM"
      },
      "source": [
        "### <font color='46B8A9'> **Linters** </font>\n",
        "\n",
        "Los *linters* son programas que analizan el código y marcan los errores. Proporcionan sugerencias sobre cómo corregir el error. Los *linters* son particularmente útiles cuando se instalan como extensiones de su editor de texto, ya que señalan errores y problemas de estilo mientras escribe.\n",
        "\n",
        "Un ejemplos de estas herramientas son:\n",
        "*    [pycodestyle](https://pypi.org/project/pycodestyle/)  \n",
        "*    [flake8](https://pypi.org/project/flake8/)\n",
        "\n"
      ]
    },
    {
      "cell_type": "markdown",
      "metadata": {
        "id": "uQ9eYolmIQXE"
      },
      "source": [
        "### <font color='46B8A9'> **Autoformateadores** </font>\n",
        "\n",
        "\n",
        "Los formateadores automáticos son programas que refactorizan su código para que se ajuste a PEP 8 automáticamente.\n",
        "\n",
        "Un ejemplos de esta herramienta es:\n",
        "*    [black](https://pypi.org/project/black/)\n",
        "*    [autopep8](https://pypi.org/project/autopep8/)\n",
        "*    [yapf](https://pypi.org/project/yapf/)\n",
        "\n"
      ]
    },
    {
      "cell_type": "markdown",
      "metadata": {
        "id": "QC8GyYK7D37A"
      },
      "source": [
        "### <font color='46B8A9'> Trabajando en *notebooks*  </font>\n",
        "\n",
        "\n",
        "Cuando se trabaja en Jupyter-Lab o Notebook's, se puede utlizar la extensión  [pycodestyle_magic](https://github.com/mattijn/pycodestyle_magic) que utiliza a [pycodestyle](https://pypi.org/project/pycodestyle/) y [flake8](https://pypi.org/project/flake8/)\n",
        "\n",
        "A continuación se muestra su instalación y uso, [fuente](https://github.com/mattijn/pycodestyle_magic/blob/master/notebook/example%20pycodestyle_magic.ipynb).\n",
        "\n",
        "*    Installación:"
      ]
    },
    {
      "cell_type": "code",
      "execution_count": null,
      "metadata": {
        "colab": {
          "base_uri": "https://localhost:8080/"
        },
        "executionInfo": {
          "elapsed": 5171,
          "status": "ok",
          "timestamp": 1675994159018,
          "user": {
            "displayName": "Alvaro Jaramillo Duque",
            "userId": "02339151237714721239"
          },
          "user_tz": 300
        },
        "id": "NHy7xIZnCNA9",
        "outputId": "c140037a-cc64-4c30-a8bc-1780f025b475"
      },
      "outputs": [],
      "source": [
        "!pip install flake8 pycodestyle_magic"
      ]
    },
    {
      "cell_type": "markdown",
      "metadata": {
        "id": "B962C1V1D7be"
      },
      "source": [
        "*    Cargar la extensión:"
      ]
    },
    {
      "cell_type": "code",
      "execution_count": null,
      "metadata": {
        "id": "NPtTwsxdCyKi"
      },
      "outputs": [],
      "source": [
        "%load_ext pycodestyle_magic"
      ]
    },
    {
      "cell_type": "code",
      "execution_count": null,
      "metadata": {
        "id": "1oQmrE1KC0A1"
      },
      "outputs": [],
      "source": [
        "%pycodestyle_on"
      ]
    },
    {
      "cell_type": "markdown",
      "metadata": {
        "id": "U8JJyhNSDwIl"
      },
      "source": [
        "*    Ejemplo:"
      ]
    },
    {
      "cell_type": "code",
      "execution_count": null,
      "metadata": {
        "colab": {
          "base_uri": "https://localhost:8080/"
        },
        "executionInfo": {
          "elapsed": 202,
          "status": "ok",
          "timestamp": 1675994303152,
          "user": {
            "displayName": "Alvaro Jaramillo Duque",
            "userId": "02339151237714721239"
          },
          "user_tz": 300
        },
        "id": "uYf4r5l8C1qa",
        "outputId": "16e029cc-9d59-47c8-abd7-b478f520c75f"
      },
      "outputs": [],
      "source": [
        "# Código que será revisado\n",
        "a=1"
      ]
    },
    {
      "cell_type": "code",
      "execution_count": null,
      "metadata": {
        "id": "Qowz2bCvDsmx"
      },
      "outputs": [],
      "source": [
        "# Código que será revisado\n",
        "a = 1"
      ]
    },
    {
      "cell_type": "markdown",
      "metadata": {
        "id": "gZy3PFRCEFB2"
      },
      "source": [
        "*    Ejemplo:"
      ]
    },
    {
      "cell_type": "code",
      "execution_count": null,
      "metadata": {
        "executionInfo": {
          "elapsed": 2,
          "status": "ok",
          "timestamp": 1690850176228,
          "user": {
            "displayName": "SANTIAGO BENAVIDES CORDOBA",
            "userId": "06364017328628808297"
          },
          "user_tz": 300
        },
        "id": "wnVfPt6gDF26"
      },
      "outputs": [],
      "source": [
        "# Código que será revisado\n",
        "if True:\n",
        "   n_space = 3"
      ]
    },
    {
      "cell_type": "code",
      "execution_count": null,
      "metadata": {
        "id": "lHlM_j1oDJ_3"
      },
      "outputs": [],
      "source": [
        "# Código que será revisado\n",
        "if True:\n",
        "    n_space = 4"
      ]
    },
    {
      "cell_type": "markdown",
      "metadata": {
        "id": "5E-YfrvpEGpz"
      },
      "source": [
        "*    Ejemplo:"
      ]
    },
    {
      "cell_type": "code",
      "execution_count": null,
      "metadata": {
        "colab": {
          "base_uri": "https://localhost:8080/"
        },
        "executionInfo": {
          "elapsed": 300,
          "status": "ok",
          "timestamp": 1675994439823,
          "user": {
            "displayName": "Alvaro Jaramillo Duque",
            "userId": "02339151237714721239"
          },
          "user_tz": 300
        },
        "id": "SZszMMxDDZPO",
        "outputId": "9d0a3a56-3973-4286-972f-5b83c911fd62"
      },
      "outputs": [],
      "source": [
        "# Código que será revisado\n",
        "import numpy as np\n",
        "class Calculator:\n",
        "    def Plus(self, x, y):\n",
        "        return np.sum(x, y)\n",
        "    def Minus(self, x, y):\n",
        "        return np.sum(x, -y)"
      ]
    },
    {
      "cell_type": "code",
      "execution_count": null,
      "metadata": {
        "id": "SJgpXgXFDhRG"
      },
      "outputs": [],
      "source": [
        "# Código que será revisado\n",
        "import numpy as np\n",
        "\n",
        "\n",
        "class Calculator:\n",
        "    def Plus(self, x, y):\n",
        "        return np.sum(x, y)\n",
        "\n",
        "    def Minus(self, x, y):\n",
        "        return np.sum(x, -y)"
      ]
    },
    {
      "cell_type": "markdown",
      "metadata": {
        "id": "DdMkuOfCDHiq"
      },
      "source": [
        "\n",
        "## <font color='157699'> **Conclusiones** </font>\n",
        "\n",
        "Ahora sabe cómo escribir código legible y de alta calidad utilizando las pautas establecidas en PEP 8 para Python. Si bien las pautas pueden parecer pedantes, seguirlas puede mejorar su código, especialmente cuando se trata de compartir su código con posibles empleadores o colaboradores, pero sobretodo, con su profesor cuando entrega un trabajo o evaluación."
      ]
    },
    {
      "cell_type": "markdown",
      "metadata": {
        "id": "xe2FBsg5phNb"
      },
      "source": [
        "## <font color='157699'> **Ejemplo** </font>\n",
        "\n",
        "Considere la siguiente documentación de una función y su forma de uso:"
      ]
    },
    {
      "cell_type": "code",
      "execution_count": null,
      "metadata": {
        "colab": {
          "base_uri": "https://localhost:8080/"
        },
        "executionInfo": {
          "elapsed": 8030,
          "status": "ok",
          "timestamp": 1677766455914,
          "user": {
            "displayName": "PABLO ANDRES MAYA DUQUE",
            "userId": "12216499019696970170"
          },
          "user_tz": 300
        },
        "id": "_TFJ49Qsphh6",
        "outputId": "8d93edb3-98f9-4faf-9bc8-c5f89cced5e7"
      },
      "outputs": [],
      "source": [
        "def calculate_average_word_length(text):\n",
        "    \"\"\"\n",
        "    Calculates the average length of words in a given text.\n",
        "\n",
        "    Args:\n",
        "        text (str): The text to analyze.\n",
        "\n",
        "    Returns:\n",
        "        float: The average word length of the text.\n",
        "    \"\"\"\n",
        "    word_count = 0\n",
        "    total_length = 0\n",
        "\n",
        "    # Split the text into words and iterate over them\n",
        "    for word in text.split():\n",
        "        # Remove any non-alphabetic characters from the word\n",
        "        word = ''.join(filter(str.isalpha, word))\n",
        "        # Update the word count and total length\n",
        "        word_count += 1\n",
        "        total_length += len(word)\n",
        "\n",
        "    # Calculate and return the average word length\n",
        "    if word_count > 0:\n",
        "        return total_length / word_count\n",
        "    else:\n",
        "        return 0.0\n",
        "\n",
        "\n",
        "# Example usage\n",
        "text = \"The quick brown fox jumps over the lazy dog.\"\n",
        "avg_length = calculate_average_word_length(text)\n",
        "print(f\"Average word length: {avg_length:.2f}\")\n",
        "\n",
        "\n"
      ]
    },
    {
      "cell_type": "markdown",
      "metadata": {
        "id": "PDPZxlNLtA27"
      },
      "source": [
        "## <font color='157699'> **Ejercicio** </font>\n",
        "\n",
        "Use los conceptos vistos para documentar apropiadamente el siguiente fragmento de código:"
      ]
    },
    {
      "cell_type": "code",
      "execution_count": null,
      "metadata": {
        "id": "5agiQqpatBVx"
      },
      "outputs": [],
      "source": [
        "def factorial(n):\n",
        "\n",
        "    if n == 0 or n == 1:\n",
        "        return 1\n",
        "\n",
        "    result = 1\n",
        "    for i in range(2, n+1):\n",
        "        result *= i\n",
        "\n",
        "    return result\n",
        "\n",
        "\n",
        "\n",
        "n = 5\n",
        "factorial_n = factorial(n)\n",
        "print(f\"The factorial of {n} is {factorial_n}\")"
      ]
    }
  ],
  "metadata": {
    "colab": {
      "provenance": [],
      "toc_visible": true
    },
    "kernelspec": {
      "display_name": "Python (Pyodide)",
      "language": "python",
      "name": "python"
    },
    "language_info": {
      "name": "python"
    }
  },
  "nbformat": 4,
  "nbformat_minor": 4
}
