{
  "cells": [
    {
      "cell_type": "markdown",
      "metadata": {
        "id": "kbWC7_LZU-CG"
      },
      "source": [
        "<a href=\"https://colab.research.google.com/github/Ingenieria-Electrica-UdeA/informatica/blob/main/laboratorios/2_2_variables_y_operadores.ipynb\" target=\"_blank\">\n",
        "    <img src=\"https://colab.research.google.com/assets/colab-badge.svg\" alt=\"Open In Colab\"/>\n",
        "</a>\n"
      ]
    },
    {
      "cell_type": "markdown",
      "metadata": {
        "id": "Qm32sqjGU94d"
      },
      "source": [
        "<img src=\"https://raw.githubusercontent.com/Ingenieria-Electrica-UdeA/banco_imagenes/main/banners/banner-informatica.jpg\" alt=\"Banner Informática\">\n"
      ]
    },
    {
      "cell_type": "markdown",
      "metadata": {
        "id": "frQS1BZjyOc8"
      },
      "source": [
        "\n",
        "Consideremos el siguiente juego:\n",
        "\n",
        "\n",
        "> Escogemos un número aletarorio entre 1 y 10, y el concursante escoge un número en ese mismo rango. Si el número que escogimos y el número del concursante coinciden, tendremos un ¡**GANADOR**!\n",
        "\n",
        "Debemos estar en capacidad de comparar el número dado por el concursante con el número que generamos. Para poder comparar los números debemos estar en capacidad de guardar el número generado.\n",
        "\n",
        "En situaciones como estas usamos `variables`."
      ]
    },
    {
      "cell_type": "markdown",
      "metadata": {
        "id": "d7dGOQsIspqJ"
      },
      "source": [
        "# <font color='056938'> **Variables** </font>\n",
        "\n",
        "Una *Variable* puede ser entendida como un contenedor de datos, en términos de computación es un espacio reservado en la memoria del computador para almacenar un dato que puede ser usado o modificado tantas veces como se desee. El buen uso de la variables parte del uso de nombres apropiados\n",
        "\n",
        "* Tener un nombre que sea fácilmente interpretable en el código\n",
        "* No tener el mismo nombre que una “palabra reservada” del lenguaje. <a href=\"https://es.wikibooks.org/wiki/Python/Generalidades/Palabras_reservadas,_operadores_y_s%C3%ADmbolos_del_lenguaje\">Palabras reservadas en Python</a>\n",
        "* Sólo pueden ser letras, dígitos y el guion bajo o subguion.\n",
        "* Deben comenzar por una carácter (letra).\n",
        "* No puede incluir espacios en blanco.\n",
        "* No pueden llevar acento (tilde)\n",
        "\n",
        "\n",
        "Consideremos el ejemplo del juego con el que iniciamos la sección. Corra el siguiente código hasta adivinar el número:\n",
        "\n"
      ]
    },
    {
      "cell_type": "code",
      "execution_count": null,
      "metadata": {
        "id": "ft4bvqNCNr7y"
      },
      "outputs": [],
      "source": [
        "import random # importa random\n",
        "\n",
        "nombre = input(\"¿Cuál es su nombre?:    \") # Obtener el nombre del usuario\n",
        "aleatorio = random.randint(1, 11) # Genera un número aletaorio entero entre 1 y 10\n",
        "\n",
        "escogido = int(input(\"Ingrese un número entero entre 1 y 10:    \")) # Pregunta un número al usuario\n",
        "\n",
        "#Verifica si hay un ganador\n",
        "if aleatorio == escogido :\n",
        "    print(nombre, \"¡Has ganado, Felicitaciones!\")\n",
        "else:\n",
        "    print(nombre, \"no has ganado, sigue intentado\")"
      ]
    },
    {
      "cell_type": "markdown",
      "metadata": {
        "id": "uFux9ABLO4wy"
      },
      "source": [
        "### <font color='46B8A9'> **Ejercicio 1:** </font>\n",
        "¿Qué variables se usan en el ejemplo?"
      ]
    },
    {
      "cell_type": "markdown",
      "metadata": {
        "id": "R1r8upQVxTi_"
      },
      "source": [
        "## <font color='157699'> **Tipos de datos** </font>\n",
        "\n",
        "Los datos almacenados en una variable pueden ser de diversos tipos. El tipo de datos es el atributo que especifica al computador la clase de dato que tiene que manejar, para saber qué valores puede tomar y qué operaciones realizar. Algunos de los tipos de datos básicos (usualmente llamados tipos primitivos o elementales) son:\n",
        "\n",
        "* Números enteros (y con signo negativo)\n",
        "* Números en coma flotante (decimales). Dependiendo del lenguaje podrían recibir distintos nombres o clasificarse de distintas maneras *double*, *float*\n",
        "* Caracteres (alfanuméricos)\n",
        "* Cadenas de caracteres (textos)\n",
        "* Estados lógicos (booleanos)\n",
        "\n",
        "Note que existen una gran cantidad de tipos de datos y que incluso la disponibilidad de estos pueden cambiar dependiendo del lenguaje\n",
        "\n",
        "Veamos un ejemplo de cada uno de ellos:\n"
      ]
    },
    {
      "cell_type": "code",
      "execution_count": null,
      "metadata": {
        "id": "2CqHG6QfQbRA"
      },
      "outputs": [],
      "source": [
        "entero = 4 # variable entera\n",
        "print(\"Una variable entera: \", entero)\n",
        "decimal = -1.3 # variable real\n",
        "print(\"Una variable real: \", decimal)\n",
        "caracter = \"a\" # variable caracter\n",
        "print(\"Una variable caracter: \", caracter)\n",
        "cadena = \"pablo\" # variable cadena\n",
        "print(\"Una variable string: \", cadena)\n",
        "estadoLogico = False # variable booleano\n",
        "print(\"Una variable de estado lógico: \", estadoLogico)"
      ]
    },
    {
      "cell_type": "markdown",
      "metadata": {
        "id": "vTUkFBHySD8B"
      },
      "source": [
        "### <font color='46B8A9'> **Ejercicio 2:** </font>\n",
        "¿Qué tipos de datos almacenan variables en el ejemplo?"
      ]
    },
    {
      "cell_type": "code",
      "execution_count": null,
      "metadata": {
        "id": "r3DGBai4SPsp"
      },
      "outputs": [],
      "source": [
        "import random # importa random\n",
        "\n",
        "nombre = input(\"¿Cuál es su nombre?:    \") # Obtener el nombre del usuario\n",
        "aleatorio = random.randint(1, 11) # Genera un número aletaorio entero entre 1 y 10\n",
        "\n",
        "escogido = int(input(\"Ingrese un número entero entre 1 y 10:    \")) # Pregunta un número al usuario\n",
        "\n",
        "#Verifica si hay un ganador\n",
        "if aleatorio == escogido :\n",
        "    print(nombre, \"¡Has ganado, Felicitaciones!\")\n",
        "else:\n",
        "    print(nombre, \"no has ganado, sigue intentado\")"
      ]
    },
    {
      "cell_type": "markdown",
      "metadata": {
        "id": "2vBuNXHEFo8d"
      },
      "source": [
        "## <font color='157699'> **Control del tipo de datos** </font>"
      ]
    },
    {
      "cell_type": "markdown",
      "metadata": {
        "id": "322rIp2MSa-4"
      },
      "source": [
        "Dependiendo del lenguaje de programación estos podran o no tener un control más o menos fuerte de los tipos de datos. Por ejemplo, Python es un lenguaje de *tipado débil* en el sentido que no debe especificarse el tipo de dato que almacenará la variable al momento de su creación, mientras que otros lenguajes si lo requieren. Veamos en términos prácticos a que se refiere esto:"
      ]
    },
    {
      "cell_type": "code",
      "execution_count": null,
      "metadata": {
        "id": "C8BOqTRPk9I9"
      },
      "outputs": [],
      "source": []
    },
    {
      "cell_type": "code",
      "execution_count": null,
      "metadata": {
        "id": "3f_qJhfUSwiQ"
      },
      "outputs": [],
      "source": [
        "diversa = 3\n",
        "print(\"El valor de diversa es :\", diversa, \"es de tipo: \", type(diversa))\n",
        "diversa = \"Texto\"\n",
        "print(\"El valor de diversa es :\", diversa, \"es de tipo: \", type(diversa))"
      ]
    },
    {
      "cell_type": "markdown",
      "metadata": {
        "id": "KQCuliz5SxKR"
      },
      "source": [
        "Note que hemos usado la variable llamada `diversa` para almacenar dos tipos diferentes de datos.\n",
        "\n",
        "<font color='157699'> **TIP**: Dado que Python es un lenguaje débilmente tipado,  existe una función bastante útil que nos permite conocer el tipo de datos al que pertenece una variable. </font>\n",
        "\n",
        "```python\n",
        "type(variable)\n",
        "```\n"
      ]
    },
    {
      "cell_type": "code",
      "execution_count": null,
      "metadata": {
        "id": "xyhcC-41TbPi"
      },
      "outputs": [],
      "source": [
        "a = 3\n",
        "print(\"El tipo de a es: \", type(a))\n",
        "b = input(\"ingrese un número entre 0 y 9: \")\n",
        "print(\"El tipo de b es: \", type(b))\n"
      ]
    },
    {
      "cell_type": "markdown",
      "metadata": {
        "id": "-a8lNC3oTgqg"
      },
      "source": [
        "Note que los datos entrados desde el teclado se leen de tipo String (`str`), es por esto que si ingresamos un número por teclado debemos hacer una operación llamada `cast` que convierte el tipo de datos al que se necesita, en este caso de *String* a un número entero *Integer*.\n",
        "Para mas info sobre `casting`, se recomienda este [link](https://www.w3schools.com/python/python_casting.asp).\n"
      ]
    },
    {
      "cell_type": "code",
      "execution_count": null,
      "metadata": {
        "id": "2ot5ENgST4SA"
      },
      "outputs": [],
      "source": [
        "a = 3\n",
        "print(\"El tipo de a es: \", type(a))\n",
        "b = int(input(\"ingrese un número entre 0 y 9: \"))\n",
        "print(\"El tipo de b es: \", type(b))"
      ]
    },
    {
      "cell_type": "markdown",
      "metadata": {
        "id": "9WjYvWBRVJ-A"
      },
      "source": [
        "#### <font color='46B8A9'> **Ejercicio 3** </font>\n",
        "Ejecute el siguiente programa. Note que se imprime el número aleatorio generado, por lo que para usted no deberia ser difícil adivinarlo.\n"
      ]
    },
    {
      "cell_type": "code",
      "execution_count": null,
      "metadata": {
        "id": "8KUjAIRFVO0A"
      },
      "outputs": [],
      "source": [
        "import random # importa random\n",
        "aleatorio = random.randint(1, 10) # Genera un número aletaorio entre 1 y 10\n",
        "print(\"El número aleatorio generado es: \", aleatorio) # Imprime el número generado\n",
        "\n",
        "escogidoStr = input(\"Ingrese el número \") # Digitar el número solicitado\n",
        "\n",
        "if aleatorio == escogidoStr :\n",
        "    print(\"Felicitaciones. has ingresado el número indicado\")\n",
        "else:\n",
        "    print(\"No has ingresado el número indicado\")"
      ]
    },
    {
      "cell_type": "markdown",
      "metadata": {
        "id": "v5uviMlHVpwZ"
      },
      "source": [
        "* ¿Cuál es la razón para que incluso sabiendo el número ganador, al usted ingresarlo el programa indica que usted no acerto?"
      ]
    },
    {
      "cell_type": "markdown",
      "metadata": {
        "id": "HjCYJEG4xdtY"
      },
      "source": [
        "# <font color='056938'> **Operadores** </font>\n",
        "\n",
        "Los operadores realizan operaciones con variables y pueden clasificarse segun el tipo de operación realizan y el tipo de variables que manipulan. En particular algunos de los tipos de operadores que distingue Python son (suponga que a = 10 y b= 20):  "
      ]
    },
    {
      "cell_type": "markdown",
      "metadata": {
        "id": "YRrSDhRuZt6J"
      },
      "source": [
        "## <font color='157699'> **Operadores algebraicos** </font>\n",
        "| Operador| Operación \t| Descripción \t| Ejemplo \t|\n",
        "|:---|:---|:---|:---|\n",
        "| + | Suma \t| Suma los valores a ambos lados del operador \t| a + b = 30 \t|\n",
        "| -  | Resta \t| Resta el valor de la derecha al valor que esta a la izquierda \t| a – b = -10 \t|\n",
        "| *  | Multiplicación \t| Multiplica los valores a los dos lados del operador \t| a * b = 200 \t|\n",
        "| / | División \t| Divide el valor de la izquierda sobre el de la derecha\t| b / a = 2.0 \t|\n",
        "| / | División entera\t| Divide el valor de la izquierda sobre el de la derecha\t| b // a = 2 \t|\n",
        "| % | Modulo \t| Devuelve el residuo de la división de dos números \t| b % a = 0 \t|\n",
        "| ** | Exponente \t| Eleva a la potencia \t| a**b = $10^{20}$\t|\n",
        "\n",
        "Observe los siguientes ejemplos"
      ]
    },
    {
      "cell_type": "code",
      "execution_count": null,
      "metadata": {
        "id": "97dUBKLkaEAy"
      },
      "outputs": [],
      "source": [
        "# Observe los siguientes ejemplos\n",
        "\n",
        "a = 21\n",
        "b = 10\n",
        "\n",
        "c = a + b\n",
        "print(f\"El resultado de a + b es {c}\")\n",
        "\n",
        "c = a - b\n",
        "print(f\"El resultado de a + b es {c}\")\n",
        "\n",
        "c = a * b\n",
        "print(f\"El resultado de a + b es {c}\")\n",
        "\n",
        "c = a / b\n",
        "print(f\"El resultado de a + b es {c}\")\n",
        "\n",
        "c = a // b\n",
        "print(f\"El resultado de a + b es {c}\")\n",
        "\n",
        "c = a % b\n",
        "print(f\"El resultado de a + b es {c}\")\n",
        "\n",
        "a = 2\n",
        "b = 3\n",
        "c = a**b\n",
        "print(f\"El resultado de a + b es {c}\")\n"
      ]
    },
    {
      "cell_type": "markdown",
      "metadata": {
        "id": "T_cjqFhYaHIo"
      },
      "source": [
        "### <font color='46B8A9'> **Ejercicio 4** </font>\n",
        "Pruebe combinaciones de operadores para que comprenda la precedencia de las operaciones. Intente por ejemplo elevar a la 5 la suma de a y b"
      ]
    },
    {
      "cell_type": "code",
      "execution_count": null,
      "metadata": {
        "id": "QWeTmtN_aSgH"
      },
      "outputs": [],
      "source": [
        "# Inserte su código aquí\n",
        "(a + b)**5"
      ]
    },
    {
      "cell_type": "markdown",
      "metadata": {
        "id": "wm9HxPqgalGX"
      },
      "source": [
        "## <font color='157699'> **Operadores de comparación** </font>\n",
        "\n",
        "Comparan los valores a ambos lados del operador y deciden la relación entre dichos valores. Son también conocidos como operadores relacionales.\n",
        "\n",
        "Asuma que a = 10 y b = 20\n",
        "\n",
        "\n",
        "| Operador \t| Descripción \t| Ejemplo \t|\n",
        "|----------\t|-----------------------------------------------------------------------------------------------------------------------\t|-----------------------------------------------------\t|\n",
        "| == \t| Verdadero si los dos operandos son iguales \t| (a == b) es False |\n",
        "| != \t| Verdadero si los dos operandos no son iguales \t| (a != b) es True. \t|\n",
        "| <> \t| Verdadero si los dos operandos no son iguales \t| (a <> b) es True. \t|\n",
        "| > \t| Verdadero si el operando de la derecha es mayor que el de la izquierda| (a > b) es False. \t|\n",
        "| < \t| Verdadero si el operando de la izquierda es menor que el de la derecha \t| (a < b) es True. \t|\n",
        "| >= \t| Verdadero si el operando de la derecha es mayor o igual que el de la izquierda | (a >= b) es False. \t|\n",
        "| <= \t| Verdadero si el operando de la izquierda es menor o igual que el de la derecha \t| (a <= b) es True.\t|\n",
        "\n",
        "\n"
      ]
    },
    {
      "cell_type": "markdown",
      "metadata": {
        "id": "wA5SbDlSG04o"
      },
      "source": [
        "### <font color='46B8A9'> **Ejercicio 5** </font>\n",
        "Experimente con los distintos operadores e interprete el resultado obtenido. Confirme por ejemplo si `b` es dos veces `a`"
      ]
    },
    {
      "cell_type": "code",
      "execution_count": null,
      "metadata": {
        "colab": {
          "base_uri": "https://localhost:8080/"
        },
        "id": "kj-FDJbEa-R5",
        "outputId": "ab0786cd-172e-488e-9742-67d3eaf9d7f0"
      },
      "outputs": [],
      "source": [
        "a = 10\n",
        "b = 20\n",
        "\n",
        "# Por ejemplo\n",
        "\n",
        "print(2*a == b)"
      ]
    },
    {
      "cell_type": "markdown",
      "metadata": {
        "id": "9fL6noM-bIpv"
      },
      "source": [
        "## <font color='157699'> **Operadores lógicos** </font>\n",
        "\n",
        "| Operador \t| Descripción \t|\n",
        "|-----------------\t|----------------------------------------------------------------------\t|\n",
        "|  and \t| Verdadero si los dos operandos son verdaderos \t|\n",
        "|  or \t| Verdadero si uno de los operandos es verdadero \t|\n",
        "|  not \t| Reversa el estado lógico de un operando \t|\n",
        "\n",
        "Considere por ejemplo a = 10, b = 20 y c= 15. Cúal espera usted que sea el resultado de la siguiente operación?\n",
        "\n",
        "```python\n",
        "(a > b) or not(b < c)\n",
        "\n",
        "```\n",
        "\n"
      ]
    },
    {
      "cell_type": "markdown",
      "metadata": {
        "id": "IV7pQNHqHOj1"
      },
      "source": [
        "### <font color='46B8A9'> **Ejercicio 6** </font>\n",
        "Compruebelo a continuación programandolo en python"
      ]
    },
    {
      "cell_type": "code",
      "execution_count": null,
      "metadata": {
        "colab": {
          "base_uri": "https://localhost:8080/"
        },
        "id": "aKnvmTrRbNtX",
        "outputId": "27bfbe14-6e1a-4582-8b8f-9ee6dd8434e4"
      },
      "outputs": [],
      "source": [
        "a = 3\n",
        "b = 4\n",
        "c = 5\n",
        "# Inserte la operación aquí\n",
        "(a > b) or not(b < c)"
      ]
    },
    {
      "cell_type": "markdown",
      "metadata": {
        "id": "dtFJH8qtcfN6"
      },
      "source": [
        "## <font color='157699'> **Operadores de asignación** </font>\n",
        "\n",
        "Son usados para asignar valores a las variables\n",
        "\n",
        "| Operador | Ejemplo | Equivalencia    |\n",
        "|----------|---------|------------|\n",
        "| =        | x = 5   | x = 5      |\n",
        "| +=       | x += 3  | x = x + 3  |\n",
        "| -=       | x -= 3  | x = x - 3  |\n",
        "| *=       | x *= 3  | x = x * 3  |\n",
        "| /=       | x /= 3  | x = x / 3  |\n",
        "| %=       | x %= 3  | x = x % 3  |\n",
        "| //=      | x //= 3 | x = x // 3 |\n",
        "| **=      | x **= 3 | x = x ** 3 |\n",
        "| &=       | x &= 3  | x = x & 3  |\n",
        "| \\|=      | x \\|= 3 | x = x \\| 3 |"
      ]
    },
    {
      "cell_type": "markdown",
      "metadata": {
        "id": "LeYSVIQwcyIQ"
      },
      "source": [
        "### <font color='46B8A9'> **Ejercicio 7** </font>\n",
        "\n",
        "Experimente con algunos de dichos operadores. Por ejemplo, asumiendo que `a` inicialmente vale 5, use el operado `+=` para asignar en `a` el valor resultante de incrementar en 5 su valor inicial:\n"
      ]
    },
    {
      "cell_type": "code",
      "execution_count": null,
      "metadata": {
        "colab": {
          "base_uri": "https://localhost:8080/"
        },
        "id": "1JZQ4z7jcxhQ",
        "outputId": "8d9f3391-0a89-407b-96ac-5144bf02a3e9"
      },
      "outputs": [],
      "source": [
        "a = 10\n",
        "a += 5\n",
        "print(a)"
      ]
    },
    {
      "cell_type": "markdown",
      "metadata": {
        "id": "ct8GRskedzTg"
      },
      "source": [
        "## <font color='157699'> **Cuidado en el uso de los operadores** </font>\n",
        "Del tipo de dato almacenado en una variable dependerán las operaciones permitidas y el resultado obtenido. Note por ejemplo la diferencia de aplicar el operador producto `*` entre dos número o entre un número y una cadena de carácteres"
      ]
    },
    {
      "cell_type": "code",
      "execution_count": null,
      "metadata": {
        "id": "RT5XKFC9eE9Y"
      },
      "outputs": [],
      "source": [
        "a = 5\n",
        "b = 2\n",
        "texto = \"pablo\"\n",
        "\n",
        "#Producto entre enteros\n",
        "resultado = a * b\n",
        "print(\"Producto entre enteros, :\", resultado)\n",
        "\n",
        "#Producto entre entero y string\n",
        "resultado = texto * a\n",
        "print(\"Producto entre enteroy string, :\", resultado)"
      ]
    },
    {
      "cell_type": "markdown",
      "metadata": {
        "id": "kVs_W5J2ivkg"
      },
      "source": [
        "# <font color='056938'> **Funciones** </font> <font color='8EC044'> **predeterminadas** </font>\n",
        "\n",
        "El interpreter de un lenguaje, en nuestro caso Python, admite un conjunto de funciones que estan prediseñadas. A modo de ejemplo puede verse a continuación la descripción de algunas de ellas.\n",
        "\n",
        "\n",
        "| Función \t| Descrpición \t|\n",
        "|----------\t|---------------------------------------------------------------------\t|\n",
        "| abs() \t| Retorna el valor absoluto de un número \t|\n",
        "| divmod() \t| Retorna una tupla con el cociente  y el residuo de la división entera \t|\n",
        "| max() \t| Retorna el máximo de una colección de datos \t|\n",
        "| min() \t| Retorna el mínimo de una colección de datos \t|\n",
        "| pow() \t| eleva un número a una potencia dada\t|\n",
        "| round() \t| Redondea un número a su entero más cercano\t|\n",
        "\n",
        "Considere por ejemplo:"
      ]
    },
    {
      "cell_type": "code",
      "execution_count": null,
      "metadata": {
        "id": "BBH8bq99dvNI"
      },
      "outputs": [],
      "source": [
        "a = 5\n",
        "b = 2\n",
        "print(\"El modulo de la división entre a y b es: \", divmod(a, b))\n",
        "print(\"El residuo de la división entera entre a y b es: \", a%b)"
      ]
    },
    {
      "cell_type": "markdown",
      "metadata": {
        "id": "rApl0LUGi8_n"
      },
      "source": [
        "### <font color='46B8A9'> **Ejercicio 8** </font>\n",
        "Experimente con algunas de estas funciones. Por ejemplo, calcule el residuo de la division del valor absoluto de -21 entre 5"
      ]
    },
    {
      "cell_type": "code",
      "execution_count": null,
      "metadata": {
        "id": "1PjXxDXnjHKC"
      },
      "outputs": [],
      "source": [
        "# Inserte su código aquí\n",
        "resultado = divmod(abs(-21), 5)\n",
        "resultado"
      ]
    },
    {
      "cell_type": "markdown",
      "metadata": {
        "id": "QRF6YnWVphQ-"
      },
      "source": [
        "# <font color='056938'> **Práctica** </font>"
      ]
    },
    {
      "cell_type": "markdown",
      "metadata": {
        "id": "UfTpog3WoKvv"
      },
      "source": [
        "### <font color='46B8A9'> **Ejercicio 9** </font>\n",
        "Considere un programa que dados dos números, el primero de ellos correspondiente al número total de kilos que deben empacarse en cajas (a = 207kg) y la capacidad en kilos de cada caja (b = 12 kilos).\n",
        "\n",
        "* Calcule el número de cajas necesarias para empacar toda la mercancia\n",
        "* Calcule la cantidad que quedaría sin empacar si solo pueden despacharse cajas completas\n",
        "* Determine el número de cajas necesarias para empacar toda la mercancia"
      ]
    },
    {
      "cell_type": "code",
      "execution_count": null,
      "metadata": {
        "id": "xuJFskqLpeZ9"
      },
      "outputs": [],
      "source": [
        "# Librería de funciones matemáticas para números reales\n",
        "import math\n",
        "# Calcule aquí las cantidades solicitadas\n",
        "a = 207\n",
        "b = 12\n",
        "\n",
        "cajas = 207/12\n",
        "print(\"número de cajas: \", cajas)\n",
        "\n",
        "empacado = 17*12\n",
        "sin_empacar = a - empacado\n",
        "print(\"cantidad empacada: \", empacado)\n",
        "print(\"cantidad sin empacadar: \", sin_empacar)"
      ]
    },
    {
      "cell_type": "markdown",
      "metadata": {
        "id": "1P1EUTZlA-PI"
      },
      "source": [
        "### <font color='46B8A9'> **Ejercicio 10** </font>\n",
        "\n",
        "Paracaidista"
      ]
    },
    {
      "cell_type": "code",
      "execution_count": null,
      "metadata": {
        "id": "mLfdrBTgBAae"
      },
      "outputs": [],
      "source": [
        "import math\n",
        "\n",
        "# Entradas:\n",
        "m = float(input('Masa del paracaidista [kg]:    '))\n",
        "C = float(input('Coef. de arrastre aerodinámico [Ns/m]:    '))\n",
        "t = float(input('Tiempo de caída [s]:    '))\n",
        "\n",
        "# Inicialización de variables\n",
        "g = 9.81\n",
        "\n",
        "# Procesos\n",
        "V = ((m * g) / C) * (1 - math.exp(-(C/m) * t))\n",
        "\n",
        "# Salidas:\n",
        "print('\\nLa velocidad del paracaidista a los %.2f [s] es %.2f [m/s]' % (t,V))"
      ]
    },
    {
      "cell_type": "markdown",
      "metadata": {
        "id": "tziYGhAXtcU3"
      },
      "source": [
        "### <font color='46B8A9'> **Ejercicio 11** </font>\n",
        "\n",
        "Desarrolle un programa que haga lo siguiente:\n",
        "* Solicite al usuario su nombre\n",
        "* Solicite al usuario su estatura\n",
        "* Solicite al usuario su peso\n",
        "* Calcule el <a href=\"https://rextester.com/l/vb\">indice de masa corporal </a>\n",
        "* Genere un mensaje que le diga al usuario su indice\n",
        "    * (opcional) Si el indice esta en ente 18,5 y 24,9 genere un mensaje diciendo que esta en una condición saludable  óptima"
      ]
    },
    {
      "cell_type": "code",
      "execution_count": null,
      "metadata": {
        "id": "embe04Twtbp4"
      },
      "outputs": [],
      "source": [
        "# Escriba aquí su respuesta\n",
        "nombre = input(\"¿Cuál es su nombre?: \")\n",
        "estatura = float(input(\"¿Cuál es su estatura en cm?: \"))/100\n",
        "peso = float(input(\"¿Cuál es su peso en kg?: \"))\n",
        "imc = peso/(estatura**2)\n",
        "print(\"su indice de masa corporal es: \", imc)"
      ]
    }
  ],
  "metadata": {
    "colab": {
      "provenance": []
    },
    "kernelspec": {
      "display_name": "Python 3 (ipykernel)",
      "language": "python",
      "name": "python3"
    },
    "language_info": {
      "codemirror_mode": {
        "name": "ipython",
        "version": 3
      },
      "file_extension": ".py",
      "mimetype": "text/x-python",
      "name": "python",
      "nbconvert_exporter": "python",
      "pygments_lexer": "ipython3",
      "version": "3.9.7"
    }
  },
  "nbformat": 4,
  "nbformat_minor": 0
}
