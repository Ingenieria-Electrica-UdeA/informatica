{
  "cells": [
    {
      "cell_type": "markdown",
      "id": "062e1b01",
      "metadata": {},
      "source": [
        "<a href=\"https://colab.research.google.com/github/Ingenieria-Electrica-UdeA/informatica/blob/main/laboratorios/2_5_Tuplas.ipynb\" target=\"_blank\">\n",
        "    <img src=\"https://colab.research.google.com/assets/colab-badge.svg\" alt=\"Open In Colab\"/>\n",
        "</a>"
      ]
    },
    {
      "cell_type": "markdown",
      "id": "I8CPg4SX-m_k",
      "metadata": {
        "id": "I8CPg4SX-m_k"
      },
      "source": [
        "<img src=\"https://raw.githubusercontent.com/Ingenieria-Electrica-UdeA/banco_imagenes/main/banners/banner-informatica.jpg\" alt=\"Banner Informática\">"
      ]
    },
    {
      "cell_type": "markdown",
      "id": "9fd7decc",
      "metadata": {
        "id": "9fd7decc"
      },
      "source": [
        "***\n",
        "***\n",
        "# <font color='056938'> **Unidad 2 - Estructuras de datos en Python -</font> <font color='8EC044'> Parte 5 - Tuplas** </font>\n",
        "***\n",
        "***"
      ]
    },
    {
      "cell_type": "markdown",
      "id": "543c1d50",
      "metadata": {
        "id": "543c1d50"
      },
      "source": [
        "\n",
        "\n",
        "Una tupla es una estructura de datos que permite almacenar una secuencia ordenada. Es similar a una lista, puesto que permite almacenar elementos hetereogéneos. Sin embargo, la gran diferencia es que las tuplas son inmutables. Es decir, no es posible modificar una tupla después de haber sido creada. No se pueden cambiar sus elementos de forma individual, ni se puede cambiar su tamaño.\n",
        "\n",
        "Su carácter inmutable da seguridad a los datos que se almacenan en tuplas."
      ]
    },
    {
      "cell_type": "markdown",
      "id": "01b65a11",
      "metadata": {
        "id": "01b65a11"
      },
      "source": [
        "## <font color='157699'> **1. Creación: se usa paréntesis** </font>"
      ]
    },
    {
      "cell_type": "markdown",
      "id": "LKtAa5QNCucV",
      "metadata": {
        "id": "LKtAa5QNCucV"
      },
      "source": [
        "Las tuplas se crean usando `()`"
      ]
    },
    {
      "cell_type": "code",
      "execution_count": null,
      "id": "1d04804f",
      "metadata": {
        "id": "1d04804f"
      },
      "outputs": [],
      "source": [
        "tupla = (1, 2, 3)\n",
        "tupla"
      ]
    },
    {
      "cell_type": "code",
      "execution_count": null,
      "id": "725c63c8",
      "metadata": {
        "id": "725c63c8"
      },
      "outputs": [],
      "source": [
        "type(tupla)"
      ]
    },
    {
      "cell_type": "markdown",
      "id": "5g3dW0W3Bzfu",
      "metadata": {
        "id": "5g3dW0W3Bzfu"
      },
      "source": [
        "También es posible crear una tupla con la función `tuple()` pasando a esta un argunmento que corresponda a una colección o secuencia de datos.\n",
        "\n",
        "Note como puede crearse una tupla a partir de un rango"
      ]
    },
    {
      "cell_type": "code",
      "execution_count": null,
      "id": "ac177af5",
      "metadata": {
        "id": "ac177af5"
      },
      "outputs": [],
      "source": [
        "tupla = tuple(range(11))\n",
        "tupla"
      ]
    },
    {
      "cell_type": "markdown",
      "id": "_3cPQc-QgxFe",
      "metadata": {
        "id": "_3cPQc-QgxFe"
      },
      "source": [
        "Para crear una tupla con un solo elemento debe hacerlo de la siguiente forma:"
      ]
    },
    {
      "cell_type": "code",
      "execution_count": null,
      "id": "_oHLHXUXguPu",
      "metadata": {
        "id": "_oHLHXUXguPu"
      },
      "outputs": [],
      "source": [
        "tupla = (1,)\n",
        "type(tupla)"
      ]
    },
    {
      "cell_type": "code",
      "execution_count": null,
      "id": "eRbym6VqhiP-",
      "metadata": {
        "id": "eRbym6VqhiP-"
      },
      "outputs": [],
      "source": [
        "tupla = (1)\n",
        "type(tupla)"
      ]
    },
    {
      "cell_type": "markdown",
      "id": "Mz9pIXSEhFV2",
      "metadata": {
        "id": "Mz9pIXSEhFV2"
      },
      "source": [
        "Para crear una tupla vacía puede hacerlo de la siguientes formas:"
      ]
    },
    {
      "cell_type": "code",
      "execution_count": null,
      "id": "Ph6uX7lPhDKN",
      "metadata": {
        "id": "Ph6uX7lPhDKN"
      },
      "outputs": [],
      "source": [
        "tupla = ()\n",
        "type(tupla)"
      ]
    },
    {
      "cell_type": "code",
      "execution_count": null,
      "id": "XTFrypbGhQ3m",
      "metadata": {
        "id": "XTFrypbGhQ3m"
      },
      "outputs": [],
      "source": [
        "tupla = tuple()\n",
        "type(tupla)"
      ]
    },
    {
      "cell_type": "markdown",
      "id": "wAOcXgFEDQk2",
      "metadata": {
        "id": "wAOcXgFEDQk2"
      },
      "source": [
        "Similarmente podemos crear una tupla con los elementos que esten contenidos en una lista"
      ]
    },
    {
      "cell_type": "code",
      "execution_count": null,
      "id": "L6lFrzI7DXtl",
      "metadata": {
        "id": "L6lFrzI7DXtl"
      },
      "outputs": [],
      "source": [
        "lista = [1, 2, 4, 6]\n",
        "tupla = tuple(lista)\n",
        "tupla"
      ]
    },
    {
      "cell_type": "markdown",
      "id": "D5lbmjefD841",
      "metadata": {
        "id": "D5lbmjefD841"
      },
      "source": [
        "Note que al igual que las listas, las tuplas también pueden almacenar datos heterogéneos. Incluso pueden contener listas u otras tuplas:"
      ]
    },
    {
      "cell_type": "code",
      "execution_count": null,
      "id": "hL2oUKtVEA-k",
      "metadata": {
        "id": "hL2oUKtVEA-k"
      },
      "outputs": [],
      "source": [
        "tupla = ('primero', 2.3, 45, [54, 7], 'Nombre', 8)\n",
        "tupla"
      ]
    },
    {
      "cell_type": "markdown",
      "id": "35de05e4",
      "metadata": {
        "id": "35de05e4"
      },
      "source": [
        "## <font color='157699'> **2. Indexación y *slicing*** </font>"
      ]
    },
    {
      "cell_type": "markdown",
      "id": "mWEMsff1DgN0",
      "metadata": {
        "id": "mWEMsff1DgN0"
      },
      "source": [
        "Las mismas operaciones de indexación y slicing que aplican a las cadenas de caracteres y a las listas, aplican para las tuplas:"
      ]
    },
    {
      "cell_type": "code",
      "execution_count": null,
      "id": "eea98b86",
      "metadata": {
        "id": "eea98b86"
      },
      "outputs": [],
      "source": [
        "tupla"
      ]
    },
    {
      "cell_type": "code",
      "execution_count": null,
      "id": "mF_a2wgHCtfj",
      "metadata": {
        "id": "mF_a2wgHCtfj"
      },
      "outputs": [],
      "source": [
        "tupla[2] # Obtenemos el elemento en la tercera posición"
      ]
    },
    {
      "cell_type": "code",
      "execution_count": null,
      "id": "fWS8Fd10Czge",
      "metadata": {
        "id": "fWS8Fd10Czge"
      },
      "outputs": [],
      "source": [
        "tupla[-1] # Obtenemos el último elemento"
      ]
    },
    {
      "cell_type": "code",
      "execution_count": null,
      "id": "22qA7xdgC24T",
      "metadata": {
        "id": "22qA7xdgC24T"
      },
      "outputs": [],
      "source": [
        "tupla[1:3] # Obtenemos los elementos entre la segunda posición (incluida) y la cuarta posición (sin incluir)"
      ]
    },
    {
      "cell_type": "markdown",
      "id": "xD8A-GKhEeIt",
      "metadata": {
        "id": "xD8A-GKhEeIt"
      },
      "source": [
        "Al igual que las listas, las tuplas pueden contener elementos que son colecciones (por ejemplo, cadenas de caracteres, listas o tuplas). Por lo tanto, se puede realizar la indexación de estos de forma anidada:"
      ]
    },
    {
      "cell_type": "code",
      "execution_count": null,
      "id": "9b029f2c",
      "metadata": {
        "id": "9b029f2c"
      },
      "outputs": [],
      "source": [
        "tupla"
      ]
    },
    {
      "cell_type": "code",
      "execution_count": null,
      "id": "vIhWEIEMCvoZ",
      "metadata": {
        "id": "vIhWEIEMCvoZ"
      },
      "outputs": [],
      "source": [
        "tupla[0][-4:]"
      ]
    },
    {
      "cell_type": "markdown",
      "id": "yGa4Zx2eCjIa",
      "metadata": {
        "id": "yGa4Zx2eCjIa"
      },
      "source": [
        "## <font color='157699'> **3. Inmutabilidad** </font>"
      ]
    },
    {
      "cell_type": "markdown",
      "id": "ffZazPN3E0in",
      "metadata": {
        "id": "ffZazPN3E0in"
      },
      "source": [
        "Una vez creada, al intentar cambiar alguno de los elementos de la tupla se generará un error. Por ejemplo, dada la tupla:\n",
        "\n",
        "> ```python\n",
        "tupla = (1, 4, 6, 7)\n",
        "\n",
        "al intentar la instrucción para cambiar uno de sus componentes,\n",
        "> > ```python\n",
        "tupla[2] = 3\n",
        "\n",
        "generará error"
      ]
    },
    {
      "cell_type": "code",
      "execution_count": null,
      "id": "vKxIolxHFqk1",
      "metadata": {
        "id": "vKxIolxHFqk1"
      },
      "outputs": [],
      "source": [
        "tupla = (1, 4, 6, 7)\n",
        "# intente cambiar uno de sus componentes"
      ]
    },
    {
      "cell_type": "markdown",
      "id": "Ye7-mqqSFwW0",
      "metadata": {
        "id": "Ye7-mqqSFwW0"
      },
      "source": [
        "Dada la propiedad de inmutabilidad, no se definen funciones o métodos que permitan agregar o eliminar elementos a una tupla, pues éstas no pueden cambiar en su tamaño ni en sus componentes individuales."
      ]
    },
    {
      "cell_type": "markdown",
      "id": "ga2jVeUb9frL",
      "metadata": {
        "id": "ga2jVeUb9frL"
      },
      "source": [
        "## <font color='157699'> **4. Funciones y métodos sobre tuplas** </font>\n",
        "\n",
        "Las funciones disponibles para operar sobre los elementos de las tuplas son similares a los de las listas. Es decir:\n",
        "\n",
        "| Función | Descripción |\n",
        "| --- | --- |\n",
        "| `len(tupla)` | Devuelve la longitud de la tupla |\n",
        "| `tupla[index]` | Devuelve el elemento en la posición `index` |\n",
        "| `tupla.count(valor)` | Devuelve el número de veces que `valor` aparece en la tupla |\n",
        "| `tupla.index(valor)` | Devuelve la posición de la primera aparición de `valor` en la tupla |\n",
        "| `max(tupla)` | Devuelve el valor máximo de la tupla |\n",
        "| `min(tupla)` | Devuelve el valor mínimo de la tupla |\n",
        "| `sum(tupla)` | Devuelve la suma de todos los elementos de la tupla |\n"
      ]
    },
    {
      "cell_type": "markdown",
      "id": "DqVjAtgG94t7",
      "metadata": {
        "id": "DqVjAtgG94t7"
      },
      "source": [
        "Por ejemplo, también es posible contar el número de veces que un elemento se repite en una tupla"
      ]
    },
    {
      "cell_type": "code",
      "execution_count": null,
      "id": "uafplHnZ-ACS",
      "metadata": {
        "id": "uafplHnZ-ACS"
      },
      "outputs": [],
      "source": [
        "tupla = (1, 2, 4, 6, 3, 2, 7, 4, 3, 4 )\n",
        "tupla.count(4)"
      ]
    },
    {
      "cell_type": "markdown",
      "id": "qM2epp6n-zey",
      "metadata": {
        "id": "qM2epp6n-zey"
      },
      "source": [
        "### <font color='8EC044'> **Ejercicio 1** </font>\n",
        "\n",
        "Cree una tupla de números enteros de al menos 10 elementos. Desarrolle un procedimiento que permita conocer el mayor y menor número almacenado, y a su vez el promedio de los números almacenados. Por ejemplo, si la función recibe el argumento:\n",
        "\n",
        "> `(1, 2, 4, 6, 3, 2, 7, 4, 3, 4 )`\n",
        "\n",
        "Deberá retornar\n",
        "\n",
        "> *   El valor máximo es`7`\n",
        "> *   El valor minimo es`1`\n",
        "> *   El valor promedio es`3.6`\n"
      ]
    },
    {
      "cell_type": "code",
      "execution_count": null,
      "id": "a7fe72a9",
      "metadata": {
        "id": "a7fe72a9"
      },
      "outputs": [],
      "source": [
        "# Pruebe aquí la solución creada:\n"
      ]
    },
    {
      "cell_type": "markdown",
      "id": "8561953d",
      "metadata": {
        "id": "8561953d"
      },
      "source": [
        "## <font color='157699'> **5. Programación compacta** </font>"
      ]
    },
    {
      "cell_type": "markdown",
      "id": "LfY2h3V-9Bxr",
      "metadata": {
        "id": "LfY2h3V-9Bxr"
      },
      "source": [
        "Las tuplas pueden crearse de manera copacta al pasar un ciclo como argumento para generarlas:\n",
        "Nota: Este elemento se verá en profundidad en la unidad 2.8"
      ]
    },
    {
      "cell_type": "code",
      "execution_count": null,
      "id": "c98e7027",
      "metadata": {
        "id": "c98e7027"
      },
      "outputs": [],
      "source": [
        "print(tupla)\n",
        "tupla2 = tuple(i**2 for i in tupla)\n",
        "tupla2"
      ]
    },
    {
      "cell_type": "markdown",
      "id": "-cmY9ChSEx4k",
      "metadata": {
        "id": "-cmY9ChSEx4k"
      },
      "source": [
        "## <font color='157699'> **6. Velocidad de procesamiento** </font>\n",
        "\n",
        "Las tuplas se procesan más lentamente que las listas: usarlas sólo cuando sea necesario."
      ]
    },
    {
      "cell_type": "code",
      "execution_count": null,
      "id": "b66bbbef",
      "metadata": {
        "id": "b66bbbef"
      },
      "outputs": [],
      "source": [
        "l_larga = list(range(10000000))\n",
        "t_larga = tuple(l_larga)"
      ]
    },
    {
      "cell_type": "code",
      "execution_count": null,
      "id": "aec87e49",
      "metadata": {
        "id": "aec87e49"
      },
      "outputs": [],
      "source": [
        "%time for _ in range(10): L_l2 = [i*2 for i in l_larga]"
      ]
    },
    {
      "cell_type": "code",
      "execution_count": null,
      "id": "d3ea6620",
      "metadata": {
        "id": "d3ea6620"
      },
      "outputs": [],
      "source": [
        "%time for _ in range(10): t_l2 = tuple(i*2 for i in t_larga)"
      ]
    }
  ],
  "metadata": {
    "colab": {
      "provenance": []
    },
    "kernelspec": {
      "display_name": "Python 3",
      "language": "python",
      "name": "python3"
    },
    "language_info": {
      "codemirror_mode": {
        "name": "ipython",
        "version": 3
      },
      "file_extension": ".py",
      "mimetype": "text/x-python",
      "name": "python",
      "nbconvert_exporter": "python",
      "pygments_lexer": "ipython3",
      "version": "3.10.11"
    }
  },
  "nbformat": 4,
  "nbformat_minor": 5
}
