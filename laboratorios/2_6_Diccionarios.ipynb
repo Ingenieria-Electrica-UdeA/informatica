{
  "cells": [
    {
      "cell_type": "markdown",
      "id": "e876cd48",
      "metadata": {},
      "source": [
        "<a href=\"https://colab.research.google.com/github/Ingenieria-Electrica-UdeA/informatica/blob/main/laboratorios/2_6_Diccionarios.ipynb\" target=\"_blank\">\n",
        "    <img src=\"https://colab.research.google.com/assets/colab-badge.svg\" alt=\"Open In Colab\"/>\n",
        "</a>"
      ]
    },
    {
      "cell_type": "markdown",
      "id": "I8CPg4SX-m_k",
      "metadata": {
        "id": "I8CPg4SX-m_k"
      },
      "source": [
        "<img src=\"https://raw.githubusercontent.com/Ingenieria-Electrica-UdeA/banco_imagenes/main/banners/banner-informatica.jpg\" alt=\"Banner Informática\">"
      ]
    },
    {
      "cell_type": "markdown",
      "id": "9fd7decc",
      "metadata": {
        "id": "9fd7decc"
      },
      "source": [
        "***\n",
        "***\n",
        "# <font color='056938'> **Unidad 2 - Estructuras de datos en Python -</font> <font color='8EC044'> Parte 6 - Diccionarios** </font>\n",
        "***\n",
        "***"
      ]
    },
    {
      "cell_type": "markdown",
      "id": "aa17c0e0",
      "metadata": {
        "id": "aa17c0e0"
      },
      "source": [
        "Un diccionario es una estructura de datos que almacena un conjunto de pares `clave:valor`, donde cada clave es única y asociada a un valor determinado.\n",
        "\n",
        "Los diccionarios son similares a las listas, pero en lugar de indexar elementos por su posición numérica, se indexan por una clave única. Esta característica los hace especialmente útiles para almacenar y recuperar información de manera eficiente."
      ]
    },
    {
      "cell_type": "markdown",
      "id": "5cd83037",
      "metadata": {
        "id": "5cd83037"
      },
      "source": [
        "# <font color='157699'> **1. Creación** </font>"
      ]
    },
    {
      "cell_type": "markdown",
      "id": "89d7e6bd",
      "metadata": {
        "id": "89d7e6bd"
      },
      "source": [
        "Se usan llaves (`{}`). Los diccionarios pueden crearse de forma directa introduciendo cada elemento (pareja `clave:valor`)"
      ]
    },
    {
      "cell_type": "code",
      "execution_count": null,
      "id": "411136cb",
      "metadata": {
        "id": "411136cb"
      },
      "outputs": [],
      "source": [
        "dic = {'Juan'  :175, 'Andrés':161, 'Ana'   : 167}\n",
        "dic"
      ]
    },
    {
      "cell_type": "code",
      "execution_count": null,
      "id": "35f0953c",
      "metadata": {
        "id": "35f0953c"
      },
      "outputs": [],
      "source": [
        "type(dic)"
      ]
    },
    {
      "cell_type": "markdown",
      "id": "63ed0e19",
      "metadata": {
        "id": "63ed0e19"
      },
      "source": [
        "Al ser estructuras de datos heterogéneas, tanto las claves como valores pueden ser de tipos de datos diferentes.\n",
        "\n",
        "**No se permite usar una lista como clave**"
      ]
    },
    {
      "cell_type": "code",
      "execution_count": null,
      "id": "gLmoeiVFFNKJ",
      "metadata": {
        "id": "gLmoeiVFFNKJ"
      },
      "outputs": [],
      "source": [
        "dic = {3:[1,2,3],\n",
        "       'a':100,\n",
        "       'B':23.78,\n",
        "       4.2:'Programación',\n",
        "       (3,2): True}\n",
        "dic"
      ]
    },
    {
      "cell_type": "markdown",
      "id": "51b51f7d",
      "metadata": {
        "id": "51b51f7d"
      },
      "source": [
        "Los diccionarios se pueden crear directamente a partir de una lista, donde cada elemento es una lista o una tupla con la pareja `[clave,valor] `o `(clave,valor)`:"
      ]
    },
    {
      "cell_type": "code",
      "execution_count": null,
      "id": "3f855aad",
      "metadata": {
        "id": "3f855aad",
        "scrolled": true
      },
      "outputs": [],
      "source": [
        "lista = [('Clave 1',17), ('Clave 2',[14, 25]), ('Clave 3','Trece')]\n",
        "dic = dict(lista)\n",
        "dic"
      ]
    },
    {
      "cell_type": "code",
      "execution_count": null,
      "id": "79751a6c",
      "metadata": {
        "id": "79751a6c"
      },
      "outputs": [],
      "source": [
        "l1 = [['Clave 1',17], ['Clave 2',[14, 25]], ['Clave 3','Trece']]\n",
        "dic = dict(l1)\n",
        "dic"
      ]
    },
    {
      "cell_type": "markdown",
      "id": "xmlhtRpZD42b",
      "metadata": {
        "id": "xmlhtRpZD42b"
      },
      "source": [
        "Es posible crear un diccionario vacío, para luego agregarle elementos. Esto se puede lograr de dos formas:"
      ]
    },
    {
      "cell_type": "code",
      "execution_count": null,
      "id": "0XhsOWRXEDLi",
      "metadata": {
        "id": "0XhsOWRXEDLi"
      },
      "outputs": [],
      "source": [
        "dic = {}\n",
        "dic"
      ]
    },
    {
      "cell_type": "code",
      "execution_count": null,
      "id": "YrpOFOxmEGTz",
      "metadata": {
        "id": "YrpOFOxmEGTz"
      },
      "outputs": [],
      "source": [
        "dic = dict()\n",
        "dic"
      ]
    },
    {
      "cell_type": "markdown",
      "id": "3uN_Vev1By8i",
      "metadata": {
        "id": "3uN_Vev1By8i"
      },
      "source": [
        "Note que tanto las claves como los valores pueden ser de tipos hetereogéneos"
      ]
    },
    {
      "cell_type": "markdown",
      "id": "OQVXNm1eFnKb",
      "metadata": {
        "id": "OQVXNm1eFnKb"
      },
      "source": [
        "Sin embargo es importante considerar que las claves de un diccionario deberán cumplir con lo siguiente:\n",
        "* **Ser de tipo inmutable**. Esta es la razón por la que una cadena de caracteres o un tupla pueden ser una clave de un diccionario, pero no puede serlo una lista.\n",
        "* **No pueden repetirse**. Es decir, las claves de un diccionario forman un conjunto que por definición no tiene elementos repetidos."
      ]
    },
    {
      "cell_type": "markdown",
      "id": "0278a3fd",
      "metadata": {
        "id": "0278a3fd"
      },
      "source": [
        "# <font color='157699'> **2. Indexación: Acceder a los elementos de un diccionario** </font>\n",
        "\n",
        "- Los diccionarios no responden a la indexación convencional, en la cual se asignan números naturales que inician en cero y aumentan una unidad para cada elemento. Considerando el diccionario:\n",
        "\n",
        "\n",
        "> ```python\n",
        "dic = {'Juan'  :175,\n",
        "       'Andrés':161,\n",
        "       'Ana'   : 167}\n",
        "```\n",
        "\n",
        "La instrucción\n",
        "> `dic[1] `\n",
        "\n",
        "generará un error."
      ]
    },
    {
      "cell_type": "markdown",
      "id": "8d164570",
      "metadata": {
        "id": "8d164570"
      },
      "source": [
        "La indexación en los diccionarios se realiza mediante las claves de cada elemento: **el índice de un elemento dado es su respectiva clave**, de este modo no se usa un orden preestablecido para la indexación."
      ]
    },
    {
      "cell_type": "code",
      "execution_count": null,
      "id": "3c2ea664",
      "metadata": {
        "id": "3c2ea664"
      },
      "outputs": [],
      "source": [
        "dic = {'Clave 1': 17,\n",
        "       'Clave 2': [14, 25],\n",
        "       'Clave 3': 'Trece'}\n",
        "\n",
        "dic['Clave 2'] # Accedemos al elemento cuya clave es \"Clave 2\""
      ]
    },
    {
      "cell_type": "markdown",
      "id": "8GFBeTdkEjxi",
      "metadata": {
        "id": "8GFBeTdkEjxi"
      },
      "source": [
        "Note que en este caso el valor asocido a la clave es una lista, por lo que podriamos hacer indexación anidada para obtener el segundo elemento de la lista asociado a la clave \"Clave 2\""
      ]
    },
    {
      "cell_type": "code",
      "execution_count": null,
      "id": "ae3935bf",
      "metadata": {
        "id": "ae3935bf"
      },
      "outputs": [],
      "source": [
        "dic['Clave 2'][1]"
      ]
    },
    {
      "cell_type": "markdown",
      "id": "JlxcR5ROJTKJ",
      "metadata": {
        "id": "JlxcR5ROJTKJ"
      },
      "source": [
        "### <font color='46B8A9'> **Acceder a las claves** </font>\n",
        "\n",
        "Para acceder a los elementos de un diccionario, es necesario conocer las claves de sus elementos, para lo cual se usa el método `keys()`."
      ]
    },
    {
      "cell_type": "code",
      "execution_count": null,
      "id": "b4de4ce3",
      "metadata": {
        "id": "b4de4ce3"
      },
      "outputs": [],
      "source": [
        "dic = {'Juan'  :175,\n",
        "       'Andrés':161,\n",
        "       'Ana'   : 167}\n",
        "dic.keys()"
      ]
    },
    {
      "cell_type": "markdown",
      "id": "9tkubb1wKh_w",
      "metadata": {
        "id": "9tkubb1wKh_w"
      },
      "source": [
        "Esta instrucción devuelve un arreglo de tipo `dict_keys`, el cual puede usarse para iterar, pero también puede convertirse fácilmente en una lista:"
      ]
    },
    {
      "cell_type": "code",
      "execution_count": null,
      "id": "Y5_uX98oKkTp",
      "metadata": {
        "id": "Y5_uX98oKkTp"
      },
      "outputs": [],
      "source": [
        "keys = list(dic.keys())\n",
        "keys"
      ]
    },
    {
      "cell_type": "markdown",
      "id": "mzi6MhNUHLdZ",
      "metadata": {
        "id": "mzi6MhNUHLdZ"
      },
      "source": [
        "Usar una clave no existente en un diccionario generará un error. Es decir, si solicitamos el valor asociado a la clave \"abc\" pero ésta no existe, obtendremos:\n",
        "\n",
        "> `KeyError: 'abc'`\n",
        "\n"
      ]
    },
    {
      "cell_type": "markdown",
      "id": "41c57401",
      "metadata": {
        "id": "41c57401"
      },
      "source": [
        "Al usar valores enteros como claves en un diccionario, es importante tener en cuenta que la clave no indica la posición del elemento en el diccionario:"
      ]
    },
    {
      "cell_type": "code",
      "execution_count": null,
      "id": "9541c090",
      "metadata": {
        "id": "9541c090"
      },
      "outputs": [],
      "source": [
        "dic1 = {3:5,\n",
        "       2:8,\n",
        "       0:9}\n",
        "dic1"
      ]
    },
    {
      "cell_type": "code",
      "execution_count": null,
      "id": "0deb8b76",
      "metadata": {
        "id": "0deb8b76"
      },
      "outputs": [],
      "source": [
        "dic1[0]    # Valor correspondiente a la clave 0, y no al primer elemento"
      ]
    },
    {
      "cell_type": "code",
      "execution_count": null,
      "id": "cbac92d5",
      "metadata": {
        "id": "cbac92d5"
      },
      "outputs": [],
      "source": [
        "dic1[2]    # Valor correspondiente a la clave 2, y no al tercer elemento"
      ]
    },
    {
      "cell_type": "markdown",
      "id": "5d1fb083",
      "metadata": {
        "id": "5d1fb083"
      },
      "source": [
        "### <font color='46B8A9'> **Acceder a los valores** </font>\n",
        "\n",
        "Para acceder a todos los valores de un diccionario se usa el método `values()`.\n",
        "\n"
      ]
    },
    {
      "cell_type": "code",
      "execution_count": null,
      "id": "51e361df",
      "metadata": {
        "id": "51e361df"
      },
      "outputs": [],
      "source": [
        "dic"
      ]
    },
    {
      "cell_type": "code",
      "execution_count": null,
      "id": "02c5ec50",
      "metadata": {
        "id": "02c5ec50"
      },
      "outputs": [],
      "source": [
        "dic.values()"
      ]
    },
    {
      "cell_type": "markdown",
      "id": "CFvFO9kRKToi",
      "metadata": {
        "id": "CFvFO9kRKToi"
      },
      "source": [
        "Esta instrucción devuelve una arreglo de tipo `dict_values`, el cual se puede usar para iterar, pero también puede convertirse fácilmente en una lista:"
      ]
    },
    {
      "cell_type": "code",
      "execution_count": null,
      "id": "g6cYIoUUKUe5",
      "metadata": {
        "id": "g6cYIoUUKUe5"
      },
      "outputs": [],
      "source": [
        "valores = list(dic.values())\n",
        "valores"
      ]
    },
    {
      "cell_type": "markdown",
      "id": "e6108895",
      "metadata": {
        "id": "e6108895"
      },
      "source": [
        "### <font color='46B8A9'> **Acceder a los elementos** </font>\n",
        "\n",
        "Es posible acceder a los elementos completos (`clave:valor`) de un diccionario, por medio del método `items()`\n",
        "\n"
      ]
    },
    {
      "cell_type": "code",
      "execution_count": null,
      "id": "71e2f0aa",
      "metadata": {
        "id": "71e2f0aa"
      },
      "outputs": [],
      "source": [
        "dic"
      ]
    },
    {
      "cell_type": "code",
      "execution_count": null,
      "id": "b070fb7c",
      "metadata": {
        "id": "b070fb7c"
      },
      "outputs": [],
      "source": [
        "dic.items()"
      ]
    },
    {
      "cell_type": "markdown",
      "id": "tX97BAdjKvJA",
      "metadata": {
        "id": "tX97BAdjKvJA"
      },
      "source": [
        "Esta instrucción devuelve una arreglo de tipo `dict_items`, el cual puede usarse para iterar, pero también puede convertirse fácilmente en una lista de tuplas. Esto se debe a que cada elemento que se extrae del diccionario es una tupla `(clave, valor)`."
      ]
    },
    {
      "cell_type": "code",
      "execution_count": null,
      "id": "9e31e7ad",
      "metadata": {
        "id": "9e31e7ad"
      },
      "outputs": [],
      "source": [
        "items = list(dic.items())\n",
        "items"
      ]
    },
    {
      "cell_type": "markdown",
      "id": "48668013",
      "metadata": {
        "id": "48668013"
      },
      "source": [
        "El uso apropiado de los diccionarios hace más legible el código. Si se usan las claves apropiadas, éstas se podrán recordar fácilmente.\n"
      ]
    },
    {
      "cell_type": "markdown",
      "id": "ApETLXvPLU9B",
      "metadata": {
        "id": "ApETLXvPLU9B"
      },
      "source": [
        "## <font color='46B8A9'> **Ejemplo:**</font>\n",
        "\n",
        "Considere el caso en el que el usuario ingresa el nombre de un mes, y se usa un diccionario para determinar la cantidad de días de dicho mes:"
      ]
    },
    {
      "cell_type": "code",
      "execution_count": null,
      "id": "70eef3f5",
      "metadata": {
        "id": "70eef3f5"
      },
      "outputs": [],
      "source": [
        "# diccionario de días por meses\n",
        "n_dias = {'enero':31, 'febrero':28, 'marzo':31, 'abril':30, 'mayo':31,\n",
        "          'junio':30, 'julio':31, 'agosto':31, 'septiembre':30,\n",
        "          'octubre':31, 'noviembre':30, 'diciembre':31}\n",
        "\n",
        "# ingreso del mes\n",
        "mes = input('Ingrese el nombre de un mes: ').lower().strip()\n",
        "\n",
        "print(f'El mes {mes} tiene {n_dias[mes]} días')"
      ]
    },
    {
      "cell_type": "markdown",
      "id": "a1dd06f9",
      "metadata": {
        "id": "a1dd06f9"
      },
      "source": [
        "## <font color='157699'> **3. Mutabilidad de elementos** </font>\n",
        "\n",
        "\n",
        "Los diccionarios son estructuras mutables. Es posible cambiar el valor asociado a una clave, aunque no es posible cambiar la clave misma."
      ]
    },
    {
      "cell_type": "code",
      "execution_count": null,
      "id": "6509a5ef",
      "metadata": {
        "id": "6509a5ef"
      },
      "outputs": [],
      "source": [
        "dic"
      ]
    },
    {
      "cell_type": "code",
      "execution_count": null,
      "id": "46bb06ec",
      "metadata": {
        "id": "46bb06ec"
      },
      "outputs": [],
      "source": [
        "dic[\"Ana\"] = 165  # cambiamos el valor asociado a la clave \"Ana\"\n",
        "dic"
      ]
    },
    {
      "cell_type": "markdown",
      "id": "l5cTDw6wMrwb",
      "metadata": {
        "id": "l5cTDw6wMrwb"
      },
      "source": [
        "## <font color='8EC044'> **Ejercicio 1** </font>\n",
        "\n",
        "Considere un diccionario que tiene todos los meses del año y el número de días de cada mes.\n",
        "\n",
        "Imprimir todas las llaves, valores e ítems del diccionario."
      ]
    },
    {
      "cell_type": "code",
      "execution_count": null,
      "id": "r6DeIIZmM8Wq",
      "metadata": {
        "id": "r6DeIIZmM8Wq"
      },
      "outputs": [],
      "source": [
        "# Inserte aquí su respuesta\n"
      ]
    },
    {
      "cell_type": "markdown",
      "id": "34e19d2e",
      "metadata": {
        "id": "34e19d2e"
      },
      "source": [
        "## <font color='157699'> **4. Agregar y eliminar de elementos** </font>\n"
      ]
    },
    {
      "cell_type": "markdown",
      "id": "8IEsBPKHTqvS",
      "metadata": {
        "id": "8IEsBPKHTqvS"
      },
      "source": [
        "\n",
        "### <font color='46B8A9'> **Adición de elementos** </font>  \n",
        "    \n",
        "Algunas formas de adicionar nuevos elementos a un diccionario son:\n",
        "\n",
        "| Función | Descripción |\n",
        "|---------|-------------|\n",
        "| `dic[nueva_clave] = nuevo_valor` | Agrega una nueva clave y valor al diccionario utilizando corchetes. Si la clave ya existe, actualiza su valor. |\n",
        "| `dic.update({nueva_clave: nuevo_valor})` | Agrega una nueva clave y valor al diccionario utilizando el método `update()`. Si la clave ya existe, actualiza su valor. |\n",
        "| `dic.update([(nueva_clave1, nuevo_valor1), (nueva_clave2, nuevo_valor2)])` | Agrega varias nuevas claves y valores al diccionario utilizando el método `update()` y una lista de tuplas. |\n",
        "\n",
        "    \n"
      ]
    },
    {
      "cell_type": "markdown",
      "id": "Yusqwyb3Pv3Z",
      "metadata": {
        "id": "Yusqwyb3Pv3Z"
      },
      "source": [
        "Note que en todos estos casos, si la clave ya existe en el diccionario, se actualizará el valor para la clave ya existente"
      ]
    },
    {
      "cell_type": "code",
      "execution_count": null,
      "id": "48cd8e4d",
      "metadata": {
        "id": "48cd8e4d"
      },
      "outputs": [],
      "source": [
        "dic"
      ]
    },
    {
      "cell_type": "code",
      "execution_count": null,
      "id": "cRO4cLGiQFmJ",
      "metadata": {
        "id": "cRO4cLGiQFmJ"
      },
      "outputs": [],
      "source": [
        "dic[\"Camila\"] = 159\n",
        "dic"
      ]
    },
    {
      "cell_type": "code",
      "execution_count": null,
      "id": "yv6feyQIQDaR",
      "metadata": {
        "id": "yv6feyQIQDaR"
      },
      "outputs": [],
      "source": [
        "dic.update ({'Isabel': 163, \"Juan\": 170})\n",
        "dic"
      ]
    },
    {
      "cell_type": "code",
      "execution_count": null,
      "id": "6Pgu6bFyQZjp",
      "metadata": {
        "id": "6Pgu6bFyQZjp"
      },
      "outputs": [],
      "source": [
        "dic.update([('Isabel', 164), (\"David\", 170)])\n",
        "dic"
      ]
    },
    {
      "cell_type": "markdown",
      "id": "KFk5G1fLQ2Xo",
      "metadata": {
        "id": "KFk5G1fLQ2Xo"
      },
      "source": [
        "### <font color='46B8A9'> **Concatenar diccionarios** </font>  \n",
        "\n",
        "| Función | Descripción |\n",
        "|---------|-------------|\n",
        "| `mi_diccionario.update(nuevo_diccionario)` | Agrega todos los elementos de otro diccionario al diccionario original utilizando el método `update()`. |\n",
        "| `mi_diccionario = {**mi_diccionario, **nuevo_diccionario}` | Agrega todos los elementos de otro diccionario al diccionario original utilizando el operador `**`. |\n",
        "\n",
        "En ambos casos, si una clave ya existe, actualiza su valor con el valor del nuevo diccionario\n"
      ]
    },
    {
      "cell_type": "code",
      "execution_count": null,
      "id": "2t8WgH6bRXaI",
      "metadata": {
        "id": "2t8WgH6bRXaI"
      },
      "outputs": [],
      "source": [
        "dic1 = {'Juan'  :175,\n",
        "       'Andrés':161,\n",
        "       'Ana'   : 167}\n",
        "dic1"
      ]
    },
    {
      "cell_type": "code",
      "execution_count": null,
      "id": "XYfxNQclRX-C",
      "metadata": {
        "id": "XYfxNQclRX-C"
      },
      "outputs": [],
      "source": [
        "dic2 = {'David':175,\n",
        "       'Andrés':164,\n",
        "       'Isabel': 167}\n",
        "dic2"
      ]
    },
    {
      "cell_type": "code",
      "execution_count": null,
      "id": "Ujm86ZsJRhPA",
      "metadata": {
        "id": "Ujm86ZsJRhPA"
      },
      "outputs": [],
      "source": [
        "dic1.update(dic2)\n",
        "dic1"
      ]
    },
    {
      "cell_type": "markdown",
      "id": "53d5a09c",
      "metadata": {
        "id": "53d5a09c"
      },
      "source": [
        "### <font color='46B8A9'> **Anidamiento de diccionarios** </font>  \n",
        "\n",
        "Al igual que con las listas y tuplas, un diccionario puede contener cualquier tipo de datos, incluso otros diccionarios, y este anidamiento se puede repetir sin límite."
      ]
    },
    {
      "cell_type": "code",
      "execution_count": null,
      "id": "ce7c2e3c",
      "metadata": {
        "id": "ce7c2e3c"
      },
      "outputs": [],
      "source": [
        "dic1 = {'A':175,\n",
        "       'B':161,\n",
        "       'C': 167}\n",
        "dic1"
      ]
    },
    {
      "cell_type": "code",
      "execution_count": null,
      "id": "4397af59",
      "metadata": {
        "id": "4397af59"
      },
      "outputs": [],
      "source": [
        "dic2 = {'000': 9866602,\n",
        "        '001': 6533300,\n",
        "        '002': 1232555}\n",
        "dic2"
      ]
    },
    {
      "cell_type": "code",
      "execution_count": null,
      "id": "Q6AriD9eS6S2",
      "metadata": {
        "id": "Q6AriD9eS6S2"
      },
      "outputs": [],
      "source": [
        "dic1[\"D\"] = dic2\n",
        "dic1"
      ]
    },
    {
      "cell_type": "markdown",
      "id": "a270eb2a",
      "metadata": {
        "id": "a270eb2a"
      },
      "source": [
        "Indexación anidada:"
      ]
    },
    {
      "cell_type": "code",
      "execution_count": null,
      "id": "4f19f4f1",
      "metadata": {
        "id": "4f19f4f1"
      },
      "outputs": [],
      "source": [
        "dic1['D']['001']"
      ]
    },
    {
      "cell_type": "markdown",
      "id": "41b265a0",
      "metadata": {
        "id": "41b265a0"
      },
      "source": [
        "### <font color='46B8A9'> **Eliminación de elementos** </font>  \n",
        "\n",
        "Algunas opciones para eliminar elementos de un diccionario son\n",
        "\n",
        "`del dicc[clave]`\n",
        "\n",
        "\n",
        "| Método | Descripción |\n",
        "|--------|-------------|\n",
        "| `del mi_diccionario[clave]` | Elimina la clave y su valor correspondiente del diccionario utilizando la palabra clave `del`. Si la clave no existe, genera un error. |\n",
        "| `mi_diccionario.pop(clave)` | Elimina la clave y su valor correspondiente del diccionario utilizando el método `pop()`. Si la clave no existe, genera un error. |\n",
        "| `mi_diccionario.popitem()` | Elimina y devuelve una tupla (clave:valor) aleatoria del diccionario. |\n",
        "| `mi_diccionario.clear()` | Elimina todos los elementos del diccionario utilizando el método `clear()`. El resultado será un diccionario vacío. |\n"
      ]
    },
    {
      "cell_type": "code",
      "execution_count": null,
      "id": "fc9be0f4",
      "metadata": {
        "id": "fc9be0f4"
      },
      "outputs": [],
      "source": [
        "dic  = {'Juan'  : 175,\n",
        "        'Andrés': 161,\n",
        "        'Ana'   : 167,\n",
        "        'Isabel': 170,\n",
        "        'Martín': 185}\n",
        "dic"
      ]
    },
    {
      "cell_type": "code",
      "execution_count": null,
      "id": "067ce026",
      "metadata": {
        "id": "067ce026"
      },
      "outputs": [],
      "source": [
        "del dic[\"Ana\"]\n",
        "dic"
      ]
    },
    {
      "cell_type": "code",
      "execution_count": null,
      "id": "0zf4afMbV09g",
      "metadata": {
        "id": "0zf4afMbV09g"
      },
      "outputs": [],
      "source": [
        "valor_elim = dic.pop(\"Isabel\")\n",
        "dic"
      ]
    },
    {
      "cell_type": "markdown",
      "id": "JK-g3Ow6WO6a",
      "metadata": {
        "id": "JK-g3Ow6WO6a"
      },
      "source": [
        "Note que este método además de eliminar el elemento retorna el valor asociado al item eliminado"
      ]
    },
    {
      "cell_type": "code",
      "execution_count": null,
      "id": "2WbDj9x_WEBI",
      "metadata": {
        "id": "2WbDj9x_WEBI"
      },
      "outputs": [],
      "source": [
        "valor_elim"
      ]
    },
    {
      "cell_type": "code",
      "execution_count": null,
      "id": "471ef61a",
      "metadata": {
        "id": "471ef61a"
      },
      "outputs": [],
      "source": [
        "dic.popitem()\n",
        "dic"
      ]
    },
    {
      "cell_type": "markdown",
      "id": "OucT7D0pNyyZ",
      "metadata": {
        "id": "OucT7D0pNyyZ"
      },
      "source": [
        "## <font color='8EC044'> **Ejercicio 2** </font>\n",
        "\n",
        "Considere un diccionario cuya clave es el nombre del color primario y su código rgb :"
      ]
    },
    {
      "cell_type": "code",
      "execution_count": null,
      "id": "CSwbsK5fONPZ",
      "metadata": {
        "id": "CSwbsK5fONPZ"
      },
      "outputs": [],
      "source": [
        "# Inserte aquí su respuesta\n"
      ]
    },
    {
      "cell_type": "markdown",
      "id": "Gl0lW-yHOU4K",
      "metadata": {
        "id": "Gl0lW-yHOU4K"
      },
      "source": [
        "Cree otro diccionario llamado `secundario` con el nombre del [color secundario y su código rgb](https://www.paletacolores.com/secundarios/) (use los colores, naranje, verde, y morado)."
      ]
    },
    {
      "cell_type": "code",
      "execution_count": null,
      "id": "Kw5l7eWuPDIh",
      "metadata": {
        "id": "Kw5l7eWuPDIh"
      },
      "outputs": [],
      "source": [
        "# Inserte aquí su respuesta\n"
      ]
    },
    {
      "cell_type": "markdown",
      "id": "tZUshmsOPG6T",
      "metadata": {
        "id": "tZUshmsOPG6T"
      },
      "source": [
        "Cree un diccionario llamado `colores` que sea la unión de `primarios` y `secundarios`."
      ]
    },
    {
      "cell_type": "code",
      "execution_count": null,
      "id": "A8eKVTpHPO_r",
      "metadata": {
        "id": "A8eKVTpHPO_r"
      },
      "outputs": [],
      "source": [
        "# Inserte aquí su respuesta\n"
      ]
    },
    {
      "cell_type": "markdown",
      "id": "83c585a7",
      "metadata": {
        "id": "83c585a7"
      },
      "source": [
        "# <font color='157699'> **5. Funciones y métodos** </font>"
      ]
    },
    {
      "cell_type": "markdown",
      "id": "952a8946",
      "metadata": {
        "id": "952a8946"
      },
      "source": [
        "### <font color='46B8A9'> **Copia** </font>  \n",
        "\n",
        "Con los diccionarios sucede algo similar a lo que se observa con las listas: cuando se hace una variable igual a otra, no se crea una variable independiente, sino que **se genera una referencia a la variable original**, y ambas compartirán los cambios que ocurran en alguna de ellas.\n",
        "\n",
        "Para evitar esto, y tener una variable independiente, hace falta usar el método `copy()`."
      ]
    },
    {
      "cell_type": "code",
      "execution_count": null,
      "id": "5799ff79",
      "metadata": {
        "id": "5799ff79"
      },
      "outputs": [],
      "source": [
        "dic = {'Juan'  :175,\n",
        "       'Andrés':161,\n",
        "       'Ana'   : 167}\n",
        "dic"
      ]
    },
    {
      "cell_type": "code",
      "execution_count": null,
      "id": "06c0d475",
      "metadata": {
        "id": "06c0d475"
      },
      "outputs": [],
      "source": [
        "dic2 = dic"
      ]
    },
    {
      "cell_type": "markdown",
      "id": "ZSKRT4grZdWQ",
      "metadata": {
        "id": "ZSKRT4grZdWQ"
      },
      "source": [
        "Se hace un cambio en `dic2`"
      ]
    },
    {
      "cell_type": "code",
      "execution_count": null,
      "id": "a78ec868",
      "metadata": {
        "id": "a78ec868"
      },
      "outputs": [],
      "source": [
        "dic2['Juan'] = 186\n",
        "dic2"
      ]
    },
    {
      "cell_type": "markdown",
      "id": "9GtT6rAYZhax",
      "metadata": {
        "id": "9GtT6rAYZhax"
      },
      "source": [
        "El cambio se refleja también en `dic`"
      ]
    },
    {
      "cell_type": "code",
      "execution_count": null,
      "id": "33853056",
      "metadata": {
        "id": "33853056"
      },
      "outputs": [],
      "source": [
        "dic"
      ]
    },
    {
      "cell_type": "markdown",
      "id": "cm-eU3YPaE9p",
      "metadata": {
        "id": "cm-eU3YPaE9p"
      },
      "source": [
        "Para evitar este comportamiento debemos realizar una copia"
      ]
    },
    {
      "cell_type": "code",
      "execution_count": null,
      "id": "a23f38ed",
      "metadata": {
        "id": "a23f38ed"
      },
      "outputs": [],
      "source": [
        "dic = {'Juan'  :175,\n",
        "       'Andres':161,\n",
        "       'Ana'   : 167}\n",
        "dic2  = dic.copy()\n",
        "dic2[\"Ana\"] = 161"
      ]
    },
    {
      "cell_type": "code",
      "execution_count": null,
      "id": "8ea8ce0a",
      "metadata": {
        "id": "8ea8ce0a"
      },
      "outputs": [],
      "source": [
        "print(\"Diccionario original:\", dic)\n",
        "print(\"Diccionario modificado:\", dic2)"
      ]
    },
    {
      "cell_type": "markdown",
      "id": "hx-6ZbUrLTYu",
      "metadata": {
        "id": "hx-6ZbUrLTYu"
      },
      "source": [
        "Algunos otros métodos y funciones de los diccionarios son:\n",
        "\n",
        "| Función | Descripción |\n",
        "|---------|-------------|\n",
        "| `len(dict)` | Devuelve el número de elementos en el diccionario |\n",
        "| `in` | Operador para recorrer un diccionario |\n",
        "| `copy()` | Crea una copia superficial del diccionario |\n",
        "\n"
      ]
    },
    {
      "cell_type": "markdown",
      "id": "9ea76c6c",
      "metadata": {
        "id": "9ea76c6c"
      },
      "source": [
        "# <font color='157699'> **6. Programación compacta con diccionarios <font color='46b8a9'> (*dict comprehensions*)** </font>\n",
        "\n",
        "La programación compacta con diccionarios (`dictionary comprehension`) es una construcción de Python que permite crear un diccionario utilizando una sintaxis compacta y legible. Es similar a la programación compacta con listas y con tuplas, pero en lugar de crear una lista, se crea un diccionario.\n",
        "\n",
        "La sintaxis de la programación compacta con diccionarios es la siguiente:\n",
        "\n",
        "> ```python\n",
        "    {clave:valor for variable in iterable}\n",
        "\n",
        "Donde `clave` es la clave que se le asigna al valor `valor`, `variable` es la variable utilizada en la iteración, e `iterable` es el objeto que se itera (como una lista o una tupla).\n"
      ]
    },
    {
      "cell_type": "markdown",
      "id": "bJnoWr5ldhn5",
      "metadata": {
        "id": "bJnoWr5ldhn5"
      },
      "source": [
        "## <font color='46B8A9'> **Ejemplo:**</font>\n",
        "\n",
        "Considere una lista con diferentes palabras\n",
        "\n",
        "> `lista = ['Algoritmos', 'Programación', 'Simulación']`\n",
        "\n",
        "Se desea construir un diccionario que asocie a cada palabra el número de caracteres que la componen."
      ]
    },
    {
      "cell_type": "code",
      "execution_count": null,
      "id": "2bbc919f",
      "metadata": {
        "id": "2bbc919f",
        "scrolled": true
      },
      "outputs": [],
      "source": [
        "lista = ['Algoritmos', 'Programación', 'Simulación']\n",
        "dic = {palabra:len(palabra) for palabra in lista}\n",
        "dic"
      ]
    },
    {
      "cell_type": "markdown",
      "id": "sWwgnesMfKIx",
      "metadata": {
        "id": "sWwgnesMfKIx"
      },
      "source": [
        "También se pueden agregar condiciones a la programación compacta con diccionarios, mediante la siguiente sintaxis:\n",
        "\n",
        "> ```python\n",
        "{clave:valor for variable in iterable if condición}\n"
      ]
    },
    {
      "cell_type": "markdown",
      "id": "4-caTsSrfkNQ",
      "metadata": {
        "id": "4-caTsSrfkNQ"
      },
      "source": [
        "Construiremos el diccionario soo con aquellas palabras que no contengan la letra x:"
      ]
    },
    {
      "cell_type": "code",
      "execution_count": null,
      "id": "DEZYke8afUw5",
      "metadata": {
        "id": "DEZYke8afUw5"
      },
      "outputs": [],
      "source": [
        "lista = ['Algoritmos', 'Programación', 'Simulación', 'Extracción']\n",
        "dic = {palabra:len(palabra) for palabra in lista if \"x\" not in palabra.lower()}\n",
        "dic"
      ]
    },
    {
      "cell_type": "markdown",
      "id": "T2S8VTs-Q8kj",
      "metadata": {
        "id": "T2S8VTs-Q8kj"
      },
      "source": [
        "## <font color='8EC044'> **Ejercicio 3** </font>\n",
        "\n",
        "Utilizando programación compacta con diccionarios (dict comprehensions) crear el ejemplo de los meses y los días previamente desarrollado. Agregar la cantidad de dias por mes con una secuencia."
      ]
    },
    {
      "cell_type": "code",
      "execution_count": null,
      "id": "_SbgKo1FRDxk",
      "metadata": {
        "id": "_SbgKo1FRDxk"
      },
      "outputs": [],
      "source": [
        "# Inserte aquí su respuesta\n"
      ]
    },
    {
      "cell_type": "markdown",
      "id": "1219da11",
      "metadata": {
        "id": "1219da11"
      },
      "source": [
        "# <font color='157699'> **8. Ejemplos** </font>\n",
        "\n",
        "Nota: Estos ejemplos se recomiendan su ejecución posterior a la unidad 2.8."
      ]
    },
    {
      "cell_type": "markdown",
      "id": "0cd8e8f0",
      "metadata": {
        "id": "0cd8e8f0"
      },
      "source": [
        "## <font color='46B8A9'> **Ejemplo 1** </font>\n",
        "\n",
        "Verificación de la existencia de una clave en un diccionario."
      ]
    },
    {
      "cell_type": "code",
      "execution_count": null,
      "id": "cd3be440",
      "metadata": {
        "id": "cd3be440"
      },
      "outputs": [],
      "source": [
        "dic = {'lunes': 2, 'martes': 5, 'jueves': 4, 'viernes': 5, 'sábado': 3, }\n",
        "\n",
        "clave = input('Escriba el nombre de un día de la semana: ').lower()\n",
        "if clave in dic:\n",
        "    print('\\nEl valor de', clave, 'es:', dic[clave])\n",
        "else:\n",
        "    print('\\nLa clave escrita no pertenece al diccionario')"
      ]
    },
    {
      "cell_type": "markdown",
      "id": "35782112",
      "metadata": {
        "id": "35782112"
      },
      "source": [
        "## <font color='46B8A9'> **Ejemplo 2** </font>\n",
        "\n",
        "Creación de un diccionario de forma dinámica, usando datos ingresados por el usuario."
      ]
    },
    {
      "cell_type": "code",
      "execution_count": null,
      "id": "e8569d27",
      "metadata": {
        "id": "e8569d27"
      },
      "outputs": [],
      "source": [
        "dic = {}\n",
        "for i in range(3):\n",
        "    nombre = input('Escriba su nombre:    ')\n",
        "    edad = int(input('Escriba su edad:    '))\n",
        "    dic[nombre] = edad\n",
        "dic"
      ]
    },
    {
      "cell_type": "code",
      "execution_count": null,
      "id": "601d3409",
      "metadata": {
        "id": "601d3409"
      },
      "outputs": [],
      "source": [
        "for nombre in dic.keys():\n",
        "    print('La edad de %s es %d' % (nombre, dic[nombre]))"
      ]
    },
    {
      "cell_type": "code",
      "execution_count": null,
      "id": "067341dc",
      "metadata": {
        "id": "067341dc"
      },
      "outputs": [],
      "source": [
        "dic.items()"
      ]
    },
    {
      "cell_type": "code",
      "execution_count": null,
      "id": "1eb93854",
      "metadata": {
        "id": "1eb93854"
      },
      "outputs": [],
      "source": [
        "print('Nombre', 'Edad', sep='\\t\\t')\n",
        "print('-'*20)\n",
        "for item in dic.items():\n",
        "    print(item[0], item[1], sep='\\t\\t')"
      ]
    },
    {
      "cell_type": "markdown",
      "id": "7d63cddd",
      "metadata": {
        "id": "7d63cddd"
      },
      "source": [
        "## <font color='46B8A9'> **Ejemplo 3** </font>\n",
        "\n",
        "Puntuación para el juego *Scrabble* $\\rightarrow$ Automatización de procesos cuando se usan valores fijos.\n",
        "\n",
        "En este juego se suman los valores de cada letra que forma parte de la palabra formada. Si se forma una palabra de 7 letras (número de fichas de cada jugador), se concede una bonificación adicional de 50 puntos."
      ]
    },
    {
      "cell_type": "code",
      "execution_count": null,
      "id": "e372316b",
      "metadata": {
        "collapsed": true,
        "id": "e372316b",
        "jupyter": {
          "outputs_hidden": true
        }
      },
      "outputs": [],
      "source": [
        "valores = {'A':1, 'B':3, 'C':3, 'D':2, 'E':1, 'F' :4, 'G':2,\n",
        "          'H':4, 'I':1, 'J':8, 'K':5, 'L':1, 'M':3, 'N':1,\n",
        "          'Ñ':8, 'O':1, 'P':3, 'Q':10, 'R':1, 'S':1, 'T':1,\n",
        "          'U':1, 'V':4, 'W':4,'X':8, 'Y':4, 'Z':10}"
      ]
    },
    {
      "cell_type": "code",
      "execution_count": null,
      "id": "297f47a8",
      "metadata": {
        "id": "297f47a8"
      },
      "outputs": [],
      "source": [
        "palabra = input('Escriba una palabra:    ').upper()\n",
        "puntuacion = sum([valores[c] for c in palabra])\n",
        "if len(palabra) == 7:\n",
        "    print('\\nPuntaje obtenido:', puntuacion + 50)\n",
        "    print('Se obtuvo una bonificación por usar todas las fichas')\n",
        "else:\n",
        "    print('\\nPuntaje obtenido:', puntuacion)"
      ]
    },
    {
      "cell_type": "markdown",
      "id": "8b4ffade",
      "metadata": {
        "id": "8b4ffade"
      },
      "source": [
        "## <font color='46B8A9'> **Ejemplo 4** </font>\n",
        "\n",
        "Anidamiento de diccionarios.\n",
        "\n",
        "A continuación se da información sobre los cursos de los semestres 5 y 6 del programa de Ingeniería Mecánica en la Universidad de Antioquia.\n",
        "\n",
        "\n",
        "**Semestre 5:**\n",
        "\n",
        "| Asignatura | Código | Créditos |\n",
        "|---|---|---|\n",
        "| Matemáticas especiales | 2503653 | 3 |\n",
        "| Programación y métodos numéricos | 2503506 | 3 |\n",
        "| Laboratorio integrado de física | 2301502 | 2 |\n",
        "| Dinámica y mecanismos | 2503655 | 4 |\n",
        "| Electricidad básica | 2503651 | 2 |\n",
        "| Procesos de unión | 2503652 | 2 |\n",
        "\n",
        "\n",
        "**Semestre 6:**\n",
        "\n",
        "| Asignatura | Código | Créditos |\n",
        "|---|---|---|\n",
        "| Mecánica de fluidos | 2503663 | 4 |\n",
        "| Termodinámica 1 | 2503665 | 3 |\n",
        "| Formación ciudadana y constitucional | 2517362 | 1 |\n",
        "| Resistencia de materiales | 2503666 | 4 |\n",
        "| Electrónica básica | 2503662 | 2 |\n",
        "| Mecanizado | 2503667 | 3 |\n",
        "\n",
        "\n",
        "Utilice diccionarios para almacenar la información de cada asignatura (un diccionario por cada una). Luego, cree un diccionario que contenga la información de cada semestre, y finalmente uno que tenga toda la información del programa académico (semestres 5 y 6 en este caso).\n",
        "\n",
        "Finalmente use el diccionario de mayor nivel, con los datos completos del programa académico, para mostrar de forma organizada un listado con los datos de semestre, código, créditos, y nombre de las asignaturas (use la función `print()`)."
      ]
    },
    {
      "cell_type": "markdown",
      "id": "a8906c89",
      "metadata": {
        "id": "a8906c89"
      },
      "source": [
        "**Datos de cada asignatura**"
      ]
    },
    {
      "cell_type": "code",
      "execution_count": null,
      "id": "935508b3",
      "metadata": {
        "id": "935508b3"
      },
      "outputs": [],
      "source": [
        "# Asignaturas del quinto semestre de IM en la UdeA\n",
        "mat_esp = {'Nombre':'Matemáticas especiales', 'Código': 2503653, 'Créditos':3}\n",
        "menu = {'Nombre':'Métodos numéricos','Código':2503020,'Créditos': 3}\n",
        "lab_int_fis = {'Nombre':'Laboratorio integrado de física','Código':2301502,'Créditos': 2}\n",
        "d_mec = {'Nombre':'Dinámica y mecanismos','Código':2503655,'Créditos': 4}\n",
        "eltcd_bas = {'Nombre':'Electricidad básica','Código':2503651,'Créditos': 2}\n",
        "p_union = {'Nombre':'Procesos de unión','Código':2503652,'Créditos': 2}\n",
        "\n",
        "# Asiganaturas del sexto semestre:\n",
        "mec_flu = {'Nombre':'Mecánica de fluidos','Código':2503663,'Créditos': 4}\n",
        "tdca1 = {'Nombre':'Termodinámica 1','Código':2503665,'Créditos': 3}\n",
        "f_ciu_cons = {'Nombre':'Formación ciudadana y constitucional','Código':2517362,'Créditos': 1}\n",
        "res_mat = {'Nombre':'Resistencia de materiales','Código':2503666,'Créditos': 4}\n",
        "eltnca_bas = {'Nombre':'Electrónica básica','Código':2503662,'Créditos': 2}\n",
        "meczdo = {'Nombre':'Mecanizado','Código':2503667,'Créditos': 3}"
      ]
    },
    {
      "cell_type": "markdown",
      "id": "17010da0",
      "metadata": {
        "id": "17010da0"
      },
      "source": [
        "**Datos por semestre**"
      ]
    },
    {
      "cell_type": "code",
      "execution_count": null,
      "id": "7a1aaa1a",
      "metadata": {
        "id": "7a1aaa1a"
      },
      "outputs": [],
      "source": [
        "# Diccionario para el semestre 5:\n",
        "asignaturas_05 = {'Curso 1':mat_esp, 'Curso 2':menu, 'Curso 3':lab_int_fis,\n",
        "                  'Curso 4': d_mec, 'Curso 5':eltcd_bas, 'Curso 6':p_union}\n",
        "\n",
        "# Diccionario para el semestre 6:\n",
        "asignaturas_06 = {'Curso 1':mec_flu, 'Curso 2':tdca1, 'Curso 3': f_ciu_cons,\n",
        "                 'Curso 4':res_mat, 'Curso 5':eltnca_bas, 'Curso 6': meczdo}"
      ]
    },
    {
      "cell_type": "code",
      "execution_count": null,
      "id": "fcda2f0f",
      "metadata": {
        "id": "fcda2f0f"
      },
      "outputs": [],
      "source": [
        "asignaturas_05"
      ]
    },
    {
      "cell_type": "code",
      "execution_count": null,
      "id": "58fe79f7",
      "metadata": {
        "id": "58fe79f7"
      },
      "outputs": [],
      "source": [
        "asignaturas_06"
      ]
    },
    {
      "cell_type": "markdown",
      "id": "813e3b8e",
      "metadata": {
        "id": "813e3b8e"
      },
      "source": [
        "**Datos del programa académico**"
      ]
    },
    {
      "cell_type": "code",
      "execution_count": null,
      "id": "a47d58d5",
      "metadata": {
        "id": "a47d58d5"
      },
      "outputs": [],
      "source": [
        "# Diccionario para el programa académico\n",
        "programa_acad = {'Sem 05':asignaturas_05, 'Sem 06':asignaturas_06}"
      ]
    },
    {
      "cell_type": "code",
      "execution_count": null,
      "id": "15bb9d5d",
      "metadata": {
        "id": "15bb9d5d"
      },
      "outputs": [],
      "source": [
        "programa_acad"
      ]
    },
    {
      "cell_type": "markdown",
      "id": "ac36d396",
      "metadata": {
        "id": "ac36d396"
      },
      "source": [
        "**Escritura organizada de los datos del programa académico**"
      ]
    },
    {
      "cell_type": "code",
      "execution_count": null,
      "id": "923ea21f",
      "metadata": {
        "id": "923ea21f"
      },
      "outputs": [],
      "source": [
        "print('Semestre', '\\tCódigo', '\\t\\tCréditos', '\\tAsignatura')\n",
        "print('-'*85)\n",
        "for sem in programa_acad.keys():\n",
        "    for curso in programa_acad[sem]:\n",
        "        print(sem, programa_acad[sem][curso]['Código'],\n",
        "             programa_acad[sem][curso]['Créditos'],\n",
        "             programa_acad[sem][curso]['Nombre'], sep='\\t\\t')"
      ]
    },
    {
      "cell_type": "markdown",
      "id": "d29e139b",
      "metadata": {
        "id": "d29e139b"
      },
      "source": [
        "## <font color='46B8A9'> **Ejemplo 5** </font>\n",
        "\n",
        "Cálculo de la fuerza (peso) que siente un cuerpo en los planetas que conforman el sistema solar. Esta fuerza se puede determinar por medio de la ley de gravitación universal:\n",
        "\n",
        "$$ F_p = \\dfrac{G\\,m\\,m_p}{r_p^2} $$\n",
        "\n",
        "Donde $F_p$ [N] es la fuerza que experimenta el objeto de masa $m$ [kg] en el planeta de masa $m_p$ [kg], el cual tiene un radio $r_p$ [m]. $G$ es la constante de gravitación universal, la cual tiene un valor de 6.672 $\\times\\ 10^{-11}\\ [N\\,m^2/kg^2]$.\n",
        "\n",
        "**Información de los planestas del sistema solar:**\n",
        "\n",
        "| Planeta | radio [km] | masa [kg] |\n",
        "|---|---|---|\n",
        "| Sol | 695000 | 1.989 $\\times\\ 10^{30}$ |\n",
        "| Mercurio | 2439.7 | 3.303 $\\times\\ 10^{23}$ |\n",
        "| Venus | 6051.8 | 4.869 $\\times\\ 10^{24}$ |\n",
        "| Tierra | 6378.14 | 5.976 $\\times\\ 10^{24}$ |\n",
        "| Marte | 3397.2 | 6.421 $\\times\\ 10^{23}$ |\n",
        "| Júpiter | 71492 | 1.9 $\\times\\ 10^{27}$ |\n",
        "| Saturno | 60268 | 5.688 $\\times\\ 10^{26}$ |\n",
        "| Urano | 25559 | 8.686 $\\times\\ 10^{25}$ |\n",
        "| Neptuno | 24746 | 1.024 $\\times\\ 10^{26}$ |\n",
        "\n",
        "Se debe hacer un programa que almacene la información de los planetas del sistema solar en un diccionario, de modo que usuario ingrese su masa y el planeta en el cual desea calcular su peso. El programa también debe dar la opción de calcular y mostrar el peso relativo del usuario en todos los otros planetas, es decir, cuál es su peso en otro planeta respecto al seleccionado inicialmente."
      ]
    },
    {
      "cell_type": "code",
      "execution_count": null,
      "id": "e6e49e04",
      "metadata": {
        "id": "e6e49e04"
      },
      "outputs": [],
      "source": [
        "# -----------------------------\n",
        "# Inicialización de variables:\n",
        "# -----------------------------\n",
        "G = 6.672e-11                               # Constante de gravitación universal [N m² / kg²]\n",
        "# Diccionario con los datos de los planetas: planeta:[radio[km], masa[kg]]\n",
        "datos_planetas_ss = {'Sol':[695000, 1.989e+30], 'Mercurio':[2439.7, 3.303e+23], 'Venus':[6051.8,4.869e+24],\n",
        "                    'Tierra':[6378.14, 5.976e+24], 'Marte':[3397.2, 6.421e+23], 'Júpiter':[71492, 1.9e+27],\n",
        "                    'Saturno':[60268, 5.688e+26], 'Urano':[25559, 8.686e+25], 'Neptuno':[24746, 1.024e+26]}\n",
        "F_rel = {}\n",
        "\n",
        "# -----------------------------\n",
        "# Entradas\n",
        "# -----------------------------\n",
        "m = float(input('Ingrese su masa en kg:    '))\n",
        "planeta = input('¿En cuál planeta del sistema solar desea conocer la fuerza gravitacional?:    ').lower()\n",
        "planeta = planeta[0].upper() + planeta[1:]    # Correción para coincidir con las claves del diccionario\n",
        "\n",
        "# -----------------------------\n",
        "# Procesos\n",
        "# -----------------------------\n",
        "r_p = datos_planetas_ss[planeta][0] * 1000        # Radio ecuatorial del planeta [m]\n",
        "M_p = datos_planetas_ss[planeta][1]               # Masa del planeta [kg]\n",
        "F_p = (G * m * M_p) / (r_p ** 2)\n",
        "\n",
        "# -----------------------------\n",
        "# Salidas\n",
        "# -----------------------------\n",
        "print('\\nEn el planeta %s usted sentirá una fuerza gravitacional de %.2e [N]' % (planeta, F_p))\n",
        "\n",
        "# Comparación entre los planetas del sistema solar\n",
        "todos = input('\\n¿Desea conocer la fuerza en los demás planetas con respecto al planeta ' + planeta + '? SI/NO:    ')\n",
        "if todos.lower() == 'si':\n",
        "    print('\\nPlaneta', 'Fuerza relativa al planeta ' + planeta, sep='\\t'*2)\n",
        "    print('-'*50)\n",
        "    for clave in datos_planetas_ss.keys():\n",
        "        r = datos_planetas_ss[clave][0] * 1000        # Radio ecuatorial del planea [m]\n",
        "        M = datos_planetas_ss[clave][1]               # Masa del planeta [kg]\n",
        "        F = (G * m * M) / (r ** 2)                    # Fuerza gravitacional en cada planeta\n",
        "        F_rel[clave] = F / F_p                        # Fuerza gravitacional realtiva al planeta seleccionado\n",
        "        if clave == 'Mercurio':\n",
        "            print(clave, format(F_rel[clave], '.2f'), sep='\\t')\n",
        "        else:\n",
        "            print(clave, format(F_rel[clave], '.2f'), sep='\\t'*2)"
      ]
    }
  ],
  "metadata": {
    "colab": {
      "collapsed_sections": [
        "1219da11"
      ],
      "provenance": [],
      "toc_visible": true
    },
    "kernelspec": {
      "display_name": "Python (Pyodide)",
      "language": "python",
      "name": "python"
    },
    "language_info": {
      "codemirror_mode": {
        "name": "python",
        "version": 3
      },
      "file_extension": ".py",
      "mimetype": "text/x-python",
      "name": "python",
      "nbconvert_exporter": "python",
      "pygments_lexer": "ipython3",
      "version": "3.8"
    }
  },
  "nbformat": 4,
  "nbformat_minor": 5
}
