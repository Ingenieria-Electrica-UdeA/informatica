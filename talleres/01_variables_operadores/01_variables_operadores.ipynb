{
  "cells": [
    {
      "cell_type": "markdown",
      "metadata": {},
      "source": [
        "<a href=\"https://colab.research.google.com/github/Ingenieria-Electrica-UdeA/informatica/blob/main/talleres/01_variables_operadores/01_variables_operadores.ipynb\" target=\"_blank\">\n",
        "    <img src=\"https://colab.research.google.com/assets/colab-badge.svg\" alt=\"Open In Colab\"/>\n",
        "</a>\n"
      ]
    },
    {
      "cell_type": "markdown",
      "metadata": {
        "id": "uUJcCULSQPLF"
      },
      "source": [
        "<font color='056938'> **Variables** </font><br>\n",
        "<font color='FFFFFF'>Una variable es un contenedor de datos, en términos de computación es un espacio reservado en la memoria del computador para almacenar un dato que puede ser usado o modificado tantas veces como desee.</font>"
      ]
    },
    {
      "cell_type": "code",
      "execution_count": 4,
      "metadata": {
        "id": "paRfOYGxP-Uv"
      },
      "outputs": [],
      "source": [
        "variable_booleana=True\n",
        "variable_entera=50\n",
        "variable_flotante=85.1924\n",
        "variable_string=\"Hola mundo\""
      ]
    },
    {
      "cell_type": "code",
      "execution_count": null,
      "metadata": {
        "colab": {
          "base_uri": "https://localhost:8080/"
        },
        "id": "xExKOylvRw4V",
        "outputId": "3661c08d-9008-48c0-f54d-a1aefed41be9"
      },
      "outputs": [],
      "source": [
        "print(type(variable_booleana))\n",
        "print(type(variable_entera))\n",
        "print(type(variable_flotante))\n",
        "print(type(variable_string))"
      ]
    },
    {
      "cell_type": "code",
      "execution_count": null,
      "metadata": {
        "colab": {
          "base_uri": "https://localhost:8080/",
          "height": 448
        },
        "id": "W0ROaoV3SPxN",
        "outputId": "61bc0274-69e7-4126-e12e-aa4099bef25e"
      },
      "outputs": [],
      "source": [
        "import numpy as np\n",
        "import matplotlib.pyplot as plt\n",
        "m=2\n",
        "x=np.linspace(0, 20, 100)\n",
        "b=10\n",
        "y=m*x+b\n",
        "plt.plot(x,y)"
      ]
    },
    {
      "cell_type": "code",
      "execution_count": null,
      "metadata": {
        "colab": {
          "base_uri": "https://localhost:8080/"
        },
        "id": "VtuXB4b7S3B9",
        "outputId": "5e4e0e0d-d31b-4b11-d8de-f997943741eb"
      },
      "outputs": [],
      "source": [
        "x"
      ]
    },
    {
      "cell_type": "code",
      "execution_count": null,
      "metadata": {
        "colab": {
          "base_uri": "https://localhost:8080/"
        },
        "id": "vYVk-Yq3S6PN",
        "outputId": "305a8b39-1a7d-4ff2-cca0-176cb94465cc"
      },
      "outputs": [],
      "source": [
        "y"
      ]
    },
    {
      "cell_type": "markdown",
      "metadata": {
        "id": "eQiOv--ETS19"
      },
      "source": [
        "<font color='056938'> **Operadores aritméticos** </font><br>"
      ]
    },
    {
      "cell_type": "code",
      "execution_count": 19,
      "metadata": {
        "id": "yFfk2xR_TR_n"
      },
      "outputs": [],
      "source": [
        "numero1=50\n",
        "numero2=8"
      ]
    },
    {
      "cell_type": "code",
      "execution_count": 20,
      "metadata": {
        "id": "nhUBi1_qTn_t"
      },
      "outputs": [],
      "source": [
        "suma=numero1+numero2\n",
        "resta=numero1-numero2\n",
        "multiplicacion=numero1*numero2\n",
        "division=numero1/numero2\n",
        "potenciacion=numero1**numero2"
      ]
    },
    {
      "cell_type": "code",
      "execution_count": null,
      "metadata": {
        "colab": {
          "base_uri": "https://localhost:8080/"
        },
        "id": "DSyuNboiUAEO",
        "outputId": "ec6fed45-0006-4ad2-9cbd-1c808125fdac"
      },
      "outputs": [],
      "source": [
        "print(f\"La suma entre {numero1} y {numero2} es: {suma}\")\n",
        "print(f\"La resta entre {numero1} y {numero2} es: {resta}\")\n",
        "print(f\"La multiplicacion entre {numero1} y {numero2} es: {multiplicacion}\")\n",
        "print(f\"La division entre {numero1} y {numero2} es: {division}\")\n",
        "print(f\"{numero1} elevado a {numero2} es: {potenciacion}\")"
      ]
    },
    {
      "cell_type": "code",
      "execution_count": 24,
      "metadata": {
        "id": "uDjRIX6XUdFG"
      },
      "outputs": [],
      "source": [
        "division_entera=numero1//numero2\n",
        "modulo=numero1%numero2"
      ]
    },
    {
      "cell_type": "code",
      "execution_count": null,
      "metadata": {
        "colab": {
          "base_uri": "https://localhost:8080/"
        },
        "id": "DXJVj1GZUmwN",
        "outputId": "f33dacd9-9637-4d35-f227-4ef041a8a8ee"
      },
      "outputs": [],
      "source": [
        "print(f\"La division entera entre {numero1} y {numero2} es: {division_entera}\")\n",
        "print(f\"El modulo entre {numero1} y {numero2} es: {modulo}\")"
      ]
    },
    {
      "cell_type": "markdown",
      "metadata": {
        "id": "zEbVpRvBU0dm"
      },
      "source": [
        "<font color='056938'> **Jerarquía** </font><br>"
      ]
    },
    {
      "cell_type": "code",
      "execution_count": null,
      "metadata": {
        "colab": {
          "base_uri": "https://localhost:8080/"
        },
        "id": "9R7vgpQMUzMN",
        "outputId": "10f06e48-9d97-415c-bec3-0c132fb3bd6b"
      },
      "outputs": [],
      "source": [
        "x=10\n",
        "3*(x**2)+3*(2**4)-(20*(12-8))**2"
      ]
    },
    {
      "cell_type": "code",
      "execution_count": null,
      "metadata": {
        "colab": {
          "base_uri": "https://localhost:8080/"
        },
        "id": "q3Z0oeiBVOxG",
        "outputId": "2e1edca2-9bd3-41ab-e0ab-335b08fe80af"
      },
      "outputs": [],
      "source": [
        "3*(x**2)+3*(2**4)-(20*4)**2"
      ]
    },
    {
      "cell_type": "code",
      "execution_count": null,
      "metadata": {
        "colab": {
          "base_uri": "https://localhost:8080/"
        },
        "id": "WquuuoJqVoaN",
        "outputId": "bbd983f6-d81d-4ee4-b3e9-998e252407ab"
      },
      "outputs": [],
      "source": [
        "3*(x**2)+(3*16)-(80**2)"
      ]
    },
    {
      "cell_type": "code",
      "execution_count": null,
      "metadata": {
        "colab": {
          "base_uri": "https://localhost:8080/"
        },
        "id": "gTvhfu3jVxuv",
        "outputId": "3bb127d8-f011-4c41-ab92-ec69fdf39b50"
      },
      "outputs": [],
      "source": [
        "3*(x**2)+(48)-(6400)"
      ]
    },
    {
      "cell_type": "code",
      "execution_count": null,
      "metadata": {
        "colab": {
          "base_uri": "https://localhost:8080/"
        },
        "id": "NmWhWgWUV5aG",
        "outputId": "1e4437ef-3cfa-45fe-f12e-cebfd69058a1"
      },
      "outputs": [],
      "source": [
        "3*(x**2)-6352"
      ]
    },
    {
      "cell_type": "code",
      "execution_count": null,
      "metadata": {
        "colab": {
          "base_uri": "https://localhost:8080/"
        },
        "id": "bblb-J0FWAhu",
        "outputId": "e5a665b2-5260-4652-8ce1-911876921017"
      },
      "outputs": [],
      "source": [
        "3*x**2-6352"
      ]
    },
    {
      "cell_type": "markdown",
      "metadata": {
        "id": "QB7Chq_vWNB-"
      },
      "source": [
        "<font color='056938'> **Operadores de comparación** </font><br>"
      ]
    },
    {
      "cell_type": "code",
      "execution_count": 44,
      "metadata": {
        "id": "Scr4tNE4WQGv"
      },
      "outputs": [],
      "source": [
        "numero3=45\n",
        "numero4=5\n",
        "numero5=5"
      ]
    },
    {
      "cell_type": "code",
      "execution_count": null,
      "metadata": {
        "colab": {
          "base_uri": "https://localhost:8080/"
        },
        "id": "lWNjomzQWcum",
        "outputId": "07b9c0d9-f795-45e7-d5af-f7eb909e9e2d"
      },
      "outputs": [],
      "source": [
        "print(f\"{numero4}=={numero5}\",numero4==numero5)\n",
        "print(f\"{numero3}!={numero4}\",numero3!=numero4)\n",
        "print(f\"{numero4}>{numero3}\",numero4>numero3)\n",
        "print(f\"{numero4}<{numero3}\",numero4<numero3)\n",
        "print(f\"{numero5}>={numero4}\",numero5>=numero4)\n",
        "print(f\"{numero3}<={numero4}\",numero3<=numero4)"
      ]
    },
    {
      "cell_type": "markdown",
      "metadata": {
        "id": "gowCgW_5Xk3m"
      },
      "source": [
        "<font color='056938'> **Operadores lógicos** </font><br>"
      ]
    },
    {
      "cell_type": "code",
      "execution_count": 57,
      "metadata": {
        "id": "FaSUWppOXrrO"
      },
      "outputs": [],
      "source": [
        "verdadero=True\n",
        "falso=False"
      ]
    },
    {
      "cell_type": "code",
      "execution_count": null,
      "metadata": {
        "colab": {
          "base_uri": "https://localhost:8080/"
        },
        "id": "REE1SZzyXwMu",
        "outputId": "c19da939-3165-4d54-9687-18270ce2ce5e"
      },
      "outputs": [],
      "source": [
        "print(\"Verdadero y falso: \",verdadero and falso)\n",
        "print(\"Verdadero o falso\",verdadero or falso)\n",
        "print(\"No verdadero:\", not verdadero)\n",
        "print(\"No falso:\", not falso)"
      ]
    },
    {
      "cell_type": "markdown",
      "metadata": {
        "id": "UrTZ-6i7YVZH"
      },
      "source": [
        "<font color='056938'> **Funciones** </font><br>"
      ]
    },
    {
      "cell_type": "code",
      "execution_count": null,
      "metadata": {
        "colab": {
          "base_uri": "https://localhost:8080/"
        },
        "id": "TaeCsqh5Yiqv",
        "outputId": "71a775df-851f-41be-e8f8-4e2c7f38e682"
      },
      "outputs": [],
      "source": [
        "print(\"abs(-4)=\",abs(-4))\n",
        "print(\"divmod(30,4)=\",divmod(30,4))\n",
        "print(\"pow(8,3)=\",pow(8,3))\n",
        "print(\"round(258.78965,3)=\",round(258.78965,3))"
      ]
    },
    {
      "cell_type": "code",
      "execution_count": null,
      "metadata": {
        "colab": {
          "base_uri": "https://localhost:8080/"
        },
        "id": "dVSPt2mDYui_",
        "outputId": "7c22a561-619c-4e20-aeef-238043188928"
      },
      "outputs": [],
      "source": [
        "notas_informatica=np.random.randint(0, 6, size=20)\n",
        "notas_informatica"
      ]
    },
    {
      "cell_type": "code",
      "execution_count": null,
      "metadata": {
        "colab": {
          "base_uri": "https://localhost:8080/"
        },
        "id": "Ui6Z_e3IZUcX",
        "outputId": "8301a623-fb14-4aba-b06c-30d88c493f89"
      },
      "outputs": [],
      "source": [
        "print(\"max(notas_informatica)=\",max(notas_informatica))\n",
        "print(\"min(notas_informatica)=\",min(notas_informatica))"
      ]
    },
    {
      "cell_type": "markdown",
      "metadata": {
        "id": "yW86JGV-Z64f"
      },
      "source": [
        "<font color='056938'> **Operadores de asignación** </font><br>"
      ]
    },
    {
      "cell_type": "code",
      "execution_count": null,
      "metadata": {
        "colab": {
          "base_uri": "https://localhost:8080/"
        },
        "id": "mfIv7FmuZ-Hf",
        "outputId": "91842346-6a5a-4d39-d36a-c63ceb7d6b9a"
      },
      "outputs": [],
      "source": [
        "a=5\n",
        "print(a)"
      ]
    },
    {
      "cell_type": "code",
      "execution_count": null,
      "metadata": {
        "colab": {
          "base_uri": "https://localhost:8080/"
        },
        "id": "O3wDUBlPaDiA",
        "outputId": "926bf144-7827-4a5f-887d-439db13135fa"
      },
      "outputs": [],
      "source": [
        "b=5\n",
        "b+=9\n",
        "print(b)"
      ]
    },
    {
      "cell_type": "code",
      "execution_count": null,
      "metadata": {
        "colab": {
          "base_uri": "https://localhost:8080/"
        },
        "id": "o47bAqf_aeSQ",
        "outputId": "d6e34ff5-9fed-40c8-ee8b-12e1d29e0c38"
      },
      "outputs": [],
      "source": [
        "c=5\n",
        "c-=8\n",
        "print(c)"
      ]
    },
    {
      "cell_type": "code",
      "execution_count": null,
      "metadata": {
        "colab": {
          "base_uri": "https://localhost:8080/"
        },
        "id": "4Zk3oiHlat4n",
        "outputId": "48d99593-ecf3-4675-cbd0-38046bd65d5f"
      },
      "outputs": [],
      "source": [
        "d=5\n",
        "d*=8\n",
        "print(d)"
      ]
    },
    {
      "cell_type": "code",
      "execution_count": null,
      "metadata": {
        "colab": {
          "base_uri": "https://localhost:8080/"
        },
        "id": "G96WPkxcaxyv",
        "outputId": "976e8e5a-75a9-42f6-e359-337abfe21d22"
      },
      "outputs": [],
      "source": [
        "e=5\n",
        "e/=2.5\n",
        "print(e)"
      ]
    },
    {
      "cell_type": "code",
      "execution_count": null,
      "metadata": {
        "colab": {
          "base_uri": "https://localhost:8080/"
        },
        "id": "31VoaFnba28_",
        "outputId": "ab717b64-ac26-4949-f71b-1465c5d4b0f5"
      },
      "outputs": [],
      "source": [
        "f=5\n",
        "f%=2.5\n",
        "print(f)"
      ]
    },
    {
      "cell_type": "code",
      "execution_count": null,
      "metadata": {
        "colab": {
          "base_uri": "https://localhost:8080/"
        },
        "id": "eN9Xob3JbB_X",
        "outputId": "3e714abe-66f0-4cf1-d3ec-fd89fe4aa5af"
      },
      "outputs": [],
      "source": [
        "g=5\n",
        "g//=2\n",
        "print(g)"
      ]
    },
    {
      "cell_type": "code",
      "execution_count": null,
      "metadata": {
        "colab": {
          "base_uri": "https://localhost:8080/"
        },
        "id": "PFVwBjGvcLuv",
        "outputId": "6dcee22d-8085-41db-a20c-a83a74e0e2dd"
      },
      "outputs": [],
      "source": [
        "h=4\n",
        "h**=3\n",
        "print(h)"
      ]
    },
    {
      "cell_type": "code",
      "execution_count": null,
      "metadata": {
        "colab": {
          "base_uri": "https://localhost:8080/"
        },
        "id": "8oj75pymcTMg",
        "outputId": "7832f95f-d5c4-4566-f367-2dddf3c6994a"
      },
      "outputs": [],
      "source": [
        "i=True\n",
        "i&=False\n",
        "print(i)"
      ]
    },
    {
      "cell_type": "code",
      "execution_count": null,
      "metadata": {
        "colab": {
          "base_uri": "https://localhost:8080/"
        },
        "id": "ZtSbs75oceNi",
        "outputId": "49e78bfd-e1fe-4e79-821a-7a81b8a70ee6"
      },
      "outputs": [],
      "source": [
        "j=True\n",
        "j|=False\n",
        "print(j)"
      ]
    },
    {
      "cell_type": "code",
      "execution_count": null,
      "metadata": {
        "colab": {
          "base_uri": "https://localhost:8080/"
        },
        "id": "qS7zigLjcqyX",
        "outputId": "d0149939-8ada-459d-9251-977115c390d1"
      },
      "outputs": [],
      "source": [
        "valor_ingresado=input (\"Ingrese algo: \")"
      ]
    },
    {
      "cell_type": "code",
      "execution_count": null,
      "metadata": {
        "colab": {
          "base_uri": "https://localhost:8080/"
        },
        "id": "JRVr2gOHcuyw",
        "outputId": "7288317e-ba03-45bb-b479-07c47c4b5cc7"
      },
      "outputs": [],
      "source": [
        "type(valor_ingresado)"
      ]
    },
    {
      "cell_type": "code",
      "execution_count": null,
      "metadata": {
        "colab": {
          "base_uri": "https://localhost:8080/"
        },
        "id": "TW950PIPc9YH",
        "outputId": "2945396e-06de-4e77-ead3-ac214aa54ede"
      },
      "outputs": [],
      "source": [
        "numero_ingresado=int(input(\"Ingrese algo: \"))"
      ]
    },
    {
      "cell_type": "code",
      "execution_count": null,
      "metadata": {
        "colab": {
          "base_uri": "https://localhost:8080/"
        },
        "id": "i7xYun2wdC-P",
        "outputId": "0072fdc3-9f2d-42b7-9354-d923b38ad10e"
      },
      "outputs": [],
      "source": [
        "type(8)"
      ]
    },
    {
      "cell_type": "code",
      "execution_count": null,
      "metadata": {
        "colab": {
          "base_uri": "https://localhost:8080/"
        },
        "id": "W402HaaWdSQB",
        "outputId": "301419d8-1aa9-4501-f3f8-ac1ce1403185"
      },
      "outputs": [],
      "source": [
        "try:\n",
        "    numero_ingresado = int(input(\"Ingrese un número entero mayor que 0: \"))\n",
        "    if numero_ingresado <= 0:\n",
        "        raise ValueError(\"El número ingresado debe ser mayor que 0\")\n",
        "except ValueError:\n",
        "    print(\"Error: Debe ingresar un número mayor que 0.\")\n"
      ]
    }
  ],
  "metadata": {
    "colab": {
      "provenance": []
    },
    "kernelspec": {
      "display_name": "Python 3",
      "name": "python3"
    },
    "language_info": {
      "name": "python"
    }
  },
  "nbformat": 4,
  "nbformat_minor": 0
}
